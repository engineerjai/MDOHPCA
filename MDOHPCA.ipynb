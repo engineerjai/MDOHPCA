{
 "cells": [
  {
   "cell_type": "code",
   "execution_count": 46,
   "id": "8c305589",
   "metadata": {},
   "outputs": [],
   "source": [
    "\n",
    "#    Multi-Disciplinary Design Optimisation of a Hydrogen Powered Commercial Aircraft (MDOHPCA)\n",
    "#    this is the master file that runs each of the individual disciplines \n",
    "#    It sets up each of the analyses, then converts it into an openMDAO problem with a certain structure, then solves for minimum mass\n",
    "\n"
   ]
  },
  {
   "cell_type": "code",
   "execution_count": 1,
   "id": "069bf40a",
   "metadata": {},
   "outputs": [],
   "source": [
    "import openmdao.api as om\n",
    "import pandas as pd\n",
    "import numpy as np"
   ]
  },
  {
   "cell_type": "code",
   "execution_count": 2,
   "id": "a91e9074",
   "metadata": {},
   "outputs": [],
   "source": [
    "class MDOHPCA(om.Group):\n",
    "    \"\"\"\n",
    "    Top level group containing the MDO.\n",
    "    \"\"\"\n",
    "    def setup(self):\n",
    "        \"\"\"\n",
    "        set up each person's disciplines that can contain analyses\n",
    "        \"\"\"\n",
    "        self.add_subsystem('aero', aero())\n",
    "        self.add_subsystem('struct', struct())\n",
    "        self.add_subsystem('sys', sys())\n",
    "        self.add_subsystem('stab', stab()) \n",
    "        \n"
   ]
  },
  {
   "cell_type": "code",
   "execution_count": 3,
   "id": "4cb57483",
   "metadata": {},
   "outputs": [],
   "source": [
    "%run aero/aerosetup.ipynb\n",
    "%run struct/structsetup.ipynb\n",
    "%run stab/stabsetup.ipynb\n",
    "%run systems/systemssetup.ipynb"
   ]
  },
  {
   "cell_type": "code",
   "execution_count": 4,
   "id": "9bc13d80",
   "metadata": {},
   "outputs": [],
   "source": [
    "prob = om.Problem(model = MDOHPCA())"
   ]
  },
  {
   "cell_type": "code",
   "execution_count": 5,
   "id": "4499124e",
   "metadata": {},
   "outputs": [],
   "source": [
    "prob.driver = om.ScipyOptimizeDriver()\n",
    "prob.driver.options['optimizer'] = 'SLSQP'\n",
    "# prob.driver.options['maxiter'] = 100\n",
    "prob.driver.options['tol'] = 1e-8"
   ]
  },
  {
   "cell_type": "code",
   "execution_count": 6,
   "id": "ba356f4d",
   "metadata": {},
   "outputs": [
    {
     "data": {
      "text/plain": [
       "<openmdao.core.problem.Problem at 0x248c9b55640>"
      ]
     },
     "execution_count": 6,
     "metadata": {},
     "output_type": "execute_result"
    }
   ],
   "source": [
    "prob.setup()"
   ]
  },
  {
   "cell_type": "code",
   "execution_count": 7,
   "id": "26617261",
   "metadata": {},
   "outputs": [
    {
     "ename": "KeyError",
     "evalue": "'\\'sys.fuel_masses\\' <class fuel_masses>: Error calling compute(), \"\\'sys.fuel_masses\\' <class fuel_masses>: Option \\'\\' has not been declared.\"'",
     "output_type": "error",
     "traceback": [
      "\u001b[1;31m---------------------------------------------------------------------------\u001b[0m",
      "\u001b[1;31mKeyError\u001b[0m                                  Traceback (most recent call last)",
      "File \u001b[1;32m~\\anaconda3\\envs\\MDOHPCA\\lib\\site-packages\\openmdao\\utils\\options_dictionary.py:506\u001b[0m, in \u001b[0;36mOptionsDictionary.__getitem__\u001b[1;34m(self, name)\u001b[0m\n\u001b[0;32m    505\u001b[0m \u001b[38;5;28;01mtry\u001b[39;00m:\n\u001b[1;32m--> 506\u001b[0m     meta \u001b[38;5;241m=\u001b[39m \u001b[38;5;28;43mself\u001b[39;49m\u001b[38;5;241;43m.\u001b[39;49m\u001b[43m_dict\u001b[49m\u001b[43m[\u001b[49m\u001b[43mname\u001b[49m\u001b[43m]\u001b[49m\n\u001b[0;32m    507\u001b[0m \u001b[38;5;28;01mexcept\u001b[39;00m \u001b[38;5;167;01mKeyError\u001b[39;00m:\n",
      "\u001b[1;31mKeyError\u001b[0m: ''",
      "\nDuring handling of the above exception, another exception occurred:\n",
      "\u001b[1;31mKeyError\u001b[0m                                  Traceback (most recent call last)",
      "File \u001b[1;32m~\\anaconda3\\envs\\MDOHPCA\\lib\\site-packages\\openmdao\\core\\system.py:2958\u001b[0m, in \u001b[0;36mSystem._call_user_function\u001b[1;34m(self, fname, protect_inputs, protect_outputs, protect_residuals)\u001b[0m\n\u001b[0;32m   2957\u001b[0m \u001b[38;5;28;01mtry\u001b[39;00m:\n\u001b[1;32m-> 2958\u001b[0m     \u001b[38;5;28;01myield\u001b[39;00m\n\u001b[0;32m   2959\u001b[0m \u001b[38;5;28;01mexcept\u001b[39;00m \u001b[38;5;167;01mException\u001b[39;00m:\n",
      "File \u001b[1;32m~\\anaconda3\\envs\\MDOHPCA\\lib\\site-packages\\openmdao\\core\\explicitcomponent.py:291\u001b[0m, in \u001b[0;36mExplicitComponent._compute_wrapper\u001b[1;34m(self)\u001b[0m\n\u001b[0;32m    290\u001b[0m \u001b[38;5;28;01melse\u001b[39;00m:\n\u001b[1;32m--> 291\u001b[0m     \u001b[38;5;28;43mself\u001b[39;49m\u001b[38;5;241;43m.\u001b[39;49m\u001b[43mcompute\u001b[49m\u001b[43m(\u001b[49m\u001b[38;5;28;43mself\u001b[39;49m\u001b[38;5;241;43m.\u001b[39;49m\u001b[43m_inputs\u001b[49m\u001b[43m,\u001b[49m\u001b[43m \u001b[49m\u001b[38;5;28;43mself\u001b[39;49m\u001b[38;5;241;43m.\u001b[39;49m\u001b[43m_outputs\u001b[49m\u001b[43m)\u001b[49m\n",
      "File \u001b[1;32m~\\AppData\\Local\\Temp\\ipykernel_9140\\3310261149.py:8\u001b[0m, in \u001b[0;36mfuel_masses.compute\u001b[1;34m(self, inputs, outputs)\u001b[0m\n\u001b[0;32m      7\u001b[0m \u001b[38;5;28;01mdef\u001b[39;00m \u001b[38;5;21mcompute\u001b[39m(\u001b[38;5;28mself\u001b[39m,inputs,outputs):\n\u001b[1;32m----> 8\u001b[0m     Is \u001b[38;5;241m=\u001b[39m \u001b[38;5;28;43mself\u001b[39;49m\u001b[38;5;241;43m.\u001b[39;49m\u001b[43moptions\u001b[49m\u001b[43m[\u001b[49m\u001b[38;5;124;43m'\u001b[39;49m\u001b[38;5;124;43m'\u001b[39;49m\u001b[43m]\u001b[49m\n\u001b[0;32m     10\u001b[0m     outputs[\u001b[38;5;124m'\u001b[39m\u001b[38;5;124msys_CG\u001b[39m\u001b[38;5;124m'\u001b[39m] \u001b[38;5;241m=\u001b[39m \u001b[38;5;241m2\u001b[39m\u001b[38;5;241m*\u001b[39mIs\n",
      "File \u001b[1;32m~\\anaconda3\\envs\\MDOHPCA\\lib\\site-packages\\openmdao\\utils\\options_dictionary.py:508\u001b[0m, in \u001b[0;36mOptionsDictionary.__getitem__\u001b[1;34m(self, name)\u001b[0m\n\u001b[0;32m    507\u001b[0m \u001b[38;5;28;01mexcept\u001b[39;00m \u001b[38;5;167;01mKeyError\u001b[39;00m:\n\u001b[1;32m--> 508\u001b[0m     \u001b[38;5;28;43mself\u001b[39;49m\u001b[38;5;241;43m.\u001b[39;49m\u001b[43m_raise\u001b[49m\u001b[43m(\u001b[49m\u001b[38;5;124;43mf\u001b[39;49m\u001b[38;5;124;43m\"\u001b[39;49m\u001b[38;5;124;43mOption \u001b[39;49m\u001b[38;5;124;43m'\u001b[39;49m\u001b[38;5;132;43;01m{\u001b[39;49;00m\u001b[43mname\u001b[49m\u001b[38;5;132;43;01m}\u001b[39;49;00m\u001b[38;5;124;43m'\u001b[39;49m\u001b[38;5;124;43m has not been declared.\u001b[39;49m\u001b[38;5;124;43m\"\u001b[39;49m\u001b[43m,\u001b[49m\u001b[43m \u001b[49m\u001b[43mexc_type\u001b[49m\u001b[38;5;241;43m=\u001b[39;49m\u001b[38;5;167;43;01mKeyError\u001b[39;49;00m\u001b[43m)\u001b[49m\n\u001b[0;32m    510\u001b[0m \u001b[38;5;28;01mif\u001b[39;00m meta[\u001b[38;5;124m'\u001b[39m\u001b[38;5;124mdeprecation\u001b[39m\u001b[38;5;124m'\u001b[39m] \u001b[38;5;129;01mis\u001b[39;00m \u001b[38;5;129;01mnot\u001b[39;00m \u001b[38;5;28;01mNone\u001b[39;00m:\n",
      "File \u001b[1;32m~\\anaconda3\\envs\\MDOHPCA\\lib\\site-packages\\openmdao\\utils\\options_dictionary.py:243\u001b[0m, in \u001b[0;36mOptionsDictionary._raise\u001b[1;34m(self, msg, exc_type)\u001b[0m\n\u001b[0;32m    242\u001b[0m     full_msg \u001b[38;5;241m=\u001b[39m \u001b[38;5;124m'\u001b[39m\u001b[38;5;132;01m{}\u001b[39;00m\u001b[38;5;124m: \u001b[39m\u001b[38;5;132;01m{}\u001b[39;00m\u001b[38;5;124m'\u001b[39m\u001b[38;5;241m.\u001b[39mformat(\u001b[38;5;28mself\u001b[39m\u001b[38;5;241m.\u001b[39m_parent_name, msg)\n\u001b[1;32m--> 243\u001b[0m \u001b[38;5;28;01mraise\u001b[39;00m exc_type(full_msg)\n",
      "\u001b[1;31mKeyError\u001b[0m: \"'sys.fuel_masses' <class fuel_masses>: Option '' has not been declared.\"",
      "\nDuring handling of the above exception, another exception occurred:\n",
      "\u001b[1;31mKeyError\u001b[0m                                  Traceback (most recent call last)",
      "Cell \u001b[1;32mIn [7], line 1\u001b[0m\n\u001b[1;32m----> 1\u001b[0m \u001b[43mprob\u001b[49m\u001b[38;5;241;43m.\u001b[39;49m\u001b[43mrun_model\u001b[49m\u001b[43m(\u001b[49m\u001b[43m)\u001b[49m\n",
      "File \u001b[1;32m~\\anaconda3\\envs\\MDOHPCA\\lib\\site-packages\\openmdao\\core\\problem.py:848\u001b[0m, in \u001b[0;36mProblem.run_model\u001b[1;34m(self, case_prefix, reset_iter_counts)\u001b[0m\n\u001b[0;32m    845\u001b[0m     record_model_options(\u001b[38;5;28mself\u001b[39m, \u001b[38;5;28mself\u001b[39m\u001b[38;5;241m.\u001b[39m_run_counter)\n\u001b[0;32m    847\u001b[0m     \u001b[38;5;28mself\u001b[39m\u001b[38;5;241m.\u001b[39mmodel\u001b[38;5;241m.\u001b[39m_clear_iprint()\n\u001b[1;32m--> 848\u001b[0m     \u001b[38;5;28;43mself\u001b[39;49m\u001b[38;5;241;43m.\u001b[39;49m\u001b[43mmodel\u001b[49m\u001b[38;5;241;43m.\u001b[39;49m\u001b[43mrun_solve_nonlinear\u001b[49m\u001b[43m(\u001b[49m\u001b[43m)\u001b[49m\n\u001b[0;32m    849\u001b[0m \u001b[38;5;28;01mfinally\u001b[39;00m:\n\u001b[0;32m    850\u001b[0m     \u001b[38;5;28mself\u001b[39m\u001b[38;5;241m.\u001b[39m_recording_iter\u001b[38;5;241m.\u001b[39mprefix \u001b[38;5;241m=\u001b[39m old_prefix\n",
      "File \u001b[1;32m~\\anaconda3\\envs\\MDOHPCA\\lib\\site-packages\\openmdao\\core\\system.py:4678\u001b[0m, in \u001b[0;36mSystem.run_solve_nonlinear\u001b[1;34m(self)\u001b[0m\n\u001b[0;32m   4672\u001b[0m \u001b[38;5;124;03m\"\"\"\u001b[39;00m\n\u001b[0;32m   4673\u001b[0m \u001b[38;5;124;03mCompute outputs.\u001b[39;00m\n\u001b[0;32m   4674\u001b[0m \n\u001b[0;32m   4675\u001b[0m \u001b[38;5;124;03mThis calls _solve_nonlinear, but with the model assumed to be in an unscaled state.\u001b[39;00m\n\u001b[0;32m   4676\u001b[0m \u001b[38;5;124;03m\"\"\"\u001b[39;00m\n\u001b[0;32m   4677\u001b[0m \u001b[38;5;28;01mwith\u001b[39;00m \u001b[38;5;28mself\u001b[39m\u001b[38;5;241m.\u001b[39m_scaled_context_all():\n\u001b[1;32m-> 4678\u001b[0m     \u001b[38;5;28;43mself\u001b[39;49m\u001b[38;5;241;43m.\u001b[39;49m\u001b[43m_solve_nonlinear\u001b[49m\u001b[43m(\u001b[49m\u001b[43m)\u001b[49m\n",
      "File \u001b[1;32m~\\anaconda3\\envs\\MDOHPCA\\lib\\site-packages\\openmdao\\core\\group.py:2538\u001b[0m, in \u001b[0;36mGroup._solve_nonlinear\u001b[1;34m(self)\u001b[0m\n\u001b[0;32m   2535\u001b[0m name \u001b[38;5;241m=\u001b[39m \u001b[38;5;28mself\u001b[39m\u001b[38;5;241m.\u001b[39mpathname \u001b[38;5;28;01mif\u001b[39;00m \u001b[38;5;28mself\u001b[39m\u001b[38;5;241m.\u001b[39mpathname \u001b[38;5;28;01melse\u001b[39;00m \u001b[38;5;124m'\u001b[39m\u001b[38;5;124mroot\u001b[39m\u001b[38;5;124m'\u001b[39m\n\u001b[0;32m   2537\u001b[0m \u001b[38;5;28;01mwith\u001b[39;00m Recording(name \u001b[38;5;241m+\u001b[39m \u001b[38;5;124m'\u001b[39m\u001b[38;5;124m._solve_nonlinear\u001b[39m\u001b[38;5;124m'\u001b[39m, \u001b[38;5;28mself\u001b[39m\u001b[38;5;241m.\u001b[39miter_count, \u001b[38;5;28mself\u001b[39m):\n\u001b[1;32m-> 2538\u001b[0m     \u001b[38;5;28;43mself\u001b[39;49m\u001b[38;5;241;43m.\u001b[39;49m\u001b[43m_nonlinear_solver\u001b[49m\u001b[38;5;241;43m.\u001b[39;49m\u001b[43m_solve_with_cache_check\u001b[49m\u001b[43m(\u001b[49m\u001b[43m)\u001b[49m\n",
      "File \u001b[1;32m~\\anaconda3\\envs\\MDOHPCA\\lib\\site-packages\\openmdao\\solvers\\nonlinear\\nonlinear_runonce.py:26\u001b[0m, in \u001b[0;36mNonlinearRunOnce._solve_with_cache_check\u001b[1;34m(self)\u001b[0m\n\u001b[0;32m     25\u001b[0m \u001b[38;5;28;01mdef\u001b[39;00m \u001b[38;5;21m_solve_with_cache_check\u001b[39m(\u001b[38;5;28mself\u001b[39m):\n\u001b[1;32m---> 26\u001b[0m     \u001b[38;5;28;43mself\u001b[39;49m\u001b[38;5;241;43m.\u001b[39;49m\u001b[43msolve\u001b[49m\u001b[43m(\u001b[49m\u001b[43m)\u001b[49m\n",
      "File \u001b[1;32m~\\anaconda3\\envs\\MDOHPCA\\lib\\site-packages\\openmdao\\solvers\\nonlinear\\nonlinear_runonce.py:45\u001b[0m, in \u001b[0;36mNonlinearRunOnce.solve\u001b[1;34m(self)\u001b[0m\n\u001b[0;32m     41\u001b[0m             subsys\u001b[38;5;241m.\u001b[39m_solve_nonlinear()\n\u001b[0;32m     43\u001b[0m \u001b[38;5;66;03m# If this is not a parallel group, transfer for each subsystem just prior to running it.\u001b[39;00m\n\u001b[0;32m     44\u001b[0m \u001b[38;5;28;01melse\u001b[39;00m:\n\u001b[1;32m---> 45\u001b[0m     \u001b[38;5;28;43mself\u001b[39;49m\u001b[38;5;241;43m.\u001b[39;49m\u001b[43m_gs_iter\u001b[49m\u001b[43m(\u001b[49m\u001b[43m)\u001b[49m\n\u001b[0;32m     47\u001b[0m rec\u001b[38;5;241m.\u001b[39mabs \u001b[38;5;241m=\u001b[39m \u001b[38;5;241m0.0\u001b[39m\n\u001b[0;32m     48\u001b[0m rec\u001b[38;5;241m.\u001b[39mrel \u001b[38;5;241m=\u001b[39m \u001b[38;5;241m0.0\u001b[39m\n",
      "File \u001b[1;32m~\\anaconda3\\envs\\MDOHPCA\\lib\\site-packages\\openmdao\\solvers\\solver.py:793\u001b[0m, in \u001b[0;36mNonlinearSolver._gs_iter\u001b[1;34m(self)\u001b[0m\n\u001b[0;32m    791\u001b[0m \u001b[38;5;28;01mif\u001b[39;00m subsys\u001b[38;5;241m.\u001b[39m_is_local:\n\u001b[0;32m    792\u001b[0m     \u001b[38;5;28;01mtry\u001b[39;00m:\n\u001b[1;32m--> 793\u001b[0m         \u001b[43msubsys\u001b[49m\u001b[38;5;241;43m.\u001b[39;49m\u001b[43m_solve_nonlinear\u001b[49m\u001b[43m(\u001b[49m\u001b[43m)\u001b[49m\n\u001b[0;32m    794\u001b[0m     \u001b[38;5;28;01mexcept\u001b[39;00m AnalysisError \u001b[38;5;28;01mas\u001b[39;00m err:\n\u001b[0;32m    795\u001b[0m         \u001b[38;5;28;01mif\u001b[39;00m \u001b[38;5;124m'\u001b[39m\u001b[38;5;124mreraise_child_analysiserror\u001b[39m\u001b[38;5;124m'\u001b[39m \u001b[38;5;129;01mnot\u001b[39;00m \u001b[38;5;129;01min\u001b[39;00m \u001b[38;5;28mself\u001b[39m\u001b[38;5;241m.\u001b[39moptions \u001b[38;5;129;01mor\u001b[39;00m \\\n\u001b[0;32m    796\u001b[0m                 \u001b[38;5;28mself\u001b[39m\u001b[38;5;241m.\u001b[39moptions[\u001b[38;5;124m'\u001b[39m\u001b[38;5;124mreraise_child_analysiserror\u001b[39m\u001b[38;5;124m'\u001b[39m]:\n",
      "File \u001b[1;32m~\\anaconda3\\envs\\MDOHPCA\\lib\\site-packages\\openmdao\\core\\group.py:2538\u001b[0m, in \u001b[0;36mGroup._solve_nonlinear\u001b[1;34m(self)\u001b[0m\n\u001b[0;32m   2535\u001b[0m name \u001b[38;5;241m=\u001b[39m \u001b[38;5;28mself\u001b[39m\u001b[38;5;241m.\u001b[39mpathname \u001b[38;5;28;01mif\u001b[39;00m \u001b[38;5;28mself\u001b[39m\u001b[38;5;241m.\u001b[39mpathname \u001b[38;5;28;01melse\u001b[39;00m \u001b[38;5;124m'\u001b[39m\u001b[38;5;124mroot\u001b[39m\u001b[38;5;124m'\u001b[39m\n\u001b[0;32m   2537\u001b[0m \u001b[38;5;28;01mwith\u001b[39;00m Recording(name \u001b[38;5;241m+\u001b[39m \u001b[38;5;124m'\u001b[39m\u001b[38;5;124m._solve_nonlinear\u001b[39m\u001b[38;5;124m'\u001b[39m, \u001b[38;5;28mself\u001b[39m\u001b[38;5;241m.\u001b[39miter_count, \u001b[38;5;28mself\u001b[39m):\n\u001b[1;32m-> 2538\u001b[0m     \u001b[38;5;28;43mself\u001b[39;49m\u001b[38;5;241;43m.\u001b[39;49m\u001b[43m_nonlinear_solver\u001b[49m\u001b[38;5;241;43m.\u001b[39;49m\u001b[43m_solve_with_cache_check\u001b[49m\u001b[43m(\u001b[49m\u001b[43m)\u001b[49m\n",
      "File \u001b[1;32m~\\anaconda3\\envs\\MDOHPCA\\lib\\site-packages\\openmdao\\solvers\\nonlinear\\nonlinear_runonce.py:26\u001b[0m, in \u001b[0;36mNonlinearRunOnce._solve_with_cache_check\u001b[1;34m(self)\u001b[0m\n\u001b[0;32m     25\u001b[0m \u001b[38;5;28;01mdef\u001b[39;00m \u001b[38;5;21m_solve_with_cache_check\u001b[39m(\u001b[38;5;28mself\u001b[39m):\n\u001b[1;32m---> 26\u001b[0m     \u001b[38;5;28;43mself\u001b[39;49m\u001b[38;5;241;43m.\u001b[39;49m\u001b[43msolve\u001b[49m\u001b[43m(\u001b[49m\u001b[43m)\u001b[49m\n",
      "File \u001b[1;32m~\\anaconda3\\envs\\MDOHPCA\\lib\\site-packages\\openmdao\\solvers\\nonlinear\\nonlinear_runonce.py:45\u001b[0m, in \u001b[0;36mNonlinearRunOnce.solve\u001b[1;34m(self)\u001b[0m\n\u001b[0;32m     41\u001b[0m             subsys\u001b[38;5;241m.\u001b[39m_solve_nonlinear()\n\u001b[0;32m     43\u001b[0m \u001b[38;5;66;03m# If this is not a parallel group, transfer for each subsystem just prior to running it.\u001b[39;00m\n\u001b[0;32m     44\u001b[0m \u001b[38;5;28;01melse\u001b[39;00m:\n\u001b[1;32m---> 45\u001b[0m     \u001b[38;5;28;43mself\u001b[39;49m\u001b[38;5;241;43m.\u001b[39;49m\u001b[43m_gs_iter\u001b[49m\u001b[43m(\u001b[49m\u001b[43m)\u001b[49m\n\u001b[0;32m     47\u001b[0m rec\u001b[38;5;241m.\u001b[39mabs \u001b[38;5;241m=\u001b[39m \u001b[38;5;241m0.0\u001b[39m\n\u001b[0;32m     48\u001b[0m rec\u001b[38;5;241m.\u001b[39mrel \u001b[38;5;241m=\u001b[39m \u001b[38;5;241m0.0\u001b[39m\n",
      "File \u001b[1;32m~\\anaconda3\\envs\\MDOHPCA\\lib\\site-packages\\openmdao\\solvers\\solver.py:793\u001b[0m, in \u001b[0;36mNonlinearSolver._gs_iter\u001b[1;34m(self)\u001b[0m\n\u001b[0;32m    791\u001b[0m \u001b[38;5;28;01mif\u001b[39;00m subsys\u001b[38;5;241m.\u001b[39m_is_local:\n\u001b[0;32m    792\u001b[0m     \u001b[38;5;28;01mtry\u001b[39;00m:\n\u001b[1;32m--> 793\u001b[0m         \u001b[43msubsys\u001b[49m\u001b[38;5;241;43m.\u001b[39;49m\u001b[43m_solve_nonlinear\u001b[49m\u001b[43m(\u001b[49m\u001b[43m)\u001b[49m\n\u001b[0;32m    794\u001b[0m     \u001b[38;5;28;01mexcept\u001b[39;00m AnalysisError \u001b[38;5;28;01mas\u001b[39;00m err:\n\u001b[0;32m    795\u001b[0m         \u001b[38;5;28;01mif\u001b[39;00m \u001b[38;5;124m'\u001b[39m\u001b[38;5;124mreraise_child_analysiserror\u001b[39m\u001b[38;5;124m'\u001b[39m \u001b[38;5;129;01mnot\u001b[39;00m \u001b[38;5;129;01min\u001b[39;00m \u001b[38;5;28mself\u001b[39m\u001b[38;5;241m.\u001b[39moptions \u001b[38;5;129;01mor\u001b[39;00m \\\n\u001b[0;32m    796\u001b[0m                 \u001b[38;5;28mself\u001b[39m\u001b[38;5;241m.\u001b[39moptions[\u001b[38;5;124m'\u001b[39m\u001b[38;5;124mreraise_child_analysiserror\u001b[39m\u001b[38;5;124m'\u001b[39m]:\n",
      "File \u001b[1;32m~\\anaconda3\\envs\\MDOHPCA\\lib\\site-packages\\openmdao\\core\\explicitcomponent.py:317\u001b[0m, in \u001b[0;36mExplicitComponent._solve_nonlinear\u001b[1;34m(self)\u001b[0m\n\u001b[0;32m    315\u001b[0m \u001b[38;5;28;01mwith\u001b[39;00m \u001b[38;5;28mself\u001b[39m\u001b[38;5;241m.\u001b[39m_unscaled_context(outputs\u001b[38;5;241m=\u001b[39m[\u001b[38;5;28mself\u001b[39m\u001b[38;5;241m.\u001b[39m_outputs], residuals\u001b[38;5;241m=\u001b[39m[\u001b[38;5;28mself\u001b[39m\u001b[38;5;241m.\u001b[39m_residuals]):\n\u001b[0;32m    316\u001b[0m     \u001b[38;5;28mself\u001b[39m\u001b[38;5;241m.\u001b[39m_residuals\u001b[38;5;241m.\u001b[39mset_val(\u001b[38;5;241m0.0\u001b[39m)\n\u001b[1;32m--> 317\u001b[0m     \u001b[38;5;28;43mself\u001b[39;49m\u001b[38;5;241;43m.\u001b[39;49m\u001b[43m_compute_wrapper\u001b[49m\u001b[43m(\u001b[49m\u001b[43m)\u001b[49m\n",
      "File \u001b[1;32m~\\anaconda3\\envs\\MDOHPCA\\lib\\site-packages\\openmdao\\core\\explicitcomponent.py:291\u001b[0m, in \u001b[0;36mExplicitComponent._compute_wrapper\u001b[1;34m(self)\u001b[0m\n\u001b[0;32m    288\u001b[0m     \u001b[38;5;28mself\u001b[39m\u001b[38;5;241m.\u001b[39mcompute(\u001b[38;5;28mself\u001b[39m\u001b[38;5;241m.\u001b[39m_inputs, \u001b[38;5;28mself\u001b[39m\u001b[38;5;241m.\u001b[39m_outputs,\n\u001b[0;32m    289\u001b[0m                  \u001b[38;5;28mself\u001b[39m\u001b[38;5;241m.\u001b[39m_discrete_inputs, \u001b[38;5;28mself\u001b[39m\u001b[38;5;241m.\u001b[39m_discrete_outputs)\n\u001b[0;32m    290\u001b[0m \u001b[38;5;28;01melse\u001b[39;00m:\n\u001b[1;32m--> 291\u001b[0m     \u001b[38;5;28mself\u001b[39m\u001b[38;5;241m.\u001b[39mcompute(\u001b[38;5;28mself\u001b[39m\u001b[38;5;241m.\u001b[39m_inputs, \u001b[38;5;28mself\u001b[39m\u001b[38;5;241m.\u001b[39m_outputs)\n",
      "File \u001b[1;32m~\\anaconda3\\envs\\MDOHPCA\\lib\\contextlib.py:137\u001b[0m, in \u001b[0;36m_GeneratorContextManager.__exit__\u001b[1;34m(self, typ, value, traceback)\u001b[0m\n\u001b[0;32m    135\u001b[0m     value \u001b[38;5;241m=\u001b[39m typ()\n\u001b[0;32m    136\u001b[0m \u001b[38;5;28;01mtry\u001b[39;00m:\n\u001b[1;32m--> 137\u001b[0m     \u001b[38;5;28;43mself\u001b[39;49m\u001b[38;5;241;43m.\u001b[39;49m\u001b[43mgen\u001b[49m\u001b[38;5;241;43m.\u001b[39;49m\u001b[43mthrow\u001b[49m\u001b[43m(\u001b[49m\u001b[43mtyp\u001b[49m\u001b[43m,\u001b[49m\u001b[43m \u001b[49m\u001b[43mvalue\u001b[49m\u001b[43m,\u001b[49m\u001b[43m \u001b[49m\u001b[43mtraceback\u001b[49m\u001b[43m)\u001b[49m\n\u001b[0;32m    138\u001b[0m \u001b[38;5;28;01mexcept\u001b[39;00m \u001b[38;5;167;01mStopIteration\u001b[39;00m \u001b[38;5;28;01mas\u001b[39;00m exc:\n\u001b[0;32m    139\u001b[0m     \u001b[38;5;66;03m# Suppress StopIteration *unless* it's the same exception that\u001b[39;00m\n\u001b[0;32m    140\u001b[0m     \u001b[38;5;66;03m# was passed to throw().  This prevents a StopIteration\u001b[39;00m\n\u001b[0;32m    141\u001b[0m     \u001b[38;5;66;03m# raised inside the \"with\" statement from being suppressed.\u001b[39;00m\n\u001b[0;32m    142\u001b[0m     \u001b[38;5;28;01mreturn\u001b[39;00m exc \u001b[38;5;129;01mis\u001b[39;00m \u001b[38;5;129;01mnot\u001b[39;00m value\n",
      "File \u001b[1;32m~\\anaconda3\\envs\\MDOHPCA\\lib\\site-packages\\openmdao\\core\\system.py:2964\u001b[0m, in \u001b[0;36mSystem._call_user_function\u001b[1;34m(self, fname, protect_inputs, protect_outputs, protect_residuals)\u001b[0m\n\u001b[0;32m   2962\u001b[0m         \u001b[38;5;28;01mraise\u001b[39;00m\n\u001b[0;32m   2963\u001b[0m     \u001b[38;5;28;01melse\u001b[39;00m:\n\u001b[1;32m-> 2964\u001b[0m         \u001b[38;5;28;01mraise\u001b[39;00m err_type(\n\u001b[0;32m   2965\u001b[0m             \u001b[38;5;124mf\u001b[39m\u001b[38;5;124m\"\u001b[39m\u001b[38;5;132;01m{\u001b[39;00m\u001b[38;5;28mself\u001b[39m\u001b[38;5;241m.\u001b[39mmsginfo\u001b[38;5;132;01m}\u001b[39;00m\u001b[38;5;124m: Error calling \u001b[39m\u001b[38;5;132;01m{\u001b[39;00mfname\u001b[38;5;132;01m}\u001b[39;00m\u001b[38;5;124m(), \u001b[39m\u001b[38;5;132;01m{\u001b[39;00merr\u001b[38;5;132;01m}\u001b[39;00m\u001b[38;5;124m\"\u001b[39m)\u001b[38;5;241m.\u001b[39mwith_traceback(trace)\n\u001b[0;32m   2966\u001b[0m \u001b[38;5;28;01mfinally\u001b[39;00m:\n\u001b[0;32m   2967\u001b[0m     \u001b[38;5;28mself\u001b[39m\u001b[38;5;241m.\u001b[39m_inputs\u001b[38;5;241m.\u001b[39mread_only \u001b[38;5;241m=\u001b[39m \u001b[38;5;28;01mFalse\u001b[39;00m\n",
      "File \u001b[1;32m~\\anaconda3\\envs\\MDOHPCA\\lib\\site-packages\\openmdao\\core\\system.py:2958\u001b[0m, in \u001b[0;36mSystem._call_user_function\u001b[1;34m(self, fname, protect_inputs, protect_outputs, protect_residuals)\u001b[0m\n\u001b[0;32m   2955\u001b[0m \u001b[38;5;28mself\u001b[39m\u001b[38;5;241m.\u001b[39m_residuals\u001b[38;5;241m.\u001b[39mread_only \u001b[38;5;241m=\u001b[39m protect_residuals\n\u001b[0;32m   2957\u001b[0m \u001b[38;5;28;01mtry\u001b[39;00m:\n\u001b[1;32m-> 2958\u001b[0m     \u001b[38;5;28;01myield\u001b[39;00m\n\u001b[0;32m   2959\u001b[0m \u001b[38;5;28;01mexcept\u001b[39;00m \u001b[38;5;167;01mException\u001b[39;00m:\n\u001b[0;32m   2960\u001b[0m     err_type, err, trace \u001b[38;5;241m=\u001b[39m sys\u001b[38;5;241m.\u001b[39mexc_info()\n",
      "File \u001b[1;32m~\\anaconda3\\envs\\MDOHPCA\\lib\\site-packages\\openmdao\\core\\explicitcomponent.py:291\u001b[0m, in \u001b[0;36mExplicitComponent._compute_wrapper\u001b[1;34m(self)\u001b[0m\n\u001b[0;32m    288\u001b[0m     \u001b[38;5;28mself\u001b[39m\u001b[38;5;241m.\u001b[39mcompute(\u001b[38;5;28mself\u001b[39m\u001b[38;5;241m.\u001b[39m_inputs, \u001b[38;5;28mself\u001b[39m\u001b[38;5;241m.\u001b[39m_outputs,\n\u001b[0;32m    289\u001b[0m                  \u001b[38;5;28mself\u001b[39m\u001b[38;5;241m.\u001b[39m_discrete_inputs, \u001b[38;5;28mself\u001b[39m\u001b[38;5;241m.\u001b[39m_discrete_outputs)\n\u001b[0;32m    290\u001b[0m \u001b[38;5;28;01melse\u001b[39;00m:\n\u001b[1;32m--> 291\u001b[0m     \u001b[38;5;28;43mself\u001b[39;49m\u001b[38;5;241;43m.\u001b[39;49m\u001b[43mcompute\u001b[49m\u001b[43m(\u001b[49m\u001b[38;5;28;43mself\u001b[39;49m\u001b[38;5;241;43m.\u001b[39;49m\u001b[43m_inputs\u001b[49m\u001b[43m,\u001b[49m\u001b[43m \u001b[49m\u001b[38;5;28;43mself\u001b[39;49m\u001b[38;5;241;43m.\u001b[39;49m\u001b[43m_outputs\u001b[49m\u001b[43m)\u001b[49m\n",
      "File \u001b[1;32m~\\AppData\\Local\\Temp\\ipykernel_9140\\3310261149.py:8\u001b[0m, in \u001b[0;36mfuel_masses.compute\u001b[1;34m(self, inputs, outputs)\u001b[0m\n\u001b[0;32m      7\u001b[0m \u001b[38;5;28;01mdef\u001b[39;00m \u001b[38;5;21mcompute\u001b[39m(\u001b[38;5;28mself\u001b[39m,inputs,outputs):\n\u001b[1;32m----> 8\u001b[0m     Is \u001b[38;5;241m=\u001b[39m \u001b[38;5;28;43mself\u001b[39;49m\u001b[38;5;241;43m.\u001b[39;49m\u001b[43moptions\u001b[49m\u001b[43m[\u001b[49m\u001b[38;5;124;43m'\u001b[39;49m\u001b[38;5;124;43m'\u001b[39;49m\u001b[43m]\u001b[49m\n\u001b[0;32m     10\u001b[0m     outputs[\u001b[38;5;124m'\u001b[39m\u001b[38;5;124msys_CG\u001b[39m\u001b[38;5;124m'\u001b[39m] \u001b[38;5;241m=\u001b[39m \u001b[38;5;241m2\u001b[39m\u001b[38;5;241m*\u001b[39mIs\n",
      "File \u001b[1;32m~\\anaconda3\\envs\\MDOHPCA\\lib\\site-packages\\openmdao\\utils\\options_dictionary.py:508\u001b[0m, in \u001b[0;36mOptionsDictionary.__getitem__\u001b[1;34m(self, name)\u001b[0m\n\u001b[0;32m    506\u001b[0m     meta \u001b[38;5;241m=\u001b[39m \u001b[38;5;28mself\u001b[39m\u001b[38;5;241m.\u001b[39m_dict[name]\n\u001b[0;32m    507\u001b[0m \u001b[38;5;28;01mexcept\u001b[39;00m \u001b[38;5;167;01mKeyError\u001b[39;00m:\n\u001b[1;32m--> 508\u001b[0m     \u001b[38;5;28;43mself\u001b[39;49m\u001b[38;5;241;43m.\u001b[39;49m\u001b[43m_raise\u001b[49m\u001b[43m(\u001b[49m\u001b[38;5;124;43mf\u001b[39;49m\u001b[38;5;124;43m\"\u001b[39;49m\u001b[38;5;124;43mOption \u001b[39;49m\u001b[38;5;124;43m'\u001b[39;49m\u001b[38;5;132;43;01m{\u001b[39;49;00m\u001b[43mname\u001b[49m\u001b[38;5;132;43;01m}\u001b[39;49;00m\u001b[38;5;124;43m'\u001b[39;49m\u001b[38;5;124;43m has not been declared.\u001b[39;49m\u001b[38;5;124;43m\"\u001b[39;49m\u001b[43m,\u001b[49m\u001b[43m \u001b[49m\u001b[43mexc_type\u001b[49m\u001b[38;5;241;43m=\u001b[39;49m\u001b[38;5;167;43;01mKeyError\u001b[39;49;00m\u001b[43m)\u001b[49m\n\u001b[0;32m    510\u001b[0m \u001b[38;5;28;01mif\u001b[39;00m meta[\u001b[38;5;124m'\u001b[39m\u001b[38;5;124mdeprecation\u001b[39m\u001b[38;5;124m'\u001b[39m] \u001b[38;5;129;01mis\u001b[39;00m \u001b[38;5;129;01mnot\u001b[39;00m \u001b[38;5;28;01mNone\u001b[39;00m:\n\u001b[0;32m    511\u001b[0m     name, meta \u001b[38;5;241m=\u001b[39m \u001b[38;5;28mself\u001b[39m\u001b[38;5;241m.\u001b[39m_handle_deprecation(name, meta)\n",
      "File \u001b[1;32m~\\anaconda3\\envs\\MDOHPCA\\lib\\site-packages\\openmdao\\utils\\options_dictionary.py:243\u001b[0m, in \u001b[0;36mOptionsDictionary._raise\u001b[1;34m(self, msg, exc_type)\u001b[0m\n\u001b[0;32m    241\u001b[0m \u001b[38;5;28;01melse\u001b[39;00m:\n\u001b[0;32m    242\u001b[0m     full_msg \u001b[38;5;241m=\u001b[39m \u001b[38;5;124m'\u001b[39m\u001b[38;5;132;01m{}\u001b[39;00m\u001b[38;5;124m: \u001b[39m\u001b[38;5;132;01m{}\u001b[39;00m\u001b[38;5;124m'\u001b[39m\u001b[38;5;241m.\u001b[39mformat(\u001b[38;5;28mself\u001b[39m\u001b[38;5;241m.\u001b[39m_parent_name, msg)\n\u001b[1;32m--> 243\u001b[0m \u001b[38;5;28;01mraise\u001b[39;00m exc_type(full_msg)\n",
      "\u001b[1;31mKeyError\u001b[0m: '\\'sys.fuel_masses\\' <class fuel_masses>: Error calling compute(), \"\\'sys.fuel_masses\\' <class fuel_masses>: Option \\'\\' has not been declared.\"'"
     ]
    }
   ],
   "source": [
    "prob.run_model()"
   ]
  },
  {
   "cell_type": "code",
   "execution_count": 8,
   "id": "5530a25c",
   "metadata": {},
   "outputs": [
    {
     "data": {
      "text/plain": [
       "{'val': 32816.0,\n",
       " 'values': None,\n",
       " 'types': None,\n",
       " 'desc': 'people and cargo mass',\n",
       " 'upper': None,\n",
       " 'lower': None,\n",
       " 'check_valid': None,\n",
       " 'has_been_set': True,\n",
       " 'allow_none': False,\n",
       " 'recordable': True,\n",
       " 'deprecation': None}"
      ]
     },
     "execution_count": 8,
     "metadata": {},
     "output_type": "execute_result"
    }
   ],
   "source": [
    "#get properties of specific constants in disciplines\n",
    "prob.model.sys.options._dict['pp_mass']"
   ]
  },
  {
   "cell_type": "code",
   "execution_count": null,
   "id": "f6c2a630",
   "metadata": {},
   "outputs": [],
   "source": []
  }
 ],
 "metadata": {
  "kernelspec": {
   "display_name": "Python 3 (ipykernel)",
   "language": "python",
   "name": "python3"
  },
  "language_info": {
   "codemirror_mode": {
    "name": "ipython",
    "version": 3
   },
   "file_extension": ".py",
   "mimetype": "text/x-python",
   "name": "python",
   "nbconvert_exporter": "python",
   "pygments_lexer": "ipython3",
   "version": "3.9.15"
  }
 },
 "nbformat": 4,
 "nbformat_minor": 5
}
