{
 "cells": [
  {
   "cell_type": "code",
   "execution_count": 28,
   "id": "8c305589",
   "metadata": {},
   "outputs": [],
   "source": [
    "\n",
    "#    Multi-Disciplinary Design Optimisation of a Hydrogen Powered Commercial Aircraft (MDOHPCA)\n",
    "#    this is the master file that runs each of the individual disciplines \n",
    "#    It sets up each of the analyses, then converts it into an openMDAO problem with a certain structure, then solves for minimum mass\n",
    "\n"
   ]
  },
  {
   "cell_type": "code",
   "execution_count": 29,
   "id": "069bf40a",
   "metadata": {},
   "outputs": [],
   "source": [
    "\n",
    "import pandas as pd\n",
    "import numpy as np\n",
    "import openmdao.api as om"
   ]
  },
  {
   "cell_type": "code",
   "execution_count": 30,
   "id": "a91e9074",
   "metadata": {},
   "outputs": [],
   "source": [
    "class MDOHPCA(om.Group):\n",
    "    \"\"\"\n",
    "    Top level group containing the MDO.\n",
    "    \"\"\"           \n",
    "    def setup(self):\n",
    "        \"\"\"\n",
    "        set up each person's disciplines that can contain analyses\n",
    "        \"\"\"\n",
    "        self.add_subsystem('aero', aero())\n",
    "        self.add_subsystem('sys', sys())\n",
    "        self.add_subsystem('stab', stab())\n",
    "        self.add_subsystem('struct', struct())\n",
    "        \n",
    "        self.add_subsystem('mass', mass())\n",
    "        \n",
    "    def configure(self):\n",
    "        #promote all variables (lazy option, they can be connected individually)\n",
    "        self.promotes('sys',any=['*'])\n",
    "        self.promotes('struct',any=['*'])\n",
    "        \n",
    "        self.promotes('mass',any=['*'])"
   ]
  },
  {
   "cell_type": "code",
   "execution_count": 31,
   "id": "af00b877",
   "metadata": {},
   "outputs": [],
   "source": [
    "class mass(om.ExplicitComponent):\n",
    "    def setup(self):\n",
    "        self.add_input('systems_mass')\n",
    "        self.add_input('weight_structures')\n",
    "        \n",
    "        self.add_output('m')\n",
    "        prob.model.add_objective('m')\n",
    "        \n",
    "        #prob.model.add_constraint('m', lower = 20000)\n",
    "\n",
    "    def compute(self,inputs,outputs):\n",
    "        outputs['m'] = inputs['systems_mass'] + inputs['weight_structures']"
   ]
  },
  {
   "cell_type": "code",
   "execution_count": 32,
   "id": "4cb57483",
   "metadata": {},
   "outputs": [],
   "source": [
    "%run struct/structsetup.ipynb\n",
    "#%run stab/stabsetup.ipynb\n",
    "%run systems/systemssetup.ipynb\n",
    "class aero(om.ExplicitComponent):\n",
    "    pass\n",
    "class stab(om.ExplicitComponent):\n",
    "    pass"
   ]
  },
  {
   "cell_type": "code",
   "execution_count": 33,
   "id": "9bc13d80",
   "metadata": {},
   "outputs": [],
   "source": [
    "prob = om.Problem(model = MDOHPCA())\n",
    "#prob.model.add_subsystem('aero', om.Group())"
   ]
  },
  {
   "cell_type": "code",
   "execution_count": 34,
   "id": "11ddcf35",
   "metadata": {},
   "outputs": [],
   "source": [
    "#setting inputs to reduce ambiguities where inputs differ in different disciplines\n",
    "prob.model.set_input_defaults('CL', val = 0.6)\n",
    "prob.model.set_input_defaults('sweep', val = 15)\n",
    "prob.model.set_input_defaults('c', val = 4)\n",
    "prob.model.set_input_defaults('b', val = 60)\n",
    "prob.model.set_input_defaults('root_x', val = 10)\n",
    "prob.model.set_input_defaults('m', val = 240000)\n",
    "\n",
    "\n",
    "prob.model.add_design_var('fuselage_diameter')"
   ]
  },
  {
   "cell_type": "code",
   "execution_count": 35,
   "id": "b49706a0",
   "metadata": {},
   "outputs": [
    {
     "data": {
      "text/plain": [
       "<openmdao.core.problem.Problem at 0x21dcd813ca0>"
      ]
     },
     "execution_count": 35,
     "metadata": {},
     "output_type": "execute_result"
    }
   ],
   "source": [
    "#declare problem options (driver, optimiser)\n",
    "prob.model.driver = om.ScipyOptimizeDriver()\n",
    "prob.model.driver.options['optimizer'] = 'SLSQP'\n",
    "#prob.nonlinear_solver = om.NonlinearBlockGS()\n",
    "#prob.nonlinear_solver = om.NewtonSolver(solve_subsystems=False)\n",
    "prob.model.nonlinear_solver = om.NonlinearBlockGS()\n",
    "prob.model.nonlinear_solver.options['iprint'] = 2\n",
    "prob.model.nonlinear_solver.options['maxiter'] = 50\n",
    "\n",
    "#prob.nonlinear_solver.options['maxiter'] = 100\n",
    "prob.model.driver.options['maxiter'] = 5\n",
    "prob.model.driver.options['tol'] = 1e-8\n",
    "\n",
    "#setup problem to be run\n",
    "prob.setup()"
   ]
  },
  {
   "cell_type": "code",
   "execution_count": 36,
   "id": "d0c7cd32",
   "metadata": {},
   "outputs": [],
   "source": [
    "#%run aero/aerosetup.ipynb"
   ]
  },
  {
   "cell_type": "code",
   "execution_count": 37,
   "id": "26617261",
   "metadata": {},
   "outputs": [
    {
     "ename": "IndexError",
     "evalue": "'struct.optimisation' <class optimisation>: Error calling compute(), index 0 is out of bounds for axis 0 with size 0",
     "output_type": "error",
     "traceback": [
      "\u001b[1;31m---------------------------------------------------------------------------\u001b[0m",
      "\u001b[1;31mIndexError\u001b[0m                                Traceback (most recent call last)",
      "File \u001b[1;32m~\\anaconda3\\envs\\MDOHPCA\\lib\\site-packages\\openmdao\\core\\system.py:2927\u001b[0m, in \u001b[0;36mSystem._call_user_function\u001b[1;34m(self, fname, protect_inputs, protect_outputs, protect_residuals)\u001b[0m\n\u001b[0;32m   2926\u001b[0m \u001b[38;5;28;01mtry\u001b[39;00m:\n\u001b[1;32m-> 2927\u001b[0m     \u001b[38;5;28;01myield\u001b[39;00m\n\u001b[0;32m   2928\u001b[0m \u001b[38;5;28;01mexcept\u001b[39;00m \u001b[38;5;167;01mException\u001b[39;00m:\n",
      "File \u001b[1;32m~\\anaconda3\\envs\\MDOHPCA\\lib\\site-packages\\openmdao\\core\\explicitcomponent.py:286\u001b[0m, in \u001b[0;36mExplicitComponent._compute_wrapper\u001b[1;34m(self)\u001b[0m\n\u001b[0;32m    285\u001b[0m \u001b[38;5;28;01melse\u001b[39;00m:\n\u001b[1;32m--> 286\u001b[0m     \u001b[38;5;28;43mself\u001b[39;49m\u001b[38;5;241;43m.\u001b[39;49m\u001b[43mcompute\u001b[49m\u001b[43m(\u001b[49m\u001b[38;5;28;43mself\u001b[39;49m\u001b[38;5;241;43m.\u001b[39;49m\u001b[43m_inputs\u001b[49m\u001b[43m,\u001b[49m\u001b[43m \u001b[49m\u001b[38;5;28;43mself\u001b[39;49m\u001b[38;5;241;43m.\u001b[39;49m\u001b[43m_outputs\u001b[49m\u001b[43m)\u001b[49m\n",
      "File \u001b[1;32m~\\AppData\\Local\\Temp\\ipykernel_6628\\1045202762.py:35\u001b[0m, in \u001b[0;36moptimisation.compute\u001b[1;34m(self, inputs, outputs)\u001b[0m\n\u001b[0;32m     33\u001b[0m \u001b[38;5;66;03m#####################################\u001b[39;00m\n\u001b[0;32m     34\u001b[0m \u001b[38;5;66;03m#min_weight = pd.DataFrame([[60,5,4]])\u001b[39;00m\n\u001b[1;32m---> 35\u001b[0m b\u001b[38;5;241m=\u001b[39m\u001b[43mmin_weight\u001b[49m\u001b[38;5;241;43m.\u001b[39;49m\u001b[43miloc\u001b[49m\u001b[43m[\u001b[49m\u001b[38;5;241;43m0\u001b[39;49m\u001b[43m,\u001b[49m\u001b[38;5;241;43m0\u001b[39;49m\u001b[43m]\u001b[49m\n\u001b[0;32m     36\u001b[0m c\u001b[38;5;241m=\u001b[39mmin_weight\u001b[38;5;241m.\u001b[39miloc[\u001b[38;5;241m0\u001b[39m,\u001b[38;5;241m1\u001b[39m]\n",
      "File \u001b[1;32m~\\anaconda3\\envs\\MDOHPCA\\lib\\site-packages\\pandas\\core\\indexing.py:1096\u001b[0m, in \u001b[0;36m_LocationIndexer.__getitem__\u001b[1;34m(self, key)\u001b[0m\n\u001b[0;32m   1095\u001b[0m \u001b[38;5;28;01mif\u001b[39;00m \u001b[38;5;28mself\u001b[39m\u001b[38;5;241m.\u001b[39m_is_scalar_access(key):\n\u001b[1;32m-> 1096\u001b[0m     \u001b[38;5;28;01mreturn\u001b[39;00m \u001b[38;5;28;43mself\u001b[39;49m\u001b[38;5;241;43m.\u001b[39;49m\u001b[43mobj\u001b[49m\u001b[38;5;241;43m.\u001b[39;49m\u001b[43m_get_value\u001b[49m\u001b[43m(\u001b[49m\u001b[38;5;241;43m*\u001b[39;49m\u001b[43mkey\u001b[49m\u001b[43m,\u001b[49m\u001b[43m \u001b[49m\u001b[43mtakeable\u001b[49m\u001b[38;5;241;43m=\u001b[39;49m\u001b[38;5;28;43mself\u001b[39;49m\u001b[38;5;241;43m.\u001b[39;49m\u001b[43m_takeable\u001b[49m\u001b[43m)\u001b[49m\n\u001b[0;32m   1097\u001b[0m \u001b[38;5;28;01mreturn\u001b[39;00m \u001b[38;5;28mself\u001b[39m\u001b[38;5;241m.\u001b[39m_getitem_tuple(key)\n",
      "File \u001b[1;32m~\\anaconda3\\envs\\MDOHPCA\\lib\\site-packages\\pandas\\core\\frame.py:3878\u001b[0m, in \u001b[0;36mDataFrame._get_value\u001b[1;34m(self, index, col, takeable)\u001b[0m\n\u001b[0;32m   3877\u001b[0m     series \u001b[38;5;241m=\u001b[39m \u001b[38;5;28mself\u001b[39m\u001b[38;5;241m.\u001b[39m_ixs(col, axis\u001b[38;5;241m=\u001b[39m\u001b[38;5;241m1\u001b[39m)\n\u001b[1;32m-> 3878\u001b[0m     \u001b[38;5;28;01mreturn\u001b[39;00m \u001b[43mseries\u001b[49m\u001b[38;5;241;43m.\u001b[39;49m\u001b[43m_values\u001b[49m\u001b[43m[\u001b[49m\u001b[43mindex\u001b[49m\u001b[43m]\u001b[49m\n\u001b[0;32m   3880\u001b[0m series \u001b[38;5;241m=\u001b[39m \u001b[38;5;28mself\u001b[39m\u001b[38;5;241m.\u001b[39m_get_item_cache(col)\n",
      "\u001b[1;31mIndexError\u001b[0m: index 0 is out of bounds for axis 0 with size 0",
      "\nDuring handling of the above exception, another exception occurred:\n",
      "\u001b[1;31mIndexError\u001b[0m                                Traceback (most recent call last)",
      "Cell \u001b[1;32mIn [37], line 1\u001b[0m\n\u001b[1;32m----> 1\u001b[0m \u001b[43mprob\u001b[49m\u001b[38;5;241;43m.\u001b[39;49m\u001b[43mrun_model\u001b[49m\u001b[43m(\u001b[49m\u001b[43m)\u001b[49m\n",
      "File \u001b[1;32m~\\anaconda3\\envs\\MDOHPCA\\lib\\site-packages\\openmdao\\core\\problem.py:629\u001b[0m, in \u001b[0;36mProblem.run_model\u001b[1;34m(self, case_prefix, reset_iter_counts)\u001b[0m\n\u001b[0;32m    626\u001b[0m     record_model_options(\u001b[38;5;28mself\u001b[39m, \u001b[38;5;28mself\u001b[39m\u001b[38;5;241m.\u001b[39m_run_counter)\n\u001b[0;32m    628\u001b[0m     \u001b[38;5;28mself\u001b[39m\u001b[38;5;241m.\u001b[39mmodel\u001b[38;5;241m.\u001b[39m_clear_iprint()\n\u001b[1;32m--> 629\u001b[0m     \u001b[38;5;28;43mself\u001b[39;49m\u001b[38;5;241;43m.\u001b[39;49m\u001b[43mmodel\u001b[49m\u001b[38;5;241;43m.\u001b[39;49m\u001b[43mrun_solve_nonlinear\u001b[49m\u001b[43m(\u001b[49m\u001b[43m)\u001b[49m\n\u001b[0;32m    630\u001b[0m \u001b[38;5;28;01mfinally\u001b[39;00m:\n\u001b[0;32m    631\u001b[0m     \u001b[38;5;28mself\u001b[39m\u001b[38;5;241m.\u001b[39m_recording_iter\u001b[38;5;241m.\u001b[39mprefix \u001b[38;5;241m=\u001b[39m old_prefix\n",
      "File \u001b[1;32m~\\anaconda3\\envs\\MDOHPCA\\lib\\site-packages\\openmdao\\core\\system.py:4684\u001b[0m, in \u001b[0;36mSystem.run_solve_nonlinear\u001b[1;34m(self)\u001b[0m\n\u001b[0;32m   4678\u001b[0m \u001b[38;5;124;03m\"\"\"\u001b[39;00m\n\u001b[0;32m   4679\u001b[0m \u001b[38;5;124;03mCompute outputs.\u001b[39;00m\n\u001b[0;32m   4680\u001b[0m \n\u001b[0;32m   4681\u001b[0m \u001b[38;5;124;03mThis calls _solve_nonlinear, but with the model assumed to be in an unscaled state.\u001b[39;00m\n\u001b[0;32m   4682\u001b[0m \u001b[38;5;124;03m\"\"\"\u001b[39;00m\n\u001b[0;32m   4683\u001b[0m \u001b[38;5;28;01mwith\u001b[39;00m \u001b[38;5;28mself\u001b[39m\u001b[38;5;241m.\u001b[39m_scaled_context_all():\n\u001b[1;32m-> 4684\u001b[0m     \u001b[38;5;28;43mself\u001b[39;49m\u001b[38;5;241;43m.\u001b[39;49m\u001b[43m_solve_nonlinear\u001b[49m\u001b[43m(\u001b[49m\u001b[43m)\u001b[49m\n",
      "File \u001b[1;32m~\\anaconda3\\envs\\MDOHPCA\\lib\\site-packages\\openmdao\\core\\group.py:2532\u001b[0m, in \u001b[0;36mGroup._solve_nonlinear\u001b[1;34m(self)\u001b[0m\n\u001b[0;32m   2529\u001b[0m name \u001b[38;5;241m=\u001b[39m \u001b[38;5;28mself\u001b[39m\u001b[38;5;241m.\u001b[39mpathname \u001b[38;5;28;01mif\u001b[39;00m \u001b[38;5;28mself\u001b[39m\u001b[38;5;241m.\u001b[39mpathname \u001b[38;5;28;01melse\u001b[39;00m \u001b[38;5;124m'\u001b[39m\u001b[38;5;124mroot\u001b[39m\u001b[38;5;124m'\u001b[39m\n\u001b[0;32m   2531\u001b[0m \u001b[38;5;28;01mwith\u001b[39;00m Recording(name \u001b[38;5;241m+\u001b[39m \u001b[38;5;124m'\u001b[39m\u001b[38;5;124m._solve_nonlinear\u001b[39m\u001b[38;5;124m'\u001b[39m, \u001b[38;5;28mself\u001b[39m\u001b[38;5;241m.\u001b[39miter_count, \u001b[38;5;28mself\u001b[39m):\n\u001b[1;32m-> 2532\u001b[0m     \u001b[38;5;28;43mself\u001b[39;49m\u001b[38;5;241;43m.\u001b[39;49m\u001b[43m_nonlinear_solver\u001b[49m\u001b[38;5;241;43m.\u001b[39;49m\u001b[43m_solve_with_cache_check\u001b[49m\u001b[43m(\u001b[49m\u001b[43m)\u001b[49m\n",
      "File \u001b[1;32m~\\anaconda3\\envs\\MDOHPCA\\lib\\site-packages\\openmdao\\solvers\\solver.py:839\u001b[0m, in \u001b[0;36mNonlinearSolver._solve_with_cache_check\u001b[1;34m(self)\u001b[0m\n\u001b[0;32m    837\u001b[0m         \u001b[38;5;28;01mraise\u001b[39;00m\n\u001b[0;32m    838\u001b[0m \u001b[38;5;28;01melse\u001b[39;00m:\n\u001b[1;32m--> 839\u001b[0m     \u001b[38;5;28;43mself\u001b[39;49m\u001b[38;5;241;43m.\u001b[39;49m\u001b[43msolve\u001b[49m\u001b[43m(\u001b[49m\u001b[43m)\u001b[49m\n",
      "File \u001b[1;32m~\\anaconda3\\envs\\MDOHPCA\\lib\\site-packages\\openmdao\\solvers\\solver.py:589\u001b[0m, in \u001b[0;36mNonlinearSolver.solve\u001b[1;34m(self)\u001b[0m\n\u001b[0;32m    587\u001b[0m \u001b[38;5;28;01mif\u001b[39;00m \u001b[38;5;28mself\u001b[39m\u001b[38;5;241m.\u001b[39moptions[\u001b[38;5;124m'\u001b[39m\u001b[38;5;124mdebug_print\u001b[39m\u001b[38;5;124m'\u001b[39m]:\n\u001b[0;32m    588\u001b[0m     \u001b[38;5;28mself\u001b[39m\u001b[38;5;241m.\u001b[39m_print_exc_debug_info()\n\u001b[1;32m--> 589\u001b[0m \u001b[38;5;28;01mraise\u001b[39;00m err\n",
      "File \u001b[1;32m~\\anaconda3\\envs\\MDOHPCA\\lib\\site-packages\\openmdao\\solvers\\solver.py:585\u001b[0m, in \u001b[0;36mNonlinearSolver.solve\u001b[1;34m(self)\u001b[0m\n\u001b[0;32m    581\u001b[0m \u001b[38;5;124;03m\"\"\"\u001b[39;00m\n\u001b[0;32m    582\u001b[0m \u001b[38;5;124;03mRun the solver.\u001b[39;00m\n\u001b[0;32m    583\u001b[0m \u001b[38;5;124;03m\"\"\"\u001b[39;00m\n\u001b[0;32m    584\u001b[0m \u001b[38;5;28;01mtry\u001b[39;00m:\n\u001b[1;32m--> 585\u001b[0m     \u001b[38;5;28;43mself\u001b[39;49m\u001b[38;5;241;43m.\u001b[39;49m\u001b[43m_solve\u001b[49m\u001b[43m(\u001b[49m\u001b[43m)\u001b[49m\n\u001b[0;32m    586\u001b[0m \u001b[38;5;28;01mexcept\u001b[39;00m \u001b[38;5;167;01mException\u001b[39;00m \u001b[38;5;28;01mas\u001b[39;00m err:\n\u001b[0;32m    587\u001b[0m     \u001b[38;5;28;01mif\u001b[39;00m \u001b[38;5;28mself\u001b[39m\u001b[38;5;241m.\u001b[39moptions[\u001b[38;5;124m'\u001b[39m\u001b[38;5;124mdebug_print\u001b[39m\u001b[38;5;124m'\u001b[39m]:\n",
      "File \u001b[1;32m~\\anaconda3\\envs\\MDOHPCA\\lib\\site-packages\\openmdao\\solvers\\solver.py:629\u001b[0m, in \u001b[0;36mNonlinearSolver._solve\u001b[1;34m(self)\u001b[0m\n\u001b[0;32m    626\u001b[0m \u001b[38;5;28mself\u001b[39m\u001b[38;5;241m.\u001b[39m_mpi_print_header()\n\u001b[0;32m    628\u001b[0m \u001b[38;5;28mself\u001b[39m\u001b[38;5;241m.\u001b[39m_iter_count \u001b[38;5;241m=\u001b[39m \u001b[38;5;241m0\u001b[39m\n\u001b[1;32m--> 629\u001b[0m norm0, norm \u001b[38;5;241m=\u001b[39m \u001b[38;5;28;43mself\u001b[39;49m\u001b[38;5;241;43m.\u001b[39;49m\u001b[43m_iter_initialize\u001b[49m\u001b[43m(\u001b[49m\u001b[43m)\u001b[49m\n\u001b[0;32m    631\u001b[0m \u001b[38;5;28mself\u001b[39m\u001b[38;5;241m.\u001b[39m_norm0 \u001b[38;5;241m=\u001b[39m norm0\n\u001b[0;32m    633\u001b[0m \u001b[38;5;28mself\u001b[39m\u001b[38;5;241m.\u001b[39m_mpi_print(\u001b[38;5;28mself\u001b[39m\u001b[38;5;241m.\u001b[39m_iter_count, norm, norm \u001b[38;5;241m/\u001b[39m norm0)\n",
      "File \u001b[1;32m~\\anaconda3\\envs\\MDOHPCA\\lib\\site-packages\\openmdao\\solvers\\nonlinear\\nonlinear_block_gs.py:109\u001b[0m, in \u001b[0;36mNonlinearBlockGS._iter_initialize\u001b[1;34m(self)\u001b[0m\n\u001b[0;32m    106\u001b[0m \u001b[38;5;66;03m# Execute guess_nonlinear if specified.\u001b[39;00m\n\u001b[0;32m    107\u001b[0m system\u001b[38;5;241m.\u001b[39m_guess_nonlinear()\n\u001b[1;32m--> 109\u001b[0m \u001b[38;5;28;01mreturn\u001b[39;00m \u001b[38;5;28;43msuper\u001b[39;49m\u001b[43m(\u001b[49m\u001b[43m)\u001b[49m\u001b[38;5;241;43m.\u001b[39;49m\u001b[43m_iter_initialize\u001b[49m\u001b[43m(\u001b[49m\u001b[43m)\u001b[49m\n",
      "File \u001b[1;32m~\\anaconda3\\envs\\MDOHPCA\\lib\\site-packages\\openmdao\\solvers\\solver.py:608\u001b[0m, in \u001b[0;36mNonlinearSolver._iter_initialize\u001b[1;34m(self)\u001b[0m\n\u001b[0;32m    605\u001b[0m     \u001b[38;5;28mself\u001b[39m\u001b[38;5;241m.\u001b[39m_err_cache[\u001b[38;5;124m'\u001b[39m\u001b[38;5;124moutputs\u001b[39m\u001b[38;5;124m'\u001b[39m] \u001b[38;5;241m=\u001b[39m system\u001b[38;5;241m.\u001b[39m_outputs\u001b[38;5;241m.\u001b[39m_copy_views()\n\u001b[0;32m    607\u001b[0m \u001b[38;5;28;01mif\u001b[39;00m \u001b[38;5;28mself\u001b[39m\u001b[38;5;241m.\u001b[39moptions[\u001b[38;5;124m'\u001b[39m\u001b[38;5;124mmaxiter\u001b[39m\u001b[38;5;124m'\u001b[39m] \u001b[38;5;241m>\u001b[39m \u001b[38;5;241m0\u001b[39m:\n\u001b[1;32m--> 608\u001b[0m     \u001b[38;5;28;43mself\u001b[39;49m\u001b[38;5;241;43m.\u001b[39;49m\u001b[43m_run_apply\u001b[49m\u001b[43m(\u001b[49m\u001b[43m)\u001b[49m\n\u001b[0;32m    609\u001b[0m     norm \u001b[38;5;241m=\u001b[39m \u001b[38;5;28mself\u001b[39m\u001b[38;5;241m.\u001b[39m_iter_get_norm()\n\u001b[0;32m    610\u001b[0m \u001b[38;5;28;01melse\u001b[39;00m:\n",
      "File \u001b[1;32m~\\anaconda3\\envs\\MDOHPCA\\lib\\site-packages\\openmdao\\solvers\\nonlinear\\nonlinear_block_gs.py:241\u001b[0m, in \u001b[0;36mNonlinearBlockGS._run_apply\u001b[1;34m(self)\u001b[0m\n\u001b[0;32m    239\u001b[0m     system\u001b[38;5;241m.\u001b[39m_transfer(\u001b[38;5;124m'\u001b[39m\u001b[38;5;124mnonlinear\u001b[39m\u001b[38;5;124m'\u001b[39m, \u001b[38;5;124m'\u001b[39m\u001b[38;5;124mfwd\u001b[39m\u001b[38;5;124m'\u001b[39m, subsys\u001b[38;5;241m.\u001b[39mname)\n\u001b[0;32m    240\u001b[0m     \u001b[38;5;28;01mif\u001b[39;00m subsys\u001b[38;5;241m.\u001b[39m_is_local:\n\u001b[1;32m--> 241\u001b[0m         \u001b[43msubsys\u001b[49m\u001b[38;5;241;43m.\u001b[39;49m\u001b[43m_solve_nonlinear\u001b[49m\u001b[43m(\u001b[49m\u001b[43m)\u001b[49m\n\u001b[0;32m    243\u001b[0m \u001b[38;5;28mself\u001b[39m\u001b[38;5;241m.\u001b[39m_solver_info\u001b[38;5;241m.\u001b[39mpop()\n\u001b[0;32m    244\u001b[0m \u001b[38;5;28;01mwith\u001b[39;00m system\u001b[38;5;241m.\u001b[39m_unscaled_context(residuals\u001b[38;5;241m=\u001b[39m[residuals]):\n",
      "File \u001b[1;32m~\\anaconda3\\envs\\MDOHPCA\\lib\\site-packages\\openmdao\\core\\group.py:2532\u001b[0m, in \u001b[0;36mGroup._solve_nonlinear\u001b[1;34m(self)\u001b[0m\n\u001b[0;32m   2529\u001b[0m name \u001b[38;5;241m=\u001b[39m \u001b[38;5;28mself\u001b[39m\u001b[38;5;241m.\u001b[39mpathname \u001b[38;5;28;01mif\u001b[39;00m \u001b[38;5;28mself\u001b[39m\u001b[38;5;241m.\u001b[39mpathname \u001b[38;5;28;01melse\u001b[39;00m \u001b[38;5;124m'\u001b[39m\u001b[38;5;124mroot\u001b[39m\u001b[38;5;124m'\u001b[39m\n\u001b[0;32m   2531\u001b[0m \u001b[38;5;28;01mwith\u001b[39;00m Recording(name \u001b[38;5;241m+\u001b[39m \u001b[38;5;124m'\u001b[39m\u001b[38;5;124m._solve_nonlinear\u001b[39m\u001b[38;5;124m'\u001b[39m, \u001b[38;5;28mself\u001b[39m\u001b[38;5;241m.\u001b[39miter_count, \u001b[38;5;28mself\u001b[39m):\n\u001b[1;32m-> 2532\u001b[0m     \u001b[38;5;28;43mself\u001b[39;49m\u001b[38;5;241;43m.\u001b[39;49m\u001b[43m_nonlinear_solver\u001b[49m\u001b[38;5;241;43m.\u001b[39;49m\u001b[43m_solve_with_cache_check\u001b[49m\u001b[43m(\u001b[49m\u001b[43m)\u001b[49m\n",
      "File \u001b[1;32m~\\anaconda3\\envs\\MDOHPCA\\lib\\site-packages\\openmdao\\solvers\\nonlinear\\nonlinear_runonce.py:26\u001b[0m, in \u001b[0;36mNonlinearRunOnce._solve_with_cache_check\u001b[1;34m(self)\u001b[0m\n\u001b[0;32m     25\u001b[0m \u001b[38;5;28;01mdef\u001b[39;00m \u001b[38;5;21m_solve_with_cache_check\u001b[39m(\u001b[38;5;28mself\u001b[39m):\n\u001b[1;32m---> 26\u001b[0m     \u001b[38;5;28;43mself\u001b[39;49m\u001b[38;5;241;43m.\u001b[39;49m\u001b[43msolve\u001b[49m\u001b[43m(\u001b[49m\u001b[43m)\u001b[49m\n",
      "File \u001b[1;32m~\\anaconda3\\envs\\MDOHPCA\\lib\\site-packages\\openmdao\\solvers\\nonlinear\\nonlinear_runonce.py:45\u001b[0m, in \u001b[0;36mNonlinearRunOnce.solve\u001b[1;34m(self)\u001b[0m\n\u001b[0;32m     41\u001b[0m             subsys\u001b[38;5;241m.\u001b[39m_solve_nonlinear()\n\u001b[0;32m     43\u001b[0m \u001b[38;5;66;03m# If this is not a parallel group, transfer for each subsystem just prior to running it.\u001b[39;00m\n\u001b[0;32m     44\u001b[0m \u001b[38;5;28;01melse\u001b[39;00m:\n\u001b[1;32m---> 45\u001b[0m     \u001b[38;5;28;43mself\u001b[39;49m\u001b[38;5;241;43m.\u001b[39;49m\u001b[43m_gs_iter\u001b[49m\u001b[43m(\u001b[49m\u001b[43m)\u001b[49m\n\u001b[0;32m     47\u001b[0m rec\u001b[38;5;241m.\u001b[39mabs \u001b[38;5;241m=\u001b[39m \u001b[38;5;241m0.0\u001b[39m\n\u001b[0;32m     48\u001b[0m rec\u001b[38;5;241m.\u001b[39mrel \u001b[38;5;241m=\u001b[39m \u001b[38;5;241m0.0\u001b[39m\n",
      "File \u001b[1;32m~\\anaconda3\\envs\\MDOHPCA\\lib\\site-packages\\openmdao\\solvers\\solver.py:800\u001b[0m, in \u001b[0;36mNonlinearSolver._gs_iter\u001b[1;34m(self)\u001b[0m\n\u001b[0;32m    798\u001b[0m \u001b[38;5;28;01mif\u001b[39;00m subsys\u001b[38;5;241m.\u001b[39m_is_local:\n\u001b[0;32m    799\u001b[0m     \u001b[38;5;28;01mtry\u001b[39;00m:\n\u001b[1;32m--> 800\u001b[0m         \u001b[43msubsys\u001b[49m\u001b[38;5;241;43m.\u001b[39;49m\u001b[43m_solve_nonlinear\u001b[49m\u001b[43m(\u001b[49m\u001b[43m)\u001b[49m\n\u001b[0;32m    801\u001b[0m     \u001b[38;5;28;01mexcept\u001b[39;00m AnalysisError \u001b[38;5;28;01mas\u001b[39;00m err:\n\u001b[0;32m    802\u001b[0m         \u001b[38;5;28;01mif\u001b[39;00m \u001b[38;5;124m'\u001b[39m\u001b[38;5;124mreraise_child_analysiserror\u001b[39m\u001b[38;5;124m'\u001b[39m \u001b[38;5;129;01mnot\u001b[39;00m \u001b[38;5;129;01min\u001b[39;00m \u001b[38;5;28mself\u001b[39m\u001b[38;5;241m.\u001b[39moptions \u001b[38;5;129;01mor\u001b[39;00m \\\n\u001b[0;32m    803\u001b[0m                 \u001b[38;5;28mself\u001b[39m\u001b[38;5;241m.\u001b[39moptions[\u001b[38;5;124m'\u001b[39m\u001b[38;5;124mreraise_child_analysiserror\u001b[39m\u001b[38;5;124m'\u001b[39m]:\n",
      "File \u001b[1;32m~\\anaconda3\\envs\\MDOHPCA\\lib\\site-packages\\openmdao\\core\\explicitcomponent.py:312\u001b[0m, in \u001b[0;36mExplicitComponent._solve_nonlinear\u001b[1;34m(self)\u001b[0m\n\u001b[0;32m    310\u001b[0m \u001b[38;5;28;01mwith\u001b[39;00m \u001b[38;5;28mself\u001b[39m\u001b[38;5;241m.\u001b[39m_unscaled_context(outputs\u001b[38;5;241m=\u001b[39m[\u001b[38;5;28mself\u001b[39m\u001b[38;5;241m.\u001b[39m_outputs], residuals\u001b[38;5;241m=\u001b[39m[\u001b[38;5;28mself\u001b[39m\u001b[38;5;241m.\u001b[39m_residuals]):\n\u001b[0;32m    311\u001b[0m     \u001b[38;5;28mself\u001b[39m\u001b[38;5;241m.\u001b[39m_residuals\u001b[38;5;241m.\u001b[39mset_val(\u001b[38;5;241m0.0\u001b[39m)\n\u001b[1;32m--> 312\u001b[0m     \u001b[38;5;28;43mself\u001b[39;49m\u001b[38;5;241;43m.\u001b[39;49m\u001b[43m_compute_wrapper\u001b[49m\u001b[43m(\u001b[49m\u001b[43m)\u001b[49m\n",
      "File \u001b[1;32m~\\anaconda3\\envs\\MDOHPCA\\lib\\site-packages\\openmdao\\core\\explicitcomponent.py:286\u001b[0m, in \u001b[0;36mExplicitComponent._compute_wrapper\u001b[1;34m(self)\u001b[0m\n\u001b[0;32m    283\u001b[0m     \u001b[38;5;28mself\u001b[39m\u001b[38;5;241m.\u001b[39mcompute(\u001b[38;5;28mself\u001b[39m\u001b[38;5;241m.\u001b[39m_inputs, \u001b[38;5;28mself\u001b[39m\u001b[38;5;241m.\u001b[39m_outputs,\n\u001b[0;32m    284\u001b[0m                  \u001b[38;5;28mself\u001b[39m\u001b[38;5;241m.\u001b[39m_discrete_inputs, \u001b[38;5;28mself\u001b[39m\u001b[38;5;241m.\u001b[39m_discrete_outputs)\n\u001b[0;32m    285\u001b[0m \u001b[38;5;28;01melse\u001b[39;00m:\n\u001b[1;32m--> 286\u001b[0m     \u001b[38;5;28mself\u001b[39m\u001b[38;5;241m.\u001b[39mcompute(\u001b[38;5;28mself\u001b[39m\u001b[38;5;241m.\u001b[39m_inputs, \u001b[38;5;28mself\u001b[39m\u001b[38;5;241m.\u001b[39m_outputs)\n",
      "File \u001b[1;32m~\\anaconda3\\envs\\MDOHPCA\\lib\\contextlib.py:137\u001b[0m, in \u001b[0;36m_GeneratorContextManager.__exit__\u001b[1;34m(self, typ, value, traceback)\u001b[0m\n\u001b[0;32m    135\u001b[0m     value \u001b[38;5;241m=\u001b[39m typ()\n\u001b[0;32m    136\u001b[0m \u001b[38;5;28;01mtry\u001b[39;00m:\n\u001b[1;32m--> 137\u001b[0m     \u001b[38;5;28;43mself\u001b[39;49m\u001b[38;5;241;43m.\u001b[39;49m\u001b[43mgen\u001b[49m\u001b[38;5;241;43m.\u001b[39;49m\u001b[43mthrow\u001b[49m\u001b[43m(\u001b[49m\u001b[43mtyp\u001b[49m\u001b[43m,\u001b[49m\u001b[43m \u001b[49m\u001b[43mvalue\u001b[49m\u001b[43m,\u001b[49m\u001b[43m \u001b[49m\u001b[43mtraceback\u001b[49m\u001b[43m)\u001b[49m\n\u001b[0;32m    138\u001b[0m \u001b[38;5;28;01mexcept\u001b[39;00m \u001b[38;5;167;01mStopIteration\u001b[39;00m \u001b[38;5;28;01mas\u001b[39;00m exc:\n\u001b[0;32m    139\u001b[0m     \u001b[38;5;66;03m# Suppress StopIteration *unless* it's the same exception that\u001b[39;00m\n\u001b[0;32m    140\u001b[0m     \u001b[38;5;66;03m# was passed to throw().  This prevents a StopIteration\u001b[39;00m\n\u001b[0;32m    141\u001b[0m     \u001b[38;5;66;03m# raised inside the \"with\" statement from being suppressed.\u001b[39;00m\n\u001b[0;32m    142\u001b[0m     \u001b[38;5;28;01mreturn\u001b[39;00m exc \u001b[38;5;129;01mis\u001b[39;00m \u001b[38;5;129;01mnot\u001b[39;00m value\n",
      "File \u001b[1;32m~\\anaconda3\\envs\\MDOHPCA\\lib\\site-packages\\openmdao\\core\\system.py:2933\u001b[0m, in \u001b[0;36mSystem._call_user_function\u001b[1;34m(self, fname, protect_inputs, protect_outputs, protect_residuals)\u001b[0m\n\u001b[0;32m   2931\u001b[0m         \u001b[38;5;28;01mraise\u001b[39;00m\n\u001b[0;32m   2932\u001b[0m     \u001b[38;5;28;01melse\u001b[39;00m:\n\u001b[1;32m-> 2933\u001b[0m         \u001b[38;5;28;01mraise\u001b[39;00m err_type(\n\u001b[0;32m   2934\u001b[0m             \u001b[38;5;124mf\u001b[39m\u001b[38;5;124m\"\u001b[39m\u001b[38;5;132;01m{\u001b[39;00m\u001b[38;5;28mself\u001b[39m\u001b[38;5;241m.\u001b[39mmsginfo\u001b[38;5;132;01m}\u001b[39;00m\u001b[38;5;124m: Error calling \u001b[39m\u001b[38;5;132;01m{\u001b[39;00mfname\u001b[38;5;132;01m}\u001b[39;00m\u001b[38;5;124m(), \u001b[39m\u001b[38;5;132;01m{\u001b[39;00merr\u001b[38;5;132;01m}\u001b[39;00m\u001b[38;5;124m\"\u001b[39m)\u001b[38;5;241m.\u001b[39mwith_traceback(trace)\n\u001b[0;32m   2935\u001b[0m \u001b[38;5;28;01mfinally\u001b[39;00m:\n\u001b[0;32m   2936\u001b[0m     \u001b[38;5;28mself\u001b[39m\u001b[38;5;241m.\u001b[39m_inputs\u001b[38;5;241m.\u001b[39mread_only \u001b[38;5;241m=\u001b[39m \u001b[38;5;28;01mFalse\u001b[39;00m\n",
      "File \u001b[1;32m~\\anaconda3\\envs\\MDOHPCA\\lib\\site-packages\\openmdao\\core\\system.py:2927\u001b[0m, in \u001b[0;36mSystem._call_user_function\u001b[1;34m(self, fname, protect_inputs, protect_outputs, protect_residuals)\u001b[0m\n\u001b[0;32m   2924\u001b[0m \u001b[38;5;28mself\u001b[39m\u001b[38;5;241m.\u001b[39m_residuals\u001b[38;5;241m.\u001b[39mread_only \u001b[38;5;241m=\u001b[39m protect_residuals\n\u001b[0;32m   2926\u001b[0m \u001b[38;5;28;01mtry\u001b[39;00m:\n\u001b[1;32m-> 2927\u001b[0m     \u001b[38;5;28;01myield\u001b[39;00m\n\u001b[0;32m   2928\u001b[0m \u001b[38;5;28;01mexcept\u001b[39;00m \u001b[38;5;167;01mException\u001b[39;00m:\n\u001b[0;32m   2929\u001b[0m     err_type, err, trace \u001b[38;5;241m=\u001b[39m sys\u001b[38;5;241m.\u001b[39mexc_info()\n",
      "File \u001b[1;32m~\\anaconda3\\envs\\MDOHPCA\\lib\\site-packages\\openmdao\\core\\explicitcomponent.py:286\u001b[0m, in \u001b[0;36mExplicitComponent._compute_wrapper\u001b[1;34m(self)\u001b[0m\n\u001b[0;32m    283\u001b[0m     \u001b[38;5;28mself\u001b[39m\u001b[38;5;241m.\u001b[39mcompute(\u001b[38;5;28mself\u001b[39m\u001b[38;5;241m.\u001b[39m_inputs, \u001b[38;5;28mself\u001b[39m\u001b[38;5;241m.\u001b[39m_outputs,\n\u001b[0;32m    284\u001b[0m                  \u001b[38;5;28mself\u001b[39m\u001b[38;5;241m.\u001b[39m_discrete_inputs, \u001b[38;5;28mself\u001b[39m\u001b[38;5;241m.\u001b[39m_discrete_outputs)\n\u001b[0;32m    285\u001b[0m \u001b[38;5;28;01melse\u001b[39;00m:\n\u001b[1;32m--> 286\u001b[0m     \u001b[38;5;28;43mself\u001b[39;49m\u001b[38;5;241;43m.\u001b[39;49m\u001b[43mcompute\u001b[49m\u001b[43m(\u001b[49m\u001b[38;5;28;43mself\u001b[39;49m\u001b[38;5;241;43m.\u001b[39;49m\u001b[43m_inputs\u001b[49m\u001b[43m,\u001b[49m\u001b[43m \u001b[49m\u001b[38;5;28;43mself\u001b[39;49m\u001b[38;5;241;43m.\u001b[39;49m\u001b[43m_outputs\u001b[49m\u001b[43m)\u001b[49m\n",
      "File \u001b[1;32m~\\AppData\\Local\\Temp\\ipykernel_6628\\1045202762.py:35\u001b[0m, in \u001b[0;36moptimisation.compute\u001b[1;34m(self, inputs, outputs)\u001b[0m\n\u001b[0;32m     32\u001b[0m min_weight\u001b[38;5;241m=\u001b[39m data_modified[data_modified[\u001b[38;5;124m\"\u001b[39m\u001b[38;5;124mWeight\u001b[39m\u001b[38;5;124m\"\u001b[39m]\u001b[38;5;241m==\u001b[39mdata_modified[\u001b[38;5;124m\"\u001b[39m\u001b[38;5;124mWeight\u001b[39m\u001b[38;5;124m\"\u001b[39m]\u001b[38;5;241m.\u001b[39mmin()]\n\u001b[0;32m     33\u001b[0m \u001b[38;5;66;03m#####################################\u001b[39;00m\n\u001b[0;32m     34\u001b[0m \u001b[38;5;66;03m#min_weight = pd.DataFrame([[60,5,4]])\u001b[39;00m\n\u001b[1;32m---> 35\u001b[0m b\u001b[38;5;241m=\u001b[39m\u001b[43mmin_weight\u001b[49m\u001b[38;5;241;43m.\u001b[39;49m\u001b[43miloc\u001b[49m\u001b[43m[\u001b[49m\u001b[38;5;241;43m0\u001b[39;49m\u001b[43m,\u001b[49m\u001b[38;5;241;43m0\u001b[39;49m\u001b[43m]\u001b[49m\n\u001b[0;32m     36\u001b[0m c\u001b[38;5;241m=\u001b[39mmin_weight\u001b[38;5;241m.\u001b[39miloc[\u001b[38;5;241m0\u001b[39m,\u001b[38;5;241m1\u001b[39m]\n\u001b[0;32m     37\u001b[0m tip_chord\u001b[38;5;241m=\u001b[39mmin_weight\u001b[38;5;241m.\u001b[39miloc[\u001b[38;5;241m0\u001b[39m,\u001b[38;5;241m2\u001b[39m]\n",
      "File \u001b[1;32m~\\anaconda3\\envs\\MDOHPCA\\lib\\site-packages\\pandas\\core\\indexing.py:1096\u001b[0m, in \u001b[0;36m_LocationIndexer.__getitem__\u001b[1;34m(self, key)\u001b[0m\n\u001b[0;32m   1094\u001b[0m     key \u001b[38;5;241m=\u001b[39m \u001b[38;5;28mtuple\u001b[39m(com\u001b[38;5;241m.\u001b[39mapply_if_callable(x, \u001b[38;5;28mself\u001b[39m\u001b[38;5;241m.\u001b[39mobj) \u001b[38;5;28;01mfor\u001b[39;00m x \u001b[38;5;129;01min\u001b[39;00m key)\n\u001b[0;32m   1095\u001b[0m     \u001b[38;5;28;01mif\u001b[39;00m \u001b[38;5;28mself\u001b[39m\u001b[38;5;241m.\u001b[39m_is_scalar_access(key):\n\u001b[1;32m-> 1096\u001b[0m         \u001b[38;5;28;01mreturn\u001b[39;00m \u001b[38;5;28;43mself\u001b[39;49m\u001b[38;5;241;43m.\u001b[39;49m\u001b[43mobj\u001b[49m\u001b[38;5;241;43m.\u001b[39;49m\u001b[43m_get_value\u001b[49m\u001b[43m(\u001b[49m\u001b[38;5;241;43m*\u001b[39;49m\u001b[43mkey\u001b[49m\u001b[43m,\u001b[49m\u001b[43m \u001b[49m\u001b[43mtakeable\u001b[49m\u001b[38;5;241;43m=\u001b[39;49m\u001b[38;5;28;43mself\u001b[39;49m\u001b[38;5;241;43m.\u001b[39;49m\u001b[43m_takeable\u001b[49m\u001b[43m)\u001b[49m\n\u001b[0;32m   1097\u001b[0m     \u001b[38;5;28;01mreturn\u001b[39;00m \u001b[38;5;28mself\u001b[39m\u001b[38;5;241m.\u001b[39m_getitem_tuple(key)\n\u001b[0;32m   1098\u001b[0m \u001b[38;5;28;01melse\u001b[39;00m:\n\u001b[0;32m   1099\u001b[0m     \u001b[38;5;66;03m# we by definition only have the 0th axis\u001b[39;00m\n",
      "File \u001b[1;32m~\\anaconda3\\envs\\MDOHPCA\\lib\\site-packages\\pandas\\core\\frame.py:3878\u001b[0m, in \u001b[0;36mDataFrame._get_value\u001b[1;34m(self, index, col, takeable)\u001b[0m\n\u001b[0;32m   3876\u001b[0m \u001b[38;5;28;01mif\u001b[39;00m takeable:\n\u001b[0;32m   3877\u001b[0m     series \u001b[38;5;241m=\u001b[39m \u001b[38;5;28mself\u001b[39m\u001b[38;5;241m.\u001b[39m_ixs(col, axis\u001b[38;5;241m=\u001b[39m\u001b[38;5;241m1\u001b[39m)\n\u001b[1;32m-> 3878\u001b[0m     \u001b[38;5;28;01mreturn\u001b[39;00m \u001b[43mseries\u001b[49m\u001b[38;5;241;43m.\u001b[39;49m\u001b[43m_values\u001b[49m\u001b[43m[\u001b[49m\u001b[43mindex\u001b[49m\u001b[43m]\u001b[49m\n\u001b[0;32m   3880\u001b[0m series \u001b[38;5;241m=\u001b[39m \u001b[38;5;28mself\u001b[39m\u001b[38;5;241m.\u001b[39m_get_item_cache(col)\n\u001b[0;32m   3881\u001b[0m engine \u001b[38;5;241m=\u001b[39m \u001b[38;5;28mself\u001b[39m\u001b[38;5;241m.\u001b[39mindex\u001b[38;5;241m.\u001b[39m_engine\n",
      "\u001b[1;31mIndexError\u001b[0m: 'struct.optimisation' <class optimisation>: Error calling compute(), index 0 is out of bounds for axis 0 with size 0"
     ]
    }
   ],
   "source": [
    "prob.run_model()"
   ]
  },
  {
   "cell_type": "code",
   "execution_count": null,
   "id": "f6c2a630",
   "metadata": {},
   "outputs": [],
   "source": [
    "prob.model.list_outputs()"
   ]
  },
  {
   "cell_type": "code",
   "execution_count": null,
   "id": "778ac8a2",
   "metadata": {},
   "outputs": [],
   "source": [
    "prob.model.get_constraints()"
   ]
  },
  {
   "cell_type": "code",
   "execution_count": null,
   "id": "ee8dbf13",
   "metadata": {},
   "outputs": [],
   "source": [
    "#get properties of specific constants in disciplines\n",
    "prob.model.sys.options._dict['pp_mass']"
   ]
  }
 ],
 "metadata": {
  "kernelspec": {
   "display_name": "Python 3 (ipykernel)",
   "language": "python",
   "name": "python3"
  },
  "language_info": {
   "codemirror_mode": {
    "name": "ipython",
    "version": 3
   },
   "file_extension": ".py",
   "mimetype": "text/x-python",
   "name": "python",
   "nbconvert_exporter": "python",
   "pygments_lexer": "ipython3",
   "version": "3.9.15"
  }
 },
 "nbformat": 4,
 "nbformat_minor": 5
}
