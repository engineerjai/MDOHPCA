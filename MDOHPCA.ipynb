{
 "cells": [
  {
   "cell_type": "code",
   "execution_count": 211,
   "id": "8c305589",
   "metadata": {},
   "outputs": [],
   "source": [
    "\n",
    "#    Multi-Disciplinary Design Optimisation of a Hydrogen Powered Commercial Aircraft (MDOHPCA)\n",
    "#    this is the master file that runs each of the individual disciplines \n",
    "#    It sets up each of the analyses, then converts it into an openMDAO problem with a certain structure, then solves for minimum mass\n",
    "\n"
   ]
  },
  {
   "cell_type": "code",
   "execution_count": 210,
   "id": "069bf40a",
   "metadata": {},
   "outputs": [],
   "source": [
    "\n",
    "import pandas as pd\n",
    "import numpy as np\n",
    "import openmdao.api as om"
   ]
  },
  {
   "cell_type": "code",
   "execution_count": 212,
   "id": "a91e9074",
   "metadata": {},
   "outputs": [],
   "source": [
    "class MDOHPCA(om.Group):\n",
    "    \"\"\"\n",
    "    Top level group containing the MDO.\n",
    "    \"\"\"           \n",
    "    def setup(self):\n",
    "        \"\"\"\n",
    "        set up each person's disciplines that can contain analyses\n",
    "        \"\"\"\n",
    "        self.add_subsystem('aero', aero())\n",
    "        self.add_subsystem('sys', sys())\n",
    "        self.add_subsystem('stab', stab())\n",
    "        self.add_subsystem('struct', struct())\n",
    "        \n",
    "        self.add_subsystem('mass', mass())\n",
    "        \n",
    "    def configure(self):\n",
    "        #promote all variables (lazy option, they can be connected individually)\n",
    "        self.promotes('sys',any=['*'])\n",
    "        self.promotes('struct',any=['*'])\n",
    "        \n",
    "        self.promotes('mass',any=['*'])"
   ]
  },
  {
   "cell_type": "code",
   "execution_count": 213,
   "id": "af00b877",
   "metadata": {},
   "outputs": [],
   "source": [
    "class mass(om.ExplicitComponent):\n",
    "    def setup(self):\n",
    "        self.add_input('systems_mass')\n",
    "        self.add_input('weight_structures')\n",
    "        self.add_input('cog_structures', shape = (2,))\n",
    "        self.add_input('systems_CG')\n",
    "        \n",
    "        self.add_output('m')\n",
    "        prob.model.add_objective('m')\n",
    "        \n",
    "        self.add_output('total_CG', shape = (1,2))\n",
    "        \n",
    "    def setup_partials(self):\n",
    "        self.declare_partials('*', '*', method = 'fd')\n",
    "        \n",
    "    def compute(self,inputs,outputs):\n",
    "        #calculation of mass from systems and structures\n",
    "        mass = inputs['systems_mass'] + inputs['weight_structures']\n",
    "        \n",
    "        outputs['m'] = mass\n",
    "        \n",
    "        #calculation of CG from systems and structures\n",
    "        struct_CG = inputs['cog_structures']\n",
    "        sys_CG = inputs['systems_CG']\n",
    "        \n",
    "        struct_comp_x = struct_CG[0]*inputs['weight_structures']\n",
    "        struct_comp_y = struct_CG[1]*inputs['weight_structures']\n",
    "        \n",
    "        sys_comp_x = sys_CG*inputs['systems_mass']\n",
    "        \n",
    "        total_CG_x = (struct_comp_x + sys_comp_x)/mass\n",
    "        total_CG_y = struct_comp_y/mass\n",
    "        \n",
    "        total_CG = [total_CG_x, total_CG_y]\n",
    "        outputs['total_CG'] = total_CG"
   ]
  },
  {
   "cell_type": "code",
   "execution_count": 214,
   "id": "4cb57483",
   "metadata": {},
   "outputs": [],
   "source": [
    "%run struct/structsetup.ipynb\n",
    "#%run stab/stabsetup.ipynb\n",
    "%run systems/systemssetup.ipynb\n",
    "#%run aero/aerosetup_2.ipynb\n",
    "class aero(om.Group):\n",
    "    pass\n",
    "class stab(om.Group):\n",
    "    pass\n"
   ]
  },
  {
   "cell_type": "code",
   "execution_count": 215,
   "id": "9bc13d80",
   "metadata": {},
   "outputs": [],
   "source": [
    "prob = om.Problem(model = MDOHPCA())\n",
    "#prob.model.add_subsystem('aero', om.Group())"
   ]
  },
  {
   "cell_type": "code",
   "execution_count": 217,
   "id": "11ddcf35",
   "metadata": {},
   "outputs": [],
   "source": [
    "#setting inputs to reduce ambiguities where inputs differ in different disciplines\n",
    "prob.model.set_input_defaults('CL', val = 0.6)\n",
    "prob.model.set_input_defaults('sweep', val = 15)\n",
    "prob.model.set_input_defaults('c', val = 4)\n",
    "prob.model.set_input_defaults('b', val = 60)\n",
    "prob.model.set_input_defaults('root_x', val = 10)\n",
    "prob.model.set_input_defaults('m', val = 240000)\n",
    "\n",
    "\n",
    "prob.model.add_design_var('tank_ratio', lower = 0.3, upper = 1)\n",
    "prob.model.set_input_defaults('tank_ratio', val = 1)\n"
   ]
  },
  {
   "cell_type": "code",
   "execution_count": 218,
   "id": "b49706a0",
   "metadata": {},
   "outputs": [
    {
     "data": {
      "text/plain": [
       "<openmdao.core.problem.Problem at 0x2bf9076c550>"
      ]
     },
     "execution_count": 218,
     "metadata": {},
     "output_type": "execute_result"
    }
   ],
   "source": [
    "#declare problem options (driver, optimiser)\n",
    "\n",
    "#prob.nonlinear_solver = om.NonlinearBlockGS()\n",
    "#prob.nonlinear_solver = om.NewtonSolver(solve_subsystems=False)\n",
    "prob.model.nonlinear_solver = om.NonlinearBlockGS()\n",
    "prob.model.nonlinear_solver.options['iprint'] = 2\n",
    "prob.model.nonlinear_solver.options['maxiter'] = 200\n",
    "\n",
    "#prob.nonlinear_solver.options['maxiter'] = 100\n",
    "\n",
    "prob.driver = om.ScipyOptimizeDriver()\n",
    "prob.driver.options['optimizer'] = 'SLSQP'\n",
    "prob.driver.options['tol'] = 1e-5\n",
    "\n",
    "#setup problem to be run\n",
    "prob.setup()"
   ]
  },
  {
   "cell_type": "code",
   "execution_count": 219,
   "id": "26617261",
   "metadata": {
    "scrolled": true
   },
   "outputs": [
    {
     "name": "stdout",
     "output_type": "stream",
     "text": [
      "NL: NLBGS 1 ; 135241144 1\n",
      "NL: NLBGS 2 ; 47280.556 0.000349601864\n",
      "NL: NLBGS 3 ; 31923.7097 0.000236050279\n",
      "NL: NLBGS 4 ; 11611.2383 8.58558127e-05\n",
      "NL: NLBGS 5 ; 3597.55397 2.66010318e-05\n",
      "NL: NLBGS 6 ; 1065.92789 7.88168351e-06\n",
      "NL: NLBGS 7 ; 311.796381 2.30548464e-06\n",
      "NL: NLBGS 8 ; 90.8651432 6.71874997e-07\n",
      "NL: NLBGS 9 ; 26.4516972 1.95589126e-07\n",
      "NL: NLBGS 10 ; 7.69791385 5.69199108e-08\n",
      "NL: NLBGS 11 ; 2.24002451 1.65631881e-08\n",
      "NL: NLBGS 12 ; 0.651809848 4.81961206e-09\n",
      "NL: NLBGS 13 ; 0.189664346 1.40241601e-09\n",
      "NL: NLBGS 14 ; 0.0551886154 4.08075633e-10\n",
      "NL: NLBGS 15 ; 0.0160587972 1.1874195e-10\n",
      "NL: NLBGS 16 ; 0.00467279199 3.45515562e-11\n",
      "NL: NLBGS Converged\n"
     ]
    }
   ],
   "source": [
    "prob.run_model()"
   ]
  },
  {
   "cell_type": "code",
   "execution_count": 220,
   "id": "e8849cd8",
   "metadata": {},
   "outputs": [],
   "source": [
    "#prob.run_driver()"
   ]
  },
  {
   "cell_type": "code",
   "execution_count": 221,
   "id": "f6c2a630",
   "metadata": {
    "scrolled": true
   },
   "outputs": [
    {
     "data": {
      "text/plain": [
       "{'tank_ratio': {'scaler': None,\n",
       "  'adder': None,\n",
       "  'name': 'tank_ratio',\n",
       "  'upper': 1.0,\n",
       "  'lower': 0.3,\n",
       "  'ref': None,\n",
       "  'ref0': None,\n",
       "  'units': None,\n",
       "  'cache_linear_solution': False,\n",
       "  'indices': None,\n",
       "  'flat_indices': False,\n",
       "  'parallel_deriv_color': None,\n",
       "  'source': '_auto_ivc.v2',\n",
       "  'orig': (None, 'tank_ratio'),\n",
       "  'distributed': False,\n",
       "  'total_adder': None,\n",
       "  'total_scaler': None,\n",
       "  'size': 1,\n",
       "  'global_size': 1}}"
      ]
     },
     "execution_count": 221,
     "metadata": {},
     "output_type": "execute_result"
    }
   ],
   "source": [
    "prob.model.get_design_vars()"
   ]
  },
  {
   "cell_type": "code",
   "execution_count": 222,
   "id": "778ac8a2",
   "metadata": {},
   "outputs": [
    {
     "data": {
      "text/plain": [
       "array([1.])"
      ]
     },
     "execution_count": 222,
     "metadata": {},
     "output_type": "execute_result"
    }
   ],
   "source": [
    "prob.model.get_val('tank_ratio')"
   ]
  },
  {
   "cell_type": "code",
   "execution_count": 223,
   "id": "ee8dbf13",
   "metadata": {},
   "outputs": [
    {
     "name": "stdout",
     "output_type": "stream",
     "text": [
      "35 Explicit Output(s) in 'model'\n",
      "\n",
      "varname                         val                 \n",
      "------------------------------  --------------------\n",
      "sys\n",
      "  fuel_mass_calc\n",
      "    fuel_mass                   [19336.54240762]    \n",
      "  tanks\n",
      "    tank1_mass_full             [14954.31925929]    \n",
      "    tank1_mass_empty            [3352.39381472]     \n",
      "    tank2_mass_full             [10319.12923167]    \n",
      "    tank2_mass_empty            [2584.51226862]     \n",
      "    CGtp                        [26.90188178]       \n",
      "    tank1_x                     [7.24171317]        \n",
      "    tank2_x                     [12.87728983]       \n",
      "    tank_config_n               [5.]                \n",
      "    tank_i_t                    [0.14881226]        \n",
      "    length_fuselage             [65.27115332]       \n",
      "  pipes\n",
      "    pipe_CG                     [13.95793735]       \n",
      "    pipe_mass                   [385.25431126]      \n",
      "    pipe_i_t                    [0.04628407]        \n",
      "  engine\n",
      "    engine_mass                 [203.90823463]      \n",
      "    engine_x                    [14.82308546]       \n",
      "    engine_y                    [18.]               \n",
      "  actuator\n",
      "    each_flap_actuator_mass     [2.55]              \n",
      "    each_aileron_actuator_mass  [0.1275]            \n",
      "    actuators_CG_x              [13.50885847]       \n",
      "  systems_roundup\n",
      "    systems_mass                [42529.47427148]    \n",
      "    systems_CG                  [16.68697449]       \n",
      "struct\n",
      "  bendingmoments\n",
      "    bending_moment              [1525153.68083289]  \n",
      "  landing_gear_calcs\n",
      "    landing_tension             [81804.92885164]    \n",
      "  spars\n",
      "    spars                       |8.82718371|        \n",
      "  optimisation\n",
      "    b                           [20.]               \n",
      "    min_weight                  |135231575.2096813| \n",
      "    Ix                          [310232.]           \n",
      "    Iy                          [395391.]           \n",
      "    Iz                          [88948.3]           \n",
      "    Ixz                         [32811.7]           \n",
      "  structures_cog\n",
      "    cog_structures              |21.27475012|       \n",
      "    weight_structures           [3875.92799132]     \n",
      "mass\n",
      "  m                             [46405.4022628]     \n",
      "  total_CG                      |16.96947998|       \n",
      "\n",
      "\n",
      "0 Implicit Output(s) in 'model'\n",
      "\n",
      "\n"
     ]
    },
    {
     "data": {
      "text/plain": [
       "[('sys.fuel_mass_calc.fuel_mass', {'val': array([19336.54240762])}),\n",
       " ('sys.tanks.tank1_mass_full', {'val': array([14954.31925929])}),\n",
       " ('sys.tanks.tank1_mass_empty', {'val': array([3352.39381472])}),\n",
       " ('sys.tanks.tank2_mass_full', {'val': array([10319.12923167])}),\n",
       " ('sys.tanks.tank2_mass_empty', {'val': array([2584.51226862])}),\n",
       " ('sys.tanks.CGtp', {'val': array([26.90188178])}),\n",
       " ('sys.tanks.tank1_x', {'val': array([7.24171317])}),\n",
       " ('sys.tanks.tank2_x', {'val': array([12.87728983])}),\n",
       " ('sys.tanks.tank_config_n', {'val': array([5.])}),\n",
       " ('sys.tanks.tank_i_t', {'val': array([0.14881226])}),\n",
       " ('sys.tanks.length_fuselage', {'val': array([65.27115332])}),\n",
       " ('sys.pipes.pipe_CG', {'val': array([13.95793735])}),\n",
       " ('sys.pipes.pipe_mass', {'val': array([385.25431126])}),\n",
       " ('sys.pipes.pipe_i_t', {'val': array([0.04628407])}),\n",
       " ('sys.engine.engine_mass', {'val': array([203.90823463])}),\n",
       " ('sys.engine.engine_x', {'val': array([14.82308546])}),\n",
       " ('sys.engine.engine_y', {'val': array([18.])}),\n",
       " ('sys.actuator.each_flap_actuator_mass', {'val': array([2.55])}),\n",
       " ('sys.actuator.each_aileron_actuator_mass', {'val': array([0.1275])}),\n",
       " ('sys.actuator.actuators_CG_x', {'val': array([13.50885847])}),\n",
       " ('sys.systems_roundup.systems_mass', {'val': array([42529.47427148])}),\n",
       " ('sys.systems_roundup.systems_CG', {'val': array([16.68697449])}),\n",
       " ('struct.bendingmoments.bending_moment', {'val': array([1525153.68083289])}),\n",
       " ('struct.landing_gear_calcs.landing_tension',\n",
       "  {'val': array([81804.92885164])}),\n",
       " ('struct.spars.spars',\n",
       "  {'val': array([[5.80898385, 1.        ],\n",
       "          [6.25898385, 2.        ]])}),\n",
       " ('struct.optimisation.b', {'val': array([20.])}),\n",
       " ('struct.optimisation.min_weight',\n",
       "  {'val': array([[ 2.00000e+01,  1.26000e+01,  8.40000e+00,  1.82200e+03,\n",
       "            2.21800e-02,  5.94200e+06,  1.35100e+08,  3.10232e+05,\n",
       "            3.95391e+05,  8.89483e+04,  1.74658e+01, -1.63216e+02,\n",
       "            3.28117e+04]])}),\n",
       " ('struct.optimisation.Ix', {'val': array([310232.])}),\n",
       " ('struct.optimisation.Iy', {'val': array([395391.])}),\n",
       " ('struct.optimisation.Iz', {'val': array([88948.3])}),\n",
       " ('struct.optimisation.Ixz', {'val': array([32811.7])}),\n",
       " ('struct.structures_cog.cog_structures',\n",
       "  {'val': array([19.93324301,  7.43510697])}),\n",
       " ('struct.structures_cog.weight_structures', {'val': array([3875.92799132])}),\n",
       " ('mass.m', {'val': array([46405.4022628])}),\n",
       " ('mass.total_CG', {'val': array([[16.95811325,  0.62100397]])})]"
      ]
     },
     "execution_count": 223,
     "metadata": {},
     "output_type": "execute_result"
    }
   ],
   "source": [
    "#get properties of specific constants in disciplines\n",
    "#prob.model.sys.options._dict['pp_mass']\n",
    "\n",
    "prob.model.list_outputs()"
   ]
  },
  {
   "cell_type": "code",
   "execution_count": null,
   "id": "dd9dde5c",
   "metadata": {},
   "outputs": [],
   "source": [
    "mass = 6\n",
    "naca_series = '23014'\n",
    "max_allowable_wing_span = 90\n",
    "keyaeronumbers = pd.DataFrame(list([mass,naca_series,max_allowable_wing_span]))\n",
    "keyaeronumbers"
   ]
  },
  {
   "cell_type": "code",
   "execution_count": null,
   "id": "8e028a60",
   "metadata": {},
   "outputs": [],
   "source": [
    "keyaeronumbers = pd.read_csv(\"keyAero.dat\")\n"
   ]
  },
  {
   "cell_type": "code",
   "execution_count": null,
   "id": "bf3195c8",
   "metadata": {},
   "outputs": [],
   "source": [
    "f = pd.DataFrame(keyaeronumbers)"
   ]
  },
  {
   "cell_type": "code",
   "execution_count": null,
   "id": "5b3a55e6",
   "metadata": {},
   "outputs": [],
   "source": [
    "str(int(f.iloc[1]))"
   ]
  },
  {
   "cell_type": "code",
   "execution_count": null,
   "id": "5326cf83",
   "metadata": {},
   "outputs": [],
   "source": []
  }
 ],
 "metadata": {
  "kernelspec": {
   "display_name": "Python 3 (ipykernel)",
   "language": "python",
   "name": "python3"
  },
  "language_info": {
   "codemirror_mode": {
    "name": "ipython",
    "version": 3
   },
   "file_extension": ".py",
   "mimetype": "text/x-python",
   "name": "python",
   "nbconvert_exporter": "python",
   "pygments_lexer": "ipython3",
   "version": "3.9.15"
  }
 },
 "nbformat": 4,
 "nbformat_minor": 5
}
