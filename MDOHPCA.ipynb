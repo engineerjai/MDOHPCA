{
 "cells": [
  {
   "cell_type": "code",
   "execution_count": 1,
   "id": "8c305589",
   "metadata": {},
   "outputs": [],
   "source": [
    "\n",
    "#    Multi-Disciplinary Design Optimisation of a Hydrogen Powered Commercial Aircraft (MDOHPCA)\n",
    "#    this is the master file that runs each of the individual disciplines \n",
    "#    It sets up each of the analyses, then converts it into an openMDAO problem with a certain structure, then solves for minimum mass\n",
    "\n"
   ]
  },
  {
   "cell_type": "code",
   "execution_count": 2,
   "id": "069bf40a",
   "metadata": {},
   "outputs": [],
   "source": [
    "\n",
    "import pandas as pd\n",
    "import numpy as np\n",
    "import openmdao.api as om"
   ]
  },
  {
   "cell_type": "code",
   "execution_count": 3,
   "id": "a91e9074",
   "metadata": {},
   "outputs": [],
   "source": [
    "class MDOHPCA(om.Group):\n",
    "    \"\"\"\n",
    "    Top level group containing the MDO.\n",
    "    \"\"\"           \n",
    "    def setup(self):\n",
    "        \"\"\"\n",
    "        set up each person's disciplines that can contain analyses\n",
    "        \"\"\"\n",
    "        self.add_subsystem('aero', aero())\n",
    "        self.add_subsystem('sys', sys())\n",
    "        self.add_subsystem('stab', stab())\n",
    "        self.add_subsystem('struct', struct())\n",
    "        \n",
    "        self.add_subsystem('mass', mass())\n",
    "        \n",
    "    def configure(self):\n",
    "        #promote all variables (lazy option, they can be connected individually)\n",
    "        self.promotes('sys',any=['*'])\n",
    "        self.promotes('struct',any=['*'])\n",
    "        \n",
    "        self.promotes('mass',any=['*'])"
   ]
  },
  {
   "cell_type": "code",
   "execution_count": null,
   "id": "af00b877",
   "metadata": {},
   "outputs": [],
   "source": [
    "class mass(om.ExplicitComponent):\n",
    "    def setup(self):\n",
    "        self.add_input('systems_mass')\n",
    "        self.add_input('weight_structures')\n",
    "        self.add_input('cog_structures', shape = (2,))\n",
    "        self.add_input('systems_CG')\n",
    "        \n",
    "        self.add_output('m')\n",
    "        prob.model.add_objective('m')\n",
    "        \n",
    "        self.add_output('total_CG', shape = (1,2))\n",
    "        \n",
    "    def setup_partials(self):\n",
    "        self.declare_partials('*', '*', method = 'fd')\n",
    "        \n",
    "    def compute(self,inputs,outputs):\n",
    "        #calculation of mass from systems and structures\n",
    "        mass = inputs['systems_mass'] + inputs['weight_structures']\n",
    "        \n",
    "        outputs['m'] = mass\n",
    "        \n",
    "        #calculation of CG from systems and structures\n",
    "        struct_CG = inputs['cog_structures']\n",
    "        sys_CG = inputs['systems_CG']\n",
    "        \n",
    "        struct_comp_x = struct_CG[0]*inputs['weight_structures']\n",
    "        struct_comp_y = struct_CG[1]*inputs['weight_structures']\n",
    "        \n",
    "        sys_comp_x = sys_CG*inputs['systems_mass']\n",
    "        \n",
    "        total_CG_x = (struct_comp_x + sys_comp_x)/mass\n",
    "        total_CG_y = struct_comp_y/mass\n",
    "        \n",
    "        total_CG = [total_CG_x, total_CG_y]\n",
    "        outputs['total_CG'] = total_CG"
   ]
  },
  {
   "cell_type": "code",
   "execution_count": null,
   "id": "4cb57483",
   "metadata": {},
   "outputs": [],
   "source": [
    "%run struct/structsetup.ipynb\n",
    "%run stab/stabsetup.ipynb\n",
    "%run systems/systemssetup.ipynb\n",
    "%run aero/aerosetup_2.ipynb"
   ]
  },
  {
   "cell_type": "code",
   "execution_count": null,
   "id": "9bc13d80",
   "metadata": {},
   "outputs": [],
   "source": [
    "prob = om.Problem(model = MDOHPCA())\n",
    "#prob.model.add_subsystem('aero', om.Group())"
   ]
  },
  {
   "cell_type": "code",
   "execution_count": null,
   "id": "11ddcf35",
   "metadata": {},
   "outputs": [],
   "source": [
    "#setting inputs to reduce ambiguities where inputs differ in different disciplines\n",
    "prob.model.set_input_defaults('CL', val = 0.6)\n",
    "prob.model.set_input_defaults('sweep', val = 15)\n",
    "prob.model.set_input_defaults('c', val = 4)\n",
    "prob.model.set_input_defaults('b', val = 60)\n",
    "prob.model.set_input_defaults('root_x', val = 10)\n",
    "prob.model.set_input_defaults('m', val = 240000)\n",
    "\n",
    "\n",
    "prob.model.add_design_var('tank_ratio', lower = 0.3, upper = 1)\n",
    "prob.model.set_input_defaults('tank_ratio', val = 1)\n"
   ]
  },
  {
   "cell_type": "code",
   "execution_count": null,
   "id": "b49706a0",
   "metadata": {},
   "outputs": [],
   "source": [
    "#declare problem options (driver, optimiser)\n",
    "\n",
    "#prob.nonlinear_solver = om.NonlinearBlockGS()\n",
    "#prob.nonlinear_solver = om.NewtonSolver(solve_subsystems=False)\n",
    "prob.model.nonlinear_solver = om.NonlinearBlockGS()\n",
    "prob.model.nonlinear_solver.options['iprint'] = 2\n",
    "prob.model.nonlinear_solver.options['maxiter'] = 200\n",
    "\n",
    "#prob.nonlinear_solver.options['maxiter'] = 100\n",
    "\n",
    "prob.driver = om.ScipyOptimizeDriver()\n",
    "prob.driver.options['optimizer'] = 'SLSQP'\n",
    "prob.driver.options['tol'] = 1e-5\n",
    "\n",
    "#setup problem to be run\n",
    "prob.setup()"
   ]
  },
  {
   "cell_type": "code",
   "execution_count": null,
   "id": "26617261",
   "metadata": {
    "scrolled": true
   },
   "outputs": [],
   "source": [
    "prob.run_model()"
   ]
  },
  {
   "cell_type": "code",
   "execution_count": null,
   "id": "e8849cd8",
   "metadata": {},
   "outputs": [],
   "source": [
    "#prob.run_driver()"
   ]
  },
  {
   "cell_type": "code",
   "execution_count": null,
   "id": "f6c2a630",
   "metadata": {
    "scrolled": true
   },
   "outputs": [],
   "source": [
    "prob.model.get_design_vars()"
   ]
  },
  {
   "cell_type": "code",
   "execution_count": null,
   "id": "778ac8a2",
   "metadata": {},
   "outputs": [],
   "source": [
    "prob.model.get_val('tank_ratio')"
   ]
  },
  {
   "cell_type": "code",
   "execution_count": null,
   "id": "ee8dbf13",
   "metadata": {},
   "outputs": [],
   "source": [
    "#get properties of specific constants in disciplines\n",
    "#prob.model.sys.options._dict['pp_mass']\n",
    "\n",
    "prob.model.list_outputs()"
   ]
  },
  {
   "cell_type": "code",
   "execution_count": null,
   "id": "dd9dde5c",
   "metadata": {},
   "outputs": [],
   "source": [
    "mass = 6\n",
    "naca_series = '23014'\n",
    "max_allowable_wing_span = 90\n",
    "keyaeronumbers = pd.DataFrame(list([mass,naca_series,max_allowable_wing_span]))\n",
    "keyaeronumbers"
   ]
  },
  {
   "cell_type": "code",
   "execution_count": null,
   "id": "8e028a60",
   "metadata": {},
   "outputs": [],
   "source": [
    "keyaeronumbers = pd.read_csv(\"keyAero.dat\")\n"
   ]
  },
  {
   "cell_type": "code",
   "execution_count": null,
   "id": "bf3195c8",
   "metadata": {},
   "outputs": [],
   "source": [
    "f = pd.DataFrame(keyaeronumbers)"
   ]
  },
  {
   "cell_type": "code",
   "execution_count": 4,
   "id": "5b3a55e6",
   "metadata": {},
   "outputs": [],
   "source": [
    "from subprocess import run"
   ]
  },
  {
   "cell_type": "code",
   "execution_count": 7,
   "id": "5326cf83",
   "metadata": {},
   "outputs": [
    {
     "name": "stdout",
     "output_type": "stream",
     "text": [
      "systems loaded\n"
     ]
    }
   ],
   "source": [
    "with open('systems/systemssetup.py', 'r') as f:\n",
    "    exec(f.read())\n"
   ]
  },
  {
   "cell_type": "code",
   "execution_count": null,
   "id": "87fd5190",
   "metadata": {},
   "outputs": [],
   "source": []
  }
 ],
 "metadata": {
  "kernelspec": {
   "display_name": "Python 3 (ipykernel)",
   "language": "python",
   "name": "python3"
  },
  "language_info": {
   "codemirror_mode": {
    "name": "ipython",
    "version": 3
   },
   "file_extension": ".py",
   "mimetype": "text/x-python",
   "name": "python",
   "nbconvert_exporter": "python",
   "pygments_lexer": "ipython3",
   "version": "3.9.15"
  }
 },
 "nbformat": 4,
 "nbformat_minor": 5
}
