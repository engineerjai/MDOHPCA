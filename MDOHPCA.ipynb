{
 "cells": [
  {
   "cell_type": "code",
   "execution_count": 43,
   "id": "8c305589",
   "metadata": {},
   "outputs": [],
   "source": [
    "\n",
    "#    Multi-Disciplinary Design Optimisation of a Hydrogen Powered Commercial Aircraft (MDOHPCA)\n",
    "#    this is the master file that runs each of the individual disciplines \n",
    "#    It sets up each of the analyses, then converts it into an openMDAO problem with a certain structure, then solves for minimum mass\n",
    "\n"
   ]
  },
  {
   "cell_type": "code",
   "execution_count": 44,
   "id": "069bf40a",
   "metadata": {},
   "outputs": [],
   "source": [
    "import openmdao.api as om\n",
    "import pandas as pd\n",
    "import numpy as np"
   ]
  },
  {
   "cell_type": "code",
   "execution_count": 45,
   "id": "a91e9074",
   "metadata": {},
   "outputs": [],
   "source": [
    "class MDOHPCA(om.Group):\n",
    "    \"\"\"\n",
    "    Top level group containing the MDO.\n",
    "    \"\"\"           \n",
    "    def setup(self):\n",
    "        \"\"\"\n",
    "        set up each person's disciplines that can contain analyses\n",
    "        \"\"\"\n",
    "        self.add_subsystem('aero', aero())\n",
    "        self.add_subsystem('sys', sys())\n",
    "        self.add_subsystem('stab', stab())\n",
    "        self.add_subsystem('struct', struct())\n",
    "        \n",
    "        self.add_subsystem('mass', mass())\n",
    "        \n",
    "    def configure(self):\n",
    "        #promote all variables (lazy option, they can be connected individually)\n",
    "        self.promotes('sys',any=['*'])\n",
    "        self.promotes('struct',any=['*'])\n",
    "        \n",
    "        self.promotes('mass',any=['*'])"
   ]
  },
  {
   "cell_type": "code",
   "execution_count": 46,
   "id": "af00b877",
   "metadata": {},
   "outputs": [],
   "source": [
    "class mass(om.ExplicitComponent):\n",
    "    def setup(self):\n",
    "        self.add_input('systems_mass')\n",
    "        self.add_input('weight_structures')\n",
    "        \n",
    "        self.add_output('m')\n",
    "        self.add_objective('m')\n",
    "        \n",
    "    def compute(self,inputs,outputs):\n",
    "        outputs['m'] = inputs['systems_mass'] + inputs['weight_structures']"
   ]
  },
  {
   "cell_type": "code",
   "execution_count": 47,
   "id": "4cb57483",
   "metadata": {},
   "outputs": [],
   "source": [
    "%run struct/structsetup.ipynb\n",
    "#%run stab/stabsetup.ipynb\n",
    "%run systems/systemssetup.ipynb\n",
    "class aero(om.ExplicitComponent):\n",
    "    pass\n",
    "class stab(om.ExplicitComponent):\n",
    "    pass"
   ]
  },
  {
   "cell_type": "code",
   "execution_count": 48,
   "id": "9bc13d80",
   "metadata": {},
   "outputs": [],
   "source": [
    "prob = om.Problem(model = MDOHPCA())\n",
    "#prob.model.add_subsystem('aero', om.Group())"
   ]
  },
  {
   "cell_type": "code",
   "execution_count": 49,
   "id": "11ddcf35",
   "metadata": {},
   "outputs": [],
   "source": [
    "#setting inputs to reduce ambiguities where inputs differ in different disciplines\n",
    "prob.model.set_input_defaults('CL', val = 0.6)\n",
    "prob.model.set_input_defaults('sweep', val = 15)\n",
    "prob.model.set_input_defaults('c', val = 4)\n",
    "prob.model.set_input_defaults('b', val = 60)\n",
    "prob.model.set_input_defaults('root_x', val = 10)\n",
    "prob.model.set_input_defaults('m', val = 240000)\n",
    "\n",
    "prob.model.add_design_var('fuselage_diameter')"
   ]
  },
  {
   "cell_type": "code",
   "execution_count": 50,
   "id": "b49706a0",
   "metadata": {},
   "outputs": [
    {
     "data": {
      "text/plain": [
       "<openmdao.core.problem.Problem at 0x1e0cb21fac0>"
      ]
     },
     "execution_count": 50,
     "metadata": {},
     "output_type": "execute_result"
    }
   ],
   "source": [
    "#declare problem options (driver, optimiser)\n",
    "prob.model.driver = om.ScipyOptimizeDriver()\n",
    "prob.model.driver.options['optimizer'] = 'SLSQP'\n",
    "#prob.nonlinear_solver = om.NonlinearBlockGS()\n",
    "#prob.nonlinear_solver = om.NewtonSolver(solve_subsystems=False)\n",
    "prob.model.nonlinear_solver = om.NonlinearBlockGS()\n",
    "#prob.nonlinear_solver.options['iprint'] = 2\n",
    "#prob.nonlinear_solver.options['maxiter'] = 100\n",
    "prob.model.driver.options['maxiter'] = 5\n",
    "prob.model.driver.options['tol'] = 1e-8\n",
    "\n",
    "#setup problem to be run\n",
    "prob.setup()"
   ]
  },
  {
   "cell_type": "code",
   "execution_count": 51,
   "id": "d0c7cd32",
   "metadata": {},
   "outputs": [],
   "source": [
    "#%run aero/aerosetup.ipynb"
   ]
  },
  {
   "cell_type": "code",
   "execution_count": 52,
   "id": "26617261",
   "metadata": {},
   "outputs": [
    {
     "name": "stdout",
     "output_type": "stream",
     "text": [
      "NL: NLBGS Converged in 3 iterations\n"
     ]
    }
   ],
   "source": [
    "prob.run_model()"
   ]
  },
  {
   "cell_type": "code",
   "execution_count": 30,
   "id": "5530a25c",
   "metadata": {},
   "outputs": [
    {
     "data": {
      "text/plain": [
       "{'val': 32816.0,\n",
       " 'values': None,\n",
       " 'types': None,\n",
       " 'desc': 'people and cargo mass',\n",
       " 'upper': None,\n",
       " 'lower': None,\n",
       " 'check_valid': None,\n",
       " 'has_been_set': True,\n",
       " 'allow_none': False,\n",
       " 'recordable': True,\n",
       " 'deprecation': None}"
      ]
     },
     "execution_count": 30,
     "metadata": {},
     "output_type": "execute_result"
    }
   ],
   "source": [
    "#get properties of specific constants in disciplines\n",
    "prob.model.sys.options._dict['pp_mass']"
   ]
  },
  {
   "cell_type": "code",
   "execution_count": 53,
   "id": "f6c2a630",
   "metadata": {},
   "outputs": [
    {
     "name": "stdout",
     "output_type": "stream",
     "text": [
      "27 Explicit Output(s) in 'model'\n",
      "\n",
      "varname                         val                 \n",
      "------------------------------  --------------------\n",
      "sys\n",
      "  fuel_mass_calc\n",
      "    fuel_mass                   [63.42212651]       \n",
      "  tanks\n",
      "    tank1_mass_full             [1429.67182543]     \n",
      "    tank1_mass_empty            [1391.61854952]     \n",
      "    tank2_mass_full             [1414.79580524]     \n",
      "    tank2_mass_empty            [1389.42695464]     \n",
      "    CGtp                        [30.50658828]       \n",
      "    tank1_x                     [4.80864777]        \n",
      "    tank2_x                     [46.42383765]       \n",
      "  pipes\n",
      "    pipe_CG                     [22.44224705]       \n",
      "    pipe_mass                   [74.79668214]       \n",
      "  engine\n",
      "    engine_mass                 [1054.575]          \n",
      "    engine_x                    [14.82308546]       \n",
      "    engine_y                    [18.]               \n",
      "  actuator\n",
      "    each_flap_actuator_mass     [2.55]              \n",
      "    each_aileron_actuator_mass  [0.1275]            \n",
      "    actuators_CG_x              [13.50885847]       \n",
      "  systems_roundup\n",
      "    systems_mass                [5528.76931281]     \n",
      "    systems_CG                  [24.79584804]       \n",
      "struct\n",
      "  bendingmoments\n",
      "    bending_moment              [1906442.10104111]  \n",
      "  landing_gear_calcs\n",
      "    landing_tension             [1.]                \n",
      "  spars\n",
      "    spars                       |24.09545569|       \n",
      "  optimisation\n",
      "    b                           [60.]               \n",
      "    c                           [5.]                \n",
      "    min_weight                  |60.34069937|       \n",
      "  structures_cog\n",
      "    cog_structures              |346241150168.7246| \n",
      "    weight_structures           [110.73424435]      \n",
      "mass\n",
      "  m                             [5639.50355716]     \n",
      "\n",
      "\n",
      "0 Implicit Output(s) in 'model'\n",
      "\n",
      "\n"
     ]
    },
    {
     "data": {
      "text/plain": [
       "[('sys.fuel_mass_calc.fuel_mass', {'val': array([63.42212651])}),\n",
       " ('sys.tanks.tank1_mass_full', {'val': array([1429.67182543])}),\n",
       " ('sys.tanks.tank1_mass_empty', {'val': array([1391.61854952])}),\n",
       " ('sys.tanks.tank2_mass_full', {'val': array([1414.79580524])}),\n",
       " ('sys.tanks.tank2_mass_empty', {'val': array([1389.42695464])}),\n",
       " ('sys.tanks.CGtp', {'val': array([30.50658828])}),\n",
       " ('sys.tanks.tank1_x', {'val': array([4.80864777])}),\n",
       " ('sys.tanks.tank2_x', {'val': array([46.42383765])}),\n",
       " ('sys.pipes.pipe_CG', {'val': array([22.44224705])}),\n",
       " ('sys.pipes.pipe_mass', {'val': array([74.79668214])}),\n",
       " ('sys.engine.engine_mass', {'val': array([1054.575])}),\n",
       " ('sys.engine.engine_x', {'val': array([14.82308546])}),\n",
       " ('sys.engine.engine_y', {'val': array([18.])}),\n",
       " ('sys.actuator.each_flap_actuator_mass', {'val': array([2.55])}),\n",
       " ('sys.actuator.each_aileron_actuator_mass', {'val': array([0.1275])}),\n",
       " ('sys.actuator.actuators_CG_x', {'val': array([13.50885847])}),\n",
       " ('sys.systems_roundup.systems_mass', {'val': array([5528.76931281])}),\n",
       " ('sys.systems_roundup.systems_CG', {'val': array([24.79584804])}),\n",
       " ('struct.bendingmoments.bending_moment', {'val': array([1906442.10104111])}),\n",
       " ('struct.landing_gear_calcs.landing_tension', {'val': array([1.])}),\n",
       " ('struct.spars.spars',\n",
       "  {'val': array([[16.63945155,  1.25      ],\n",
       "          [17.20195155,  2.5       ]])}),\n",
       " ('struct.optimisation.b', {'val': array([60.])}),\n",
       " ('struct.optimisation.c', {'val': array([5.])}),\n",
       " ('struct.optimisation.min_weight', {'val': array([[60.,  5.,  4.]])}),\n",
       " ('struct.structures_cog.cog_structures',\n",
       "  {'val': array([-3.42611084e+11, -5.00057886e+10])}),\n",
       " ('struct.structures_cog.weight_structures', {'val': array([110.73424435])}),\n",
       " ('mass.m', {'val': array([5639.50355716])})]"
      ]
     },
     "execution_count": 53,
     "metadata": {},
     "output_type": "execute_result"
    }
   ],
   "source": [
    "prob.model.list_outputs()"
   ]
  },
  {
   "cell_type": "code",
   "execution_count": null,
   "id": "ee8dbf13",
   "metadata": {},
   "outputs": [],
   "source": []
  }
 ],
 "metadata": {
  "kernelspec": {
   "display_name": "Python 3 (ipykernel)",
   "language": "python",
   "name": "python3"
  },
  "language_info": {
   "codemirror_mode": {
    "name": "ipython",
    "version": 3
   },
   "file_extension": ".py",
   "mimetype": "text/x-python",
   "name": "python",
   "nbconvert_exporter": "python",
   "pygments_lexer": "ipython3",
   "version": "3.9.15"
  }
 },
 "nbformat": 4,
 "nbformat_minor": 5
}
