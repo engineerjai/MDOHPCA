{
 "cells": [
  {
   "cell_type": "code",
   "execution_count": 46,
   "id": "8c305589",
   "metadata": {},
   "outputs": [],
   "source": [
    "\n",
    "#    Multi-Disciplinary Design Optimisation of a Hydrogen Powered Commercial Aircraft (MDOHPCA)\n",
    "#    this is the 1st draft of the overall framework\n",
    "#    includes generic analyses of disciplines which should eventually be replaced by Meta Models of engineering analysis (CFD, CSD, etc)\n"
   ]
  },
  {
   "cell_type": "code",
   "execution_count": 2,
   "id": "069bf40a",
   "metadata": {},
   "outputs": [],
   "source": [
    "import openmdao.api as om\n",
    "import pandas as pd\n",
    "import numpy as np"
   ]
  },
  {
   "cell_type": "code",
   "execution_count": 13,
   "id": "a91e9074",
   "metadata": {},
   "outputs": [],
   "source": [
    "class MDOHPCA(om.Group):\n",
    "    \"\"\"\n",
    "    Top level group containing the MDO.\n",
    "    \"\"\"\n",
    "    def setup(self):\n",
    "        \"\"\"\n",
    "        set up each person's disciplines that can contain analyses\n",
    "        \"\"\"\n",
    "        self.add_subsystem('aero', aero())\n",
    "        self.add_subsystem('struct', struct())\n",
    "        self.add_subsystem('sys', sys())\n",
    "        self.add_subsystem('stab', stab()) \n",
    "        \n"
   ]
  },
  {
   "cell_type": "code",
   "execution_count": 14,
   "id": "4cb57483",
   "metadata": {},
   "outputs": [],
   "source": [
    "%run aero/aerosetup.ipynb\n",
    "%run struct/structsetup.ipynb\n",
    "%run stab/stabsetup.ipynb\n",
    "%run systems/systemssetup.ipynb"
   ]
  },
  {
   "cell_type": "code",
   "execution_count": 15,
   "id": "9bc13d80",
   "metadata": {},
   "outputs": [],
   "source": [
    "prob = om.Problem(model = MDOHPCA())"
   ]
  },
  {
   "cell_type": "code",
   "execution_count": 16,
   "id": "ba356f4d",
   "metadata": {},
   "outputs": [
    {
     "data": {
      "text/plain": [
       "<openmdao.core.problem.Problem at 0x1db115aec40>"
      ]
     },
     "execution_count": 16,
     "metadata": {},
     "output_type": "execute_result"
    }
   ],
   "source": [
    "prob.setup()"
   ]
  },
  {
   "cell_type": "code",
   "execution_count": 53,
   "id": "26617261",
   "metadata": {},
   "outputs": [],
   "source": [
    "prob.run_model()"
   ]
  },
  {
   "cell_type": "code",
   "execution_count": 17,
   "id": "5530a25c",
   "metadata": {},
   "outputs": [
    {
     "data": {
      "text/plain": [
       "{'val': 32200.0,\n",
       " 'values': None,\n",
       " 'types': None,\n",
       " 'desc': 'people and cargo mass',\n",
       " 'upper': None,\n",
       " 'lower': None,\n",
       " 'check_valid': None,\n",
       " 'has_been_set': True,\n",
       " 'allow_none': False,\n",
       " 'recordable': True,\n",
       " 'deprecation': None}"
      ]
     },
     "execution_count": 17,
     "metadata": {},
     "output_type": "execute_result"
    }
   ],
   "source": [
    "#get properties of specific constants in disciplines\n",
    "prob.model.sys.options._dict['pp_mass']"
   ]
  },
  {
   "cell_type": "code",
   "execution_count": null,
   "id": "f6c2a630",
   "metadata": {},
   "outputs": [],
   "source": []
  }
 ],
 "metadata": {
  "kernelspec": {
   "display_name": "Python 3 (ipykernel)",
   "language": "python",
   "name": "python3"
  },
  "language_info": {
   "codemirror_mode": {
    "name": "ipython",
    "version": 3
   },
   "file_extension": ".py",
   "mimetype": "text/x-python",
   "name": "python",
   "nbconvert_exporter": "python",
   "pygments_lexer": "ipython3",
   "version": "3.9.15"
  }
 },
 "nbformat": 4,
 "nbformat_minor": 5
}
