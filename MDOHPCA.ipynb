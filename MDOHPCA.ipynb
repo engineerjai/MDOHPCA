{
 "cells": [
  {
   "cell_type": "code",
   "execution_count": 235,
   "id": "8c305589",
   "metadata": {},
   "outputs": [],
   "source": [
    "\n",
    "#    Multi-Disciplinary Design Optimisation of a Hydrogen Powered Commercial Aircraft (MDOHPCA)\n",
    "#    this is the master file that runs each of the individual disciplines \n",
    "#    It sets up each of the analyses, then converts it into an openMDAO problem with a certain structure, then solves for minimum mass\n",
    "\n"
   ]
  },
  {
   "cell_type": "code",
   "execution_count": 236,
   "id": "069bf40a",
   "metadata": {},
   "outputs": [],
   "source": [
    "import openmdao.api as om\n",
    "import pandas as pd\n",
    "import numpy as np"
   ]
  },
  {
   "cell_type": "code",
   "execution_count": 237,
   "id": "a91e9074",
   "metadata": {},
   "outputs": [],
   "source": [
    "class MDOHPCA(om.Group):\n",
    "    \"\"\"\n",
    "    Top level group containing the MDO.\n",
    "    \"\"\"           \n",
    "    def setup(self):\n",
    "        \"\"\"\n",
    "        set up each person's disciplines that can contain analyses\n",
    "        \"\"\"\n",
    "        self.add_subsystem('aero', aero())\n",
    "        self.add_subsystem('sys', sys())\n",
    "        self.add_subsystem('stab', stab())\n",
    "        self.add_subsystem('struct', struct())\n",
    "        \n",
    "        self.add_subsystem('mass', mass())\n",
    "        \n",
    "    def configure(self):\n",
    "        #promote all variables (lazy option, they can be connected individually)\n",
    "        self.promotes('sys',any=['*'])\n",
    "        self.promotes('struct',any=['*'])\n",
    "        \n",
    "        self.promotes('mass',any=['*'])"
   ]
  },
  {
   "cell_type": "code",
   "execution_count": 238,
   "id": "af00b877",
   "metadata": {},
   "outputs": [],
   "source": [
    "class mass(om.ExplicitComponent):\n",
    "    def setup(self):\n",
    "        self.add_input('systems_mass')\n",
    "        self.add_input('weight_structures')\n",
    "        \n",
    "        self.add_output('m')\n",
    "        prob.model.add_objective('m')\n",
    "        \n",
    "        #prob.model.add_constraint('m', lower = 20000)\n",
    "\n",
    "    def compute(self,inputs,outputs):\n",
    "        outputs['m'] = inputs['systems_mass'] + inputs['weight_structures']"
   ]
  },
  {
   "cell_type": "code",
   "execution_count": 239,
   "id": "4cb57483",
   "metadata": {},
   "outputs": [],
   "source": [
    "%run struct/structsetup.ipynb\n",
    "#%run stab/stabsetup.ipynb\n",
    "%run systems/systemssetup.ipynb\n",
    "class aero(om.ExplicitComponent):\n",
    "    pass\n",
    "class stab(om.ExplicitComponent):\n",
    "    pass"
   ]
  },
  {
   "cell_type": "code",
   "execution_count": 240,
   "id": "9bc13d80",
   "metadata": {},
   "outputs": [],
   "source": [
    "prob = om.Problem(model = MDOHPCA())\n",
    "#prob.model.add_subsystem('aero', om.Group())"
   ]
  },
  {
   "cell_type": "code",
   "execution_count": 241,
   "id": "11ddcf35",
   "metadata": {},
   "outputs": [],
   "source": [
    "#setting inputs to reduce ambiguities where inputs differ in different disciplines\n",
    "prob.model.set_input_defaults('CL', val = 0.6)\n",
    "prob.model.set_input_defaults('sweep', val = 15)\n",
    "prob.model.set_input_defaults('c', val = 4)\n",
    "prob.model.set_input_defaults('b', val = 60)\n",
    "prob.model.set_input_defaults('root_x', val = 10)\n",
    "prob.model.set_input_defaults('m', val = 240000)\n",
    "\n",
    "\n",
    "prob.model.add_design_var('fuselage_diameter')"
   ]
  },
  {
   "cell_type": "code",
   "execution_count": 242,
   "id": "b49706a0",
   "metadata": {},
   "outputs": [
    {
     "data": {
      "text/plain": [
       "<openmdao.core.problem.Problem at 0x1e0ced70670>"
      ]
     },
     "execution_count": 242,
     "metadata": {},
     "output_type": "execute_result"
    }
   ],
   "source": [
    "#declare problem options (driver, optimiser)\n",
    "prob.model.driver = om.ScipyOptimizeDriver()\n",
    "prob.model.driver.options['optimizer'] = 'SLSQP'\n",
    "#prob.nonlinear_solver = om.NonlinearBlockGS()\n",
    "#prob.nonlinear_solver = om.NewtonSolver(solve_subsystems=False)\n",
    "prob.model.nonlinear_solver = om.NonlinearBlockGS()\n",
    "prob.model.nonlinear_solver.options['iprint'] = 2\n",
    "prob.model.nonlinear_solver.options['maxiter'] = 50\n",
    "\n",
    "#prob.nonlinear_solver.options['maxiter'] = 100\n",
    "prob.model.driver.options['maxiter'] = 5\n",
    "prob.model.driver.options['tol'] = 1e-8\n",
    "\n",
    "#setup problem to be run\n",
    "prob.setup()"
   ]
  },
  {
   "cell_type": "code",
   "execution_count": 243,
   "id": "d0c7cd32",
   "metadata": {},
   "outputs": [],
   "source": [
    "#%run aero/aerosetup.ipynb"
   ]
  },
  {
   "cell_type": "code",
   "execution_count": 244,
   "id": "26617261",
   "metadata": {},
   "outputs": [
    {
     "name": "stdout",
     "output_type": "stream",
     "text": [
      "NL: NLBGS 1 ; 3.91418804e+11 1\n",
      "NL: NLBGS 2 ; 5.08448154e+09 0.0129898755\n",
      "NL: NLBGS 3 ; 7.96919994e+09 0.020359778\n",
      "NL: NLBGS 4 ; 6.90111385e+09 0.0176310228\n",
      "NL: NLBGS 5 ; 4.48047641e+09 0.0114467582\n",
      "NL: NLBGS 6 ; 2.52474567e+09 0.00645024114\n",
      "NL: NLBGS 7 ; 1.32714935e+09 0.00339061215\n",
      "NL: NLBGS 8 ; 674218596 0.00172249925\n",
      "NL: NLBGS 9 ; 336823294 0.000860518939\n",
      "NL: NLBGS 10 ; 166888657 0.000426368521\n",
      "NL: NLBGS 11 ; 82355724.5 0.000210403087\n",
      "NL: NLBGS 12 ; 40559897.9 0.000103622763\n",
      "NL: NLBGS 13 ; 19956082 5.09839636e-05\n",
      "NL: NLBGS 14 ; 9813975.88 2.50728268e-05\n",
      "NL: NLBGS 15 ; 4825164.19 1.23273694e-05\n",
      "NL: NLBGS 16 ; 2372076.95 6.06020184e-06\n",
      "NL: NLBGS 17 ; 1166059.37 2.97905813e-06\n",
      "NL: NLBGS 18 ; 573192.327 1.4643965e-06\n",
      "NL: NLBGS 19 ; 281756.59 7.19834068e-07\n",
      "NL: NLBGS 20 ; 138498.431 3.53836937e-07\n",
      "NL: NLBGS 21 ; 68079.158 1.73929196e-07\n",
      "NL: NLBGS 22 ; 33464.3804 8.54950761e-08\n",
      "NL: NLBGS 23 ; 16449.4374 4.20251589e-08\n",
      "NL: NLBGS 24 ; 8085.72821 2.06574854e-08\n",
      "NL: NLBGS 25 ; 3974.54254 1.01541942e-08\n",
      "NL: NLBGS 26 ; 1953.68756 4.99129715e-09\n",
      "NL: NLBGS 27 ; 960.335571 2.45347327e-09\n",
      "NL: NLBGS 28 ; 472.053345 1.20600579e-09\n",
      "NL: NLBGS 29 ; 232.037903 5.92812355e-10\n",
      "NL: NLBGS 30 ; 114.058289 2.9139706e-10\n",
      "NL: NLBGS 31 ; 56.0653687 1.43236268e-10\n",
      "NL: NLBGS 32 ; 27.5588989 7.04077031e-11\n",
      "NL: NLBGS Converged\n"
     ]
    }
   ],
   "source": [
    "prob.run_model()"
   ]
  },
  {
   "cell_type": "code",
   "execution_count": 245,
   "id": "f6c2a630",
   "metadata": {},
   "outputs": [
    {
     "name": "stdout",
     "output_type": "stream",
     "text": [
      "28 Explicit Output(s) in 'model'\n",
      "\n",
      "varname                         val                 \n",
      "------------------------------  --------------------\n",
      "sys\n",
      "  fuel_mass_calc\n",
      "    fuel_mass                   [10003.1466033]     \n",
      "  tanks\n",
      "    tank1_mass_full             [8423.92841006]     \n",
      "    tank1_mass_empty            [2422.04044808]     \n",
      "    tank2_mass_full             [6077.63352833]     \n",
      "    tank2_mass_empty            [2076.37488701]     \n",
      "    CGtp                        [30.34823787]       \n",
      "    tank1_x                     [5.79866734]        \n",
      "    tank2_x                     [49.06388984]       \n",
      "    length_fuselage             [60.530445]         \n",
      "  pipes\n",
      "    pipe_CG                     [23.64889682]       \n",
      "    pipe_mass                   [76.49718754]       \n",
      "  engine\n",
      "    engine_mass                 [67.26137349]       \n",
      "    engine_x                    [14.82308546]       \n",
      "    engine_y                    [18.]               \n",
      "  actuator\n",
      "    each_flap_actuator_mass     [2.55]              \n",
      "    each_aileron_actuator_mass  [0.1275]            \n",
      "    actuators_CG_x              [13.50885847]       \n",
      "  systems_roundup\n",
      "    systems_mass                [15175.5368729]     \n",
      "    systems_CG                  [30.44459565]       \n",
      "struct\n",
      "  bendingmoments\n",
      "    bending_moment              [1906442.10104111]  \n",
      "  landing_gear_calcs\n",
      "    landing_tension             [26984.25535683]    \n",
      "  spars\n",
      "    spars                       |24.09545569|       \n",
      "  optimisation\n",
      "    b                           [60.]               \n",
      "    c                           [5.]                \n",
      "    min_weight                  |60.34069937|       \n",
      "  structures_cog\n",
      "    cog_structures              |420820325941.3019| \n",
      "    weight_structures           [131.79513435]      \n",
      "mass\n",
      "  m                             [15307.33200725]    \n",
      "\n",
      "\n",
      "0 Implicit Output(s) in 'model'\n",
      "\n",
      "\n"
     ]
    },
    {
     "data": {
      "text/plain": [
       "[('sys.fuel_mass_calc.fuel_mass', {'val': array([10003.1466033])}),\n",
       " ('sys.tanks.tank1_mass_full', {'val': array([8423.92841006])}),\n",
       " ('sys.tanks.tank1_mass_empty', {'val': array([2422.04044808])}),\n",
       " ('sys.tanks.tank2_mass_full', {'val': array([6077.63352833])}),\n",
       " ('sys.tanks.tank2_mass_empty', {'val': array([2076.37488701])}),\n",
       " ('sys.tanks.CGtp', {'val': array([30.34823787])}),\n",
       " ('sys.tanks.tank1_x', {'val': array([5.79866734])}),\n",
       " ('sys.tanks.tank2_x', {'val': array([49.06388984])}),\n",
       " ('sys.tanks.length_fuselage', {'val': array([60.530445])}),\n",
       " ('sys.pipes.pipe_CG', {'val': array([23.64889682])}),\n",
       " ('sys.pipes.pipe_mass', {'val': array([76.49718754])}),\n",
       " ('sys.engine.engine_mass', {'val': array([67.26137349])}),\n",
       " ('sys.engine.engine_x', {'val': array([14.82308546])}),\n",
       " ('sys.engine.engine_y', {'val': array([18.])}),\n",
       " ('sys.actuator.each_flap_actuator_mass', {'val': array([2.55])}),\n",
       " ('sys.actuator.each_aileron_actuator_mass', {'val': array([0.1275])}),\n",
       " ('sys.actuator.actuators_CG_x', {'val': array([13.50885847])}),\n",
       " ('sys.systems_roundup.systems_mass', {'val': array([15175.5368729])}),\n",
       " ('sys.systems_roundup.systems_CG', {'val': array([30.44459565])}),\n",
       " ('struct.bendingmoments.bending_moment', {'val': array([1906442.10104111])}),\n",
       " ('struct.landing_gear_calcs.landing_tension',\n",
       "  {'val': array([26984.25535683])}),\n",
       " ('struct.spars.spars',\n",
       "  {'val': array([[16.63945155,  1.25      ],\n",
       "          [17.20195155,  2.5       ]])}),\n",
       " ('struct.optimisation.b', {'val': array([60.])}),\n",
       " ('struct.optimisation.c', {'val': array([5.])}),\n",
       " ('struct.optimisation.min_weight', {'val': array([[60.,  5.,  4.]])}),\n",
       " ('struct.structures_cog.cog_structures',\n",
       "  {'val': array([-4.17838686e+11, -5.00057886e+10])}),\n",
       " ('struct.structures_cog.weight_structures', {'val': array([131.79513435])}),\n",
       " ('mass.m', {'val': array([15307.33200725])})]"
      ]
     },
     "execution_count": 245,
     "metadata": {},
     "output_type": "execute_result"
    }
   ],
   "source": [
    "prob.model.list_outputs()"
   ]
  },
  {
   "cell_type": "code",
   "execution_count": 246,
   "id": "778ac8a2",
   "metadata": {},
   "outputs": [
    {
     "data": {
      "text/plain": [
       "{'sys.fuel_mass_calc.fuel_mass': {'name': 'fuel_mass',\n",
       "  'alias': None,\n",
       "  'lower': 20000.0,\n",
       "  'upper': 1e+30,\n",
       "  'equals': None,\n",
       "  'linear': False,\n",
       "  'indices': None,\n",
       "  'scaler': None,\n",
       "  'adder': None,\n",
       "  'ref': None,\n",
       "  'ref0': None,\n",
       "  'type': 'con',\n",
       "  'units': None,\n",
       "  'cache_linear_solution': False,\n",
       "  'parallel_deriv_color': None,\n",
       "  'flat_indices': False,\n",
       "  'source': 'sys.fuel_mass_calc.fuel_mass',\n",
       "  'distributed': False,\n",
       "  'total_scaler': None,\n",
       "  'total_adder': None,\n",
       "  'size': 1,\n",
       "  'global_size': 1},\n",
       " 'struct.landing_gear_calcs.landing_tension': {'name': 'landing_tension',\n",
       "  'alias': None,\n",
       "  'lower': -1e+30,\n",
       "  'upper': 9000000.0,\n",
       "  'equals': None,\n",
       "  'linear': False,\n",
       "  'indices': None,\n",
       "  'scaler': None,\n",
       "  'adder': None,\n",
       "  'ref': None,\n",
       "  'ref0': None,\n",
       "  'type': 'con',\n",
       "  'units': None,\n",
       "  'cache_linear_solution': False,\n",
       "  'parallel_deriv_color': None,\n",
       "  'flat_indices': False,\n",
       "  'source': 'struct.landing_gear_calcs.landing_tension',\n",
       "  'distributed': False,\n",
       "  'total_scaler': None,\n",
       "  'total_adder': None,\n",
       "  'size': 1,\n",
       "  'global_size': 1}}"
      ]
     },
     "execution_count": 246,
     "metadata": {},
     "output_type": "execute_result"
    }
   ],
   "source": [
    "prob.model.get_constraints()"
   ]
  },
  {
   "cell_type": "code",
   "execution_count": 247,
   "id": "ee8dbf13",
   "metadata": {},
   "outputs": [
    {
     "data": {
      "text/plain": [
       "{'val': 32816.0,\n",
       " 'values': None,\n",
       " 'types': None,\n",
       " 'desc': 'people and cargo mass',\n",
       " 'upper': None,\n",
       " 'lower': None,\n",
       " 'check_valid': None,\n",
       " 'has_been_set': True,\n",
       " 'allow_none': False,\n",
       " 'recordable': True,\n",
       " 'deprecation': None}"
      ]
     },
     "execution_count": 247,
     "metadata": {},
     "output_type": "execute_result"
    }
   ],
   "source": [
    "#get properties of specific constants in disciplines\n",
    "prob.model.sys.options._dict['pp_mass']"
   ]
  }
 ],
 "metadata": {
  "kernelspec": {
   "display_name": "Python 3 (ipykernel)",
   "language": "python",
   "name": "python3"
  },
  "language_info": {
   "codemirror_mode": {
    "name": "ipython",
    "version": 3
   },
   "file_extension": ".py",
   "mimetype": "text/x-python",
   "name": "python",
   "nbconvert_exporter": "python",
   "pygments_lexer": "ipython3",
   "version": "3.9.15"
  }
 },
 "nbformat": 4,
 "nbformat_minor": 5
}
