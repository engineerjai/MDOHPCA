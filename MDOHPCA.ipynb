{
 "cells": [
  {
   "cell_type": "code",
   "execution_count": 46,
   "id": "8c305589",
   "metadata": {},
   "outputs": [],
   "source": [
    "\n",
    "#    Multi-Disciplinary Design Optimisation of a Hydrogen Powered Commercial Aircraft (MDOHPCA)\n",
    "#    this is the 1st draft of the overall framework\n",
    "#    includes generic analyses of disciplines which should eventually be replaced by Meta Models of engineering analysis (CFD, CSD, etc)\n"
   ]
  },
  {
   "cell_type": "code",
   "execution_count": 30,
   "id": "069bf40a",
   "metadata": {},
   "outputs": [],
   "source": [
    "import openmdao.api as om\n",
    "import pandas as pd\n",
    "import numpy as np"
   ]
  },
  {
   "cell_type": "code",
   "execution_count": 44,
   "id": "a91e9074",
   "metadata": {},
   "outputs": [],
   "source": [
    "class MDOHPCA(om.Group):\n",
    "    \"\"\"\n",
    "    Top level group containing the MDO.\n",
    "    \"\"\"\n",
    "    def setup(self):\n",
    "        \"\"\"\n",
    "        set up each person's disciplines that can contain analyses\n",
    "        \"\"\"\n",
    "        aero = self.add_subsystem('aero', om.Group(), promotes=['*'])\n",
    "        struct = self.add_subsystem('struct', om.Group(), promotes=['*'])\n",
    "        sys = self.add_subsystem('sys', om.Group(), promotes=['*'])\n",
    "        stab = self.add_subsystem('stab', om.Group(), promotes=['*']) \n",
    "        \n"
   ]
  },
  {
   "cell_type": "code",
   "execution_count": 50,
   "id": "4cb57483",
   "metadata": {},
   "outputs": [],
   "source": [
    "%run aero/aerosetup.ipynb\n",
    "%run struct/structsetup.ipynb\n",
    "%run stab/stabsetup.ipynb\n",
    "%run systems/systemssetup.ipynb"
   ]
  },
  {
   "cell_type": "code",
   "execution_count": 51,
   "id": "9bc13d80",
   "metadata": {},
   "outputs": [],
   "source": [
    "prob = om.Problem(model = MDOHPCA())"
   ]
  },
  {
   "cell_type": "code",
   "execution_count": 52,
   "id": "ba356f4d",
   "metadata": {},
   "outputs": [
    {
     "data": {
      "text/plain": [
       "<openmdao.core.problem.Problem at 0x195e262f130>"
      ]
     },
     "execution_count": 52,
     "metadata": {},
     "output_type": "execute_result"
    }
   ],
   "source": [
    "prob.setup()"
   ]
  },
  {
   "cell_type": "code",
   "execution_count": 53,
   "id": "26617261",
   "metadata": {},
   "outputs": [],
   "source": [
    "prob.run_model()"
   ]
  },
  {
   "cell_type": "code",
   "execution_count": 67,
   "id": "9346a096",
   "metadata": {},
   "outputs": [
    {
     "ename": "KeyError",
     "evalue": "'<model> <class MDOHPCA>: Variable \"sys.fuel_masses.h\" not found.'",
     "output_type": "error",
     "traceback": [
      "\u001b[1;31m---------------------------------------------------------------------------\u001b[0m",
      "\u001b[1;31mKeyError\u001b[0m                                  Traceback (most recent call last)",
      "Cell \u001b[1;32mIn [67], line 1\u001b[0m\n\u001b[1;32m----> 1\u001b[0m \u001b[43mprob\u001b[49m\u001b[38;5;241;43m.\u001b[39;49m\u001b[43mget_val\u001b[49m\u001b[43m(\u001b[49m\u001b[38;5;124;43m'\u001b[39;49m\u001b[38;5;124;43msys.fuel_masses.h\u001b[39;49m\u001b[38;5;124;43m'\u001b[39;49m\u001b[43m)\u001b[49m\n",
      "File \u001b[1;32m~\\anaconda3\\envs\\MDOHPCA\\lib\\site-packages\\openmdao\\core\\problem.py:542\u001b[0m, in \u001b[0;36mProblem.get_val\u001b[1;34m(self, name, units, indices, get_remote)\u001b[0m\n\u001b[0;32m    540\u001b[0m             val \u001b[38;5;241m=\u001b[39m \u001b[38;5;28mself\u001b[39m\u001b[38;5;241m.\u001b[39mmodel\u001b[38;5;241m.\u001b[39mconvert2units(name, val, simplify_unit(units))\n\u001b[0;32m    541\u001b[0m \u001b[38;5;28;01melse\u001b[39;00m:\n\u001b[1;32m--> 542\u001b[0m     val \u001b[38;5;241m=\u001b[39m \u001b[38;5;28;43mself\u001b[39;49m\u001b[38;5;241;43m.\u001b[39;49m\u001b[43mmodel\u001b[49m\u001b[38;5;241;43m.\u001b[39;49m\u001b[43mget_val\u001b[49m\u001b[43m(\u001b[49m\u001b[43mname\u001b[49m\u001b[43m,\u001b[49m\u001b[43m \u001b[49m\u001b[43munits\u001b[49m\u001b[38;5;241;43m=\u001b[39;49m\u001b[43munits\u001b[49m\u001b[43m,\u001b[49m\u001b[43m \u001b[49m\u001b[43mindices\u001b[49m\u001b[38;5;241;43m=\u001b[39;49m\u001b[43mindices\u001b[49m\u001b[43m,\u001b[49m\u001b[43m \u001b[49m\u001b[43mget_remote\u001b[49m\u001b[38;5;241;43m=\u001b[39;49m\u001b[43mget_remote\u001b[49m\u001b[43m,\u001b[49m\n\u001b[0;32m    543\u001b[0m \u001b[43m                             \u001b[49m\u001b[43mfrom_src\u001b[49m\u001b[38;5;241;43m=\u001b[39;49m\u001b[38;5;28;43;01mTrue\u001b[39;49;00m\u001b[43m)\u001b[49m\n\u001b[0;32m    545\u001b[0m \u001b[38;5;28;01mif\u001b[39;00m val \u001b[38;5;129;01mis\u001b[39;00m _UNDEFINED:\n\u001b[0;32m    546\u001b[0m     \u001b[38;5;28;01mif\u001b[39;00m get_remote:\n",
      "File \u001b[1;32m~\\anaconda3\\envs\\MDOHPCA\\lib\\site-packages\\openmdao\\core\\system.py:5239\u001b[0m, in \u001b[0;36mSystem.get_val\u001b[1;34m(self, name, units, indices, get_remote, rank, vec_name, kind, flat, from_src)\u001b[0m\n\u001b[0;32m   5237\u001b[0m abs_names \u001b[38;5;241m=\u001b[39m name2abs_names(\u001b[38;5;28mself\u001b[39m, name)\n\u001b[0;32m   5238\u001b[0m \u001b[38;5;28;01mif\u001b[39;00m \u001b[38;5;129;01mnot\u001b[39;00m abs_names:\n\u001b[1;32m-> 5239\u001b[0m     \u001b[38;5;28;01mraise\u001b[39;00m \u001b[38;5;167;01mKeyError\u001b[39;00m(\u001b[38;5;124m'\u001b[39m\u001b[38;5;132;01m{}\u001b[39;00m\u001b[38;5;124m: Variable \u001b[39m\u001b[38;5;124m\"\u001b[39m\u001b[38;5;132;01m{}\u001b[39;00m\u001b[38;5;124m\"\u001b[39m\u001b[38;5;124m not found.\u001b[39m\u001b[38;5;124m'\u001b[39m\u001b[38;5;241m.\u001b[39mformat(\u001b[38;5;28mself\u001b[39m\u001b[38;5;241m.\u001b[39mmsginfo, name))\n\u001b[0;32m   5240\u001b[0m simp_units \u001b[38;5;241m=\u001b[39m simplify_unit(units)\n\u001b[0;32m   5242\u001b[0m \u001b[38;5;28;01mif\u001b[39;00m from_src:\n",
      "\u001b[1;31mKeyError\u001b[0m: '<model> <class MDOHPCA>: Variable \"sys.fuel_masses.h\" not found.'"
     ]
    }
   ],
   "source": [
    "prob.get_val('sys.fuel_masses.h')"
   ]
  },
  {
   "cell_type": "code",
   "execution_count": null,
   "id": "5530a25c",
   "metadata": {},
   "outputs": [],
   "source": []
  }
 ],
 "metadata": {
  "kernelspec": {
   "display_name": "Python 3 (ipykernel)",
   "language": "python",
   "name": "python3"
  },
  "language_info": {
   "codemirror_mode": {
    "name": "ipython",
    "version": 3
   },
   "file_extension": ".py",
   "mimetype": "text/x-python",
   "name": "python",
   "nbconvert_exporter": "python",
   "pygments_lexer": "ipython3",
   "version": "3.9.15"
  }
 },
 "nbformat": 4,
 "nbformat_minor": 5
}
