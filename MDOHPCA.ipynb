{
 "cells": [
  {
   "cell_type": "code",
   "execution_count": 1,
   "id": "8c305589",
   "metadata": {},
   "outputs": [],
   "source": [
    "\n",
    "#    Multi-Disciplinary Design Optimisation of a Hydrogen Powered Commercial Aircraft (MDOHPCA)\n",
    "#    this is the master file that runs each of the individual disciplines \n",
    "#    It sets up each of the analyses, then converts it into an openMDAO problem with a certain structure, then solves for minimum mass\n",
    "\n"
   ]
  },
  {
   "cell_type": "code",
   "execution_count": 2,
   "id": "069bf40a",
   "metadata": {},
   "outputs": [],
   "source": [
    "import openmdao.api as om\n",
    "import pandas as pd\n",
    "import numpy as np"
   ]
  },
  {
   "cell_type": "code",
   "execution_count": 3,
   "id": "a91e9074",
   "metadata": {},
   "outputs": [],
   "source": [
    "class MDOHPCA(om.Group):\n",
    "    \"\"\"\n",
    "    Top level group containing the MDO.\n",
    "    \"\"\"           \n",
    "    def setup(self):\n",
    "        \"\"\"\n",
    "        set up each person's disciplines that can contain analyses\n",
    "        \"\"\"\n",
    "        self.add_subsystem('aero', aero())\n",
    "        self.add_subsystem('sys', sys())\n",
    "        self.add_subsystem('stab', stab())\n",
    "        self.add_subsystem('struct', struct())\n",
    "        \n",
    "        self.add_subsystem('mass', mass())\n",
    "        \n",
    "    def configure(self):\n",
    "        #promote all variables (lazy option, they can be connected individually)\n",
    "        self.promotes('sys',any=['*'])\n",
    "        self.promotes('struct',any=['*'])\n",
    "        \n",
    "        self.promotes('mass',any=['*'])"
   ]
  },
  {
   "cell_type": "code",
   "execution_count": 4,
   "id": "af00b877",
   "metadata": {},
   "outputs": [],
   "source": [
    "class mass(om.ExplicitComponent):\n",
    "    def setup(self):\n",
    "        self.add_input('systems_mass')\n",
    "        self.add_input('weight_structures')\n",
    "        \n",
    "        self.add_output('m')\n",
    "        self.add_objective('m')\n",
    "        \n",
    "    def compute(self,inputs,outputs):\n",
    "        outputs['m'] = inputs['systems_mass'] + inputs['weight_structures']"
   ]
  },
  {
   "cell_type": "code",
   "execution_count": 23,
   "id": "4cb57483",
   "metadata": {},
   "outputs": [],
   "source": [
    "%run struct/structsetup.ipynb\n",
    "#%run stab/stabsetup.ipynb\n",
    "%run systems/systemssetup.ipynb\n",
    "class aero(om.ExplicitComponent):\n",
    "    pass\n",
    "class stab(om.ExplicitComponent):\n",
    "    pass"
   ]
  },
  {
   "cell_type": "code",
   "execution_count": 24,
   "id": "9bc13d80",
   "metadata": {},
   "outputs": [],
   "source": [
    "prob = om.Problem(model = MDOHPCA())\n",
    "#prob.model.add_subsystem('aero', om.Group())"
   ]
  },
  {
   "cell_type": "code",
   "execution_count": 25,
   "id": "11ddcf35",
   "metadata": {},
   "outputs": [],
   "source": [
    "#setting inputs to reduce ambiguities where inputs differ in different disciplines\n",
    "prob.model.set_input_defaults('CL', val = 0.6)\n",
    "prob.model.set_input_defaults('sweep', val = 15)\n",
    "prob.model.set_input_defaults('c', val = 4)\n",
    "prob.model.set_input_defaults('b', val = 60)\n",
    "prob.model.set_input_defaults('root_x', val = 10)"
   ]
  },
  {
   "cell_type": "code",
   "execution_count": 26,
   "id": "b49706a0",
   "metadata": {},
   "outputs": [],
   "source": [
    "prob.driver = om.ScipyOptimizeDriver()\n",
    "prob.driver.options['optimizer'] = 'SLSQP'\n",
    "# prob.driver.options['maxiter'] = 100\n",
    "prob.driver.options['tol'] = 1e-8\n",
    "prob.driver.options[\"debug_print\"] = [\"nl_cons\", \"objs\", \"desvars\"]"
   ]
  },
  {
   "cell_type": "code",
   "execution_count": 27,
   "id": "ba356f4d",
   "metadata": {
    "scrolled": true
   },
   "outputs": [
    {
     "data": {
      "text/plain": [
       "<openmdao.core.problem.Problem at 0x1e0ca4ba550>"
      ]
     },
     "execution_count": 27,
     "metadata": {},
     "output_type": "execute_result"
    }
   ],
   "source": [
    "prob.setup()"
   ]
  },
  {
   "cell_type": "code",
   "execution_count": 28,
   "id": "d0c7cd32",
   "metadata": {},
   "outputs": [],
   "source": [
    "#%run aero/aerosetup.ipynb"
   ]
  },
  {
   "cell_type": "code",
   "execution_count": 29,
   "id": "26617261",
   "metadata": {},
   "outputs": [],
   "source": [
    "prob.run_model()"
   ]
  },
  {
   "cell_type": "code",
   "execution_count": 30,
   "id": "5530a25c",
   "metadata": {},
   "outputs": [
    {
     "data": {
      "text/plain": [
       "{'val': 32816.0,\n",
       " 'values': None,\n",
       " 'types': None,\n",
       " 'desc': 'people and cargo mass',\n",
       " 'upper': None,\n",
       " 'lower': None,\n",
       " 'check_valid': None,\n",
       " 'has_been_set': True,\n",
       " 'allow_none': False,\n",
       " 'recordable': True,\n",
       " 'deprecation': None}"
      ]
     },
     "execution_count": 30,
     "metadata": {},
     "output_type": "execute_result"
    }
   ],
   "source": [
    "#get properties of specific constants in disciplines\n",
    "prob.model.sys.options._dict['pp_mass']"
   ]
  },
  {
   "cell_type": "code",
   "execution_count": 31,
   "id": "f6c2a630",
   "metadata": {},
   "outputs": [
    {
     "name": "stdout",
     "output_type": "stream",
     "text": [
      "27 Explicit Output(s) in 'model'\n",
      "\n",
      "varname                         val                 \n",
      "------------------------------  --------------------\n",
      "sys\n",
      "  fuel_mass_calc\n",
      "    fuel_mass                   [172168.2691172]    \n",
      "  tanks\n",
      "    tank1_mass_full             [122534.18152515]   \n",
      "    tank1_mass_empty            [19233.22005483]    \n",
      "    tank2_mass_full             [82151.13560505]    \n",
      "    tank2_mass_empty            [13283.82795818]    \n",
      "    CGtp                        [52.83836774]       \n",
      "    tank1_x                     [21.95068906]       \n",
      "    tank2_x                     [92.13594774]       \n",
      "  pipes\n",
      "    pipe_CG                     [39.52449579]       \n",
      "    pipe_mass                   [112.59429651]      \n",
      "  engine\n",
      "    engine_mass                 [1054.575]          \n",
      "    engine_x                    [14.82308546]       \n",
      "    engine_y                    [18.]               \n",
      "  actuator\n",
      "    each_flap_actuator_mass     [2.55]              \n",
      "    each_aileron_actuator_mass  [0.1275]            \n",
      "    actuators_CG_x              [13.50885847]       \n",
      "  systems_roundup\n",
      "    systems_mass                [207407.41642672]   \n",
      "    systems_CG                  [52.42440639]       \n",
      "struct\n",
      "  bendingmoments\n",
      "    bending_moment              [381288.42020822]   \n",
      "  landing_gear_calcs\n",
      "    landing_tension             [1.]                \n",
      "  spars\n",
      "    spars                       |0.83680374|        \n",
      "  optimisation\n",
      "    b                           [60.]               \n",
      "    c                           [5.]                \n",
      "    min_weight                  |60.34069937|       \n",
      "  structures_cog\n",
      "    cog_structures              |346241150168.7246| \n",
      "    weight_structures           [110.73424435]      \n",
      "mass\n",
      "  m                             [207518.15067107]   \n",
      "\n",
      "\n",
      "0 Implicit Output(s) in 'model'\n",
      "\n",
      "\n"
     ]
    },
    {
     "data": {
      "text/plain": [
       "[('sys.fuel_mass_calc.fuel_mass', {'val': array([172168.2691172])}),\n",
       " ('sys.tanks.tank1_mass_full', {'val': array([122534.18152515])}),\n",
       " ('sys.tanks.tank1_mass_empty', {'val': array([19233.22005483])}),\n",
       " ('sys.tanks.tank2_mass_full', {'val': array([82151.13560505])}),\n",
       " ('sys.tanks.tank2_mass_empty', {'val': array([13283.82795818])}),\n",
       " ('sys.tanks.CGtp', {'val': array([52.83836774])}),\n",
       " ('sys.tanks.tank1_x', {'val': array([21.95068906])}),\n",
       " ('sys.tanks.tank2_x', {'val': array([92.13594774])}),\n",
       " ('sys.pipes.pipe_CG', {'val': array([39.52449579])}),\n",
       " ('sys.pipes.pipe_mass', {'val': array([112.59429651])}),\n",
       " ('sys.engine.engine_mass', {'val': array([1054.575])}),\n",
       " ('sys.engine.engine_x', {'val': array([14.82308546])}),\n",
       " ('sys.engine.engine_y', {'val': array([18.])}),\n",
       " ('sys.actuator.each_flap_actuator_mass', {'val': array([2.55])}),\n",
       " ('sys.actuator.each_aileron_actuator_mass', {'val': array([0.1275])}),\n",
       " ('sys.actuator.actuators_CG_x', {'val': array([13.50885847])}),\n",
       " ('sys.systems_roundup.systems_mass', {'val': array([207407.41642672])}),\n",
       " ('sys.systems_roundup.systems_CG', {'val': array([52.42440639])}),\n",
       " ('struct.bendingmoments.bending_moment', {'val': array([381288.42020822])}),\n",
       " ('struct.landing_gear_calcs.landing_tension', {'val': array([1.])}),\n",
       " ('struct.spars.spars',\n",
       "  {'val': array([[0.38044919, 0.25      ],\n",
       "          [0.49294919, 0.5       ]])}),\n",
       " ('struct.optimisation.b', {'val': array([60.])}),\n",
       " ('struct.optimisation.c', {'val': array([5.])}),\n",
       " ('struct.optimisation.min_weight', {'val': array([[60.,  5.,  4.]])}),\n",
       " ('struct.structures_cog.cog_structures',\n",
       "  {'val': array([-3.42611084e+11, -5.00057886e+10])}),\n",
       " ('struct.structures_cog.weight_structures', {'val': array([110.73424435])}),\n",
       " ('mass.m', {'val': array([207518.15067107])})]"
      ]
     },
     "execution_count": 31,
     "metadata": {},
     "output_type": "execute_result"
    }
   ],
   "source": [
    "prob.model.list_outputs()"
   ]
  },
  {
   "cell_type": "code",
   "execution_count": null,
   "id": "ee8dbf13",
   "metadata": {},
   "outputs": [],
   "source": []
  }
 ],
 "metadata": {
  "kernelspec": {
   "display_name": "Python 3 (ipykernel)",
   "language": "python",
   "name": "python3"
  },
  "language_info": {
   "codemirror_mode": {
    "name": "ipython",
    "version": 3
   },
   "file_extension": ".py",
   "mimetype": "text/x-python",
   "name": "python",
   "nbconvert_exporter": "python",
   "pygments_lexer": "ipython3",
   "version": "3.9.15"
  }
 },
 "nbformat": 4,
 "nbformat_minor": 5
}
