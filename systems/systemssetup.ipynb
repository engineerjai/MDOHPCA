{
 "cells": [
  {
   "cell_type": "code",
   "execution_count": 2,
   "id": "11ec732e",
   "metadata": {},
   "outputs": [],
   "source": [
    "#import necessary package and collect initial variables\n",
    "import openmdao.api as om\n",
    "import pandas as pd\n",
    "import numpy as np"
   ]
  },
  {
   "cell_type": "code",
   "execution_count": 44,
   "id": "cf4dcdf1",
   "metadata": {},
   "outputs": [],
   "source": [
    "#define discipline group, get constants and call analyses \n",
    "class sys(om.Group):\n",
    "    def initialize(self):\n",
    "        \n",
    "        #read excel constants\n",
    "        initial_vars = pd.read_excel('constants.xlsx')\n",
    "        \n",
    "        #sort excel constants and take only name, value and description columns\n",
    "        all_sys_vars = np.where(initial_vars['sys'] == True, [initial_vars['variable name'], initial_vars['value'], initial_vars['description']], None)\n",
    "        all_sys_vars = pd.DataFrame(all_sys_vars).dropna(axis = 1).transpose()\n",
    "\n",
    "        #put variables into openMDAO format to be available to use in calcs\n",
    "        i=0\n",
    "        for variable in all_sys_vars[0]:\n",
    "            value = all_sys_vars.iloc[i][1]\n",
    "            description = all_sys_vars.iloc[i][2]\n",
    "            self.options.declare(variable, default = value, desc = description)\n",
    "            i+=1\n",
    "        i=0\n",
    "        \n",
    "        \n",
    "    def setup(self):\n",
    "        #set analysis names and what inputs they take and give\n",
    "        self.add_subsystem('fuel_masses', fuel_masses()) #add 'promotes =' to promote variables, otherwise connect them directly\n",
    "        \n",
    "\n",
    "    #optional measure to promote all variables from a component\n",
    "    #def configure(self):\n",
    "        #self.promotes('fuel_masses',any=['*'])\n",
    "        \n"
   ]
  },
  {
   "cell_type": "code",
   "execution_count": 16,
   "id": "a2403b38",
   "metadata": {},
   "outputs": [],
   "source": [
    "class fuel_masses(om.ExplicitComponent):\n",
    "        \n",
    "    def setup(self):\n",
    "\n",
    "        self.add_output('sys_CG')\n",
    "    \n",
    "    def compute(self,inputs,outputs):\n",
    "        Is = self.options['']\n",
    "        \n",
    "        outputs['sys_CG'] = 2*Is\n"
   ]
  }
 ],
 "metadata": {
  "kernelspec": {
   "display_name": "Python 3 (ipykernel)",
   "language": "python",
   "name": "python3"
  },
  "language_info": {
   "codemirror_mode": {
    "name": "ipython",
    "version": 3
   },
   "file_extension": ".py",
   "mimetype": "text/x-python",
   "name": "python",
   "nbconvert_exporter": "python",
   "pygments_lexer": "ipython3",
   "version": "3.9.15"
  }
 },
 "nbformat": 4,
 "nbformat_minor": 5
}
