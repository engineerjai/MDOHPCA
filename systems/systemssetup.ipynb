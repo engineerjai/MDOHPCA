{
 "cells": [
  {
   "cell_type": "code",
   "execution_count": 2,
   "id": "11ec732e",
   "metadata": {},
   "outputs": [],
   "source": [
    "#import necessary package and collect initial variables\n",
    "import openmdao.api as om\n",
    "import pandas as pd\n",
    "import numpy as np"
   ]
  },
  {
   "cell_type": "code",
   "execution_count": 44,
   "id": "cf4dcdf1",
   "metadata": {},
   "outputs": [],
   "source": [
    "#define discipline group and call analyses \n",
    "class sys(om.Group):\n",
    "    def setup(self):\n",
    "        #set analysis names and what inputs they take and give\n",
    "        self.add_subsystem('fuel_masses', fuel_masses(), promotes_inputs=['h', 'rho'], promotes_outputs=['sys_CG'])\n",
    "        \n",
    "        #import relevant constants from constants excel doc \n",
    "        initial_vars = pd.read_excel('variables.xlsx')\n",
    "        \n",
    "        all_sys_vars = np.where(initial_vars['sys'] == True, [initial_vars['variable name'], initial_vars['value']], None)\n",
    "        all_sys_vars = pd.DataFrame(all_sys_vars).dropna(axis = 1).transpose()\n",
    "\n",
    "\n",
    "        i=0\n",
    "        for variable in all_sys_vars.iloc[0]:\n",
    "            value = all_sys_vars.iloc[i][1]\n",
    "            self.set_input_defaults(variable,value)\n",
    "            i+=1\n",
    "        i=0"
   ]
  },
  {
   "cell_type": "code",
   "execution_count": 16,
   "id": "a2403b38",
   "metadata": {},
   "outputs": [],
   "source": [
    "#define analyses, this can be done in different files if wanted\n",
    "class fuel_masses(om.ExplicitComponent):\n",
    "    def setup(self):\n",
    "        self.add_input('h')\n",
    "        self.add_input('rho')\n",
    "\n",
    "        self.add_output('sys_CG')\n",
    "    def compute(self,inputs,outputs):\n",
    "        h = inputs['h']\n",
    "        p = inputs['rho']\n",
    "        \n",
    "        outputs['sys_CG'] = 2*h*(rho^2)\n"
   ]
  }
 ],
 "metadata": {
  "kernelspec": {
   "display_name": "Python 3 (ipykernel)",
   "language": "python",
   "name": "python3"
  },
  "language_info": {
   "codemirror_mode": {
    "name": "ipython",
    "version": 3
   },
   "file_extension": ".py",
   "mimetype": "text/x-python",
   "name": "python",
   "nbconvert_exporter": "python",
   "pygments_lexer": "ipython3",
   "version": "3.9.15"
  }
 },
 "nbformat": 4,
 "nbformat_minor": 5
}
