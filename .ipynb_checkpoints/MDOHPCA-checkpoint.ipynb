{
 "cells": [
  {
   "cell_type": "code",
   "execution_count": 291,
   "id": "8c305589",
   "metadata": {},
   "outputs": [],
   "source": [
    "\n",
    "#    Multi-Disciplinary Design Optimisation of a Hydrogen Powered Commercial Aircraft (MDOHPCA)\n",
    "#    this is the master file that runs each of the individual disciplines \n",
    "#    It sets up each of the analyses, then converts it into an openMDAO problem with a certain structure, then solves for minimum mass\n",
    "\n"
   ]
  },
  {
   "cell_type": "code",
   "execution_count": 292,
   "id": "069bf40a",
   "metadata": {},
   "outputs": [],
   "source": [
    "\n",
    "import pandas as pd\n",
    "import numpy as np\n",
    "import openmdao.api as om"
   ]
  },
  {
   "cell_type": "code",
   "execution_count": 293,
   "id": "a91e9074",
   "metadata": {},
   "outputs": [],
   "source": [
    "class MDOHPCA(om.Group):\n",
    "    \"\"\"\n",
    "    Top level group containing the MDO.\n",
    "    \"\"\"           \n",
    "    def setup(self):\n",
    "        \"\"\"\n",
    "        set up each person's disciplines that can contain analyses\n",
    "        \"\"\"\n",
    "        self.add_subsystem('aero', aero())\n",
    "        self.add_subsystem('sys', sys())\n",
    "        self.add_subsystem('stab', stab())\n",
    "        self.add_subsystem('struct', struct())\n",
    "        \n",
    "        self.add_subsystem('mass', mass())\n",
    "        \n",
    "    def configure(self):\n",
    "        #promote all variables (lazy option, they can be connected individually)\n",
    "        self.promotes('sys',any=['*'])\n",
    "        self.promotes('struct',any=['*'])\n",
    "        \n",
    "        self.promotes('mass',any=['*'])"
   ]
  },
  {
   "cell_type": "code",
   "execution_count": 294,
   "id": "af00b877",
   "metadata": {},
   "outputs": [],
   "source": [
    "class mass(om.ExplicitComponent):\n",
    "    def setup(self):\n",
    "        self.add_input('systems_mass')\n",
    "        self.add_input('weight_structures')\n",
    "        self.add_input('cog_structures', shape = (2,))\n",
    "        self.add_input('systems_CG')\n",
    "        \n",
    "        self.add_output('m')\n",
    "        prob.model.add_objective('m')\n",
    "        \n",
    "        self.add_output('total_CG', shape = (1,2))\n",
    "        \n",
    "    def setup_partials(self):\n",
    "        self.declare_partials('*', '*', method = 'fd')\n",
    "        \n",
    "    def compute(self,inputs,outputs):\n",
    "        #calculation of mass from systems and structures\n",
    "        mass = inputs['systems_mass'] + inputs['weight_structures']\n",
    "        \n",
    "        outputs['m'] = mass\n",
    "        \n",
    "        #calculation of CG from systems and structures\n",
    "        struct_CG = inputs['cog_structures']\n",
    "        sys_CG = inputs['systems_CG']\n",
    "        \n",
    "        struct_comp_x = struct_CG[0]*inputs['weight_structures']\n",
    "        struct_comp_y = struct_CG[1]*inputs['weight_structures']\n",
    "        \n",
    "        sys_comp_x = sys_CG*inputs['systems_mass']\n",
    "        \n",
    "        total_CG_x = (struct_comp_x + sys_comp_x)/mass\n",
    "        total_CG_y = struct_comp_y/mass\n",
    "        \n",
    "        total_CG = [total_CG_x, total_CG_y]\n",
    "        outputs['total_CG'] = total_CG"
   ]
  },
  {
   "cell_type": "code",
   "execution_count": 295,
   "id": "4cb57483",
   "metadata": {},
   "outputs": [],
   "source": [
    "%run struct/structsetup.ipynb\n",
    "#%run stab/stabsetup.ipynb\n",
    "%run systems/systemssetup.ipynb\n",
    "class aero(om.ExplicitComponent):\n",
    "    pass\n",
    "class stab(om.ExplicitComponent):\n",
    "    pass"
   ]
  },
  {
   "cell_type": "code",
   "execution_count": 296,
   "id": "9bc13d80",
   "metadata": {},
   "outputs": [],
   "source": [
    "prob = om.Problem(model = MDOHPCA())\n",
    "#prob.model.add_subsystem('aero', om.Group())"
   ]
  },
  {
   "cell_type": "code",
   "execution_count": 297,
   "id": "11ddcf35",
   "metadata": {},
   "outputs": [],
   "source": [
    "#setting inputs to reduce ambiguities where inputs differ in different disciplines\n",
    "prob.model.set_input_defaults('CL', val = 0.6)\n",
    "prob.model.set_input_defaults('sweep', val = 15)\n",
    "prob.model.set_input_defaults('c', val = 4)\n",
    "prob.model.set_input_defaults('b', val = 60)\n",
    "prob.model.set_input_defaults('root_x', val = 10)\n",
    "prob.model.set_input_defaults('m', val = 240000)\n",
    "\n",
    "\n",
    "prob.model.add_design_var('tank_ratio', lower = 0.3, upper = 1)\n",
    "prob.model.set_input_defaults('tank_ratio', val = 1)\n"
   ]
  },
  {
   "cell_type": "code",
   "execution_count": 298,
   "id": "b49706a0",
   "metadata": {},
   "outputs": [
    {
     "data": {
      "text/plain": [
       "<openmdao.core.problem.Problem at 0x1f15dc66580>"
      ]
     },
     "execution_count": 298,
     "metadata": {},
     "output_type": "execute_result"
    }
   ],
   "source": [
    "#declare problem options (driver, optimiser)\n",
    "\n",
    "#prob.nonlinear_solver = om.NonlinearBlockGS()\n",
    "#prob.nonlinear_solver = om.NewtonSolver(solve_subsystems=False)\n",
    "prob.model.nonlinear_solver = om.NonlinearBlockGS()\n",
    "prob.model.nonlinear_solver.options['iprint'] = 2\n",
    "prob.model.nonlinear_solver.options['maxiter'] = 200\n",
    "\n",
    "#prob.nonlinear_solver.options['maxiter'] = 100\n",
    "\n",
    "prob.driver = om.ScipyOptimizeDriver()\n",
    "prob.driver.options['optimizer'] = 'SLSQP'\n",
    "prob.driver.options['tol'] = 1e-5\n",
    "\n",
    "#setup problem to be run\n",
    "prob.setup()"
   ]
  },
  {
   "cell_type": "code",
   "execution_count": 299,
   "id": "d0c7cd32",
   "metadata": {},
   "outputs": [],
   "source": [
    "#%run aero/aerosetup.ipynb"
   ]
  },
  {
   "cell_type": "code",
   "execution_count": 300,
   "id": "26617261",
   "metadata": {
    "scrolled": true
   },
   "outputs": [
    {
     "name": "stdout",
     "output_type": "stream",
     "text": [
      "NL: NLBGS 1 ; 920802135 1\n",
      "NL: NLBGS 2 ; 4503807.84 0.00489117875\n",
      "NL: NLBGS 3 ; 141272.013 0.000153422769\n",
      "NL: NLBGS 4 ; 16031.3286 1.74101775e-05\n",
      "NL: NLBGS 5 ; 1750.01083 1.90052864e-06\n",
      "NL: NLBGS 6 ; 190.242384 2.06605063e-07\n",
      "NL: NLBGS 7 ; 20.6717877 2.24497608e-08\n",
      "NL: NLBGS 8 ; 2.24609191 2.43927748e-09\n",
      "NL: NLBGS 9 ; 0.244047691 2.65038146e-10\n",
      "NL: NLBGS 10 ; 0.0265168322 2.87975356e-11\n",
      "NL: NLBGS Converged\n"
     ]
    }
   ],
   "source": [
    "prob.run_model()"
   ]
  },
  {
   "cell_type": "code",
   "execution_count": 301,
   "id": "e8849cd8",
   "metadata": {},
   "outputs": [],
   "source": [
    "#prob.run_driver()"
   ]
  },
  {
   "cell_type": "code",
   "execution_count": 302,
   "id": "f6c2a630",
   "metadata": {
    "scrolled": true
   },
   "outputs": [
    {
     "data": {
      "text/plain": [
       "{'tank_ratio': {'scaler': None,\n",
       "  'adder': None,\n",
       "  'name': 'tank_ratio',\n",
       "  'upper': 1.0,\n",
       "  'lower': 0.3,\n",
       "  'ref': None,\n",
       "  'ref0': None,\n",
       "  'units': None,\n",
       "  'cache_linear_solution': False,\n",
       "  'indices': None,\n",
       "  'flat_indices': False,\n",
       "  'parallel_deriv_color': None,\n",
       "  'source': '_auto_ivc.v2',\n",
       "  'orig': (None, 'tank_ratio'),\n",
       "  'distributed': False,\n",
       "  'total_adder': None,\n",
       "  'total_scaler': None,\n",
       "  'size': 1,\n",
       "  'global_size': 1}}"
      ]
     },
     "execution_count": 302,
     "metadata": {},
     "output_type": "execute_result"
    }
   ],
   "source": [
    "prob.model.get_design_vars()"
   ]
  },
  {
   "cell_type": "code",
   "execution_count": 303,
   "id": "778ac8a2",
   "metadata": {},
   "outputs": [
    {
     "data": {
      "text/plain": [
       "array([1.])"
      ]
     },
     "execution_count": 303,
     "metadata": {},
     "output_type": "execute_result"
    }
   ],
   "source": [
    "prob.model.get_val('tank_ratio')"
   ]
  },
  {
   "cell_type": "code",
   "execution_count": 304,
   "id": "ee8dbf13",
   "metadata": {},
   "outputs": [
    {
     "name": "stdout",
     "output_type": "stream",
     "text": [
      "32 Explicit Output(s) in 'model'\n",
      "\n",
      "varname                         val                 \n",
      "------------------------------  --------------------\n",
      "sys\n",
      "  fuel_mass_calc\n",
      "    fuel_mass                   [59580.6163499]     \n",
      "  tanks\n",
      "    tank1_mass_full             [43895.21152577]    \n",
      "    tank1_mass_empty            [8146.84171583]     \n",
      "    tank2_mass_full             [29613.05740932]    \n",
      "    tank2_mass_empty            [5780.81086935]     \n",
      "    CGtp                        [51.08337761]       \n",
      "    tank1_x                     [1.]                \n",
      "    tank2_x                     [1.]                \n",
      "    length_fuselage             [82.91697892]       \n",
      "  pipes\n",
      "    pipe_CG                     [10.84355971]       \n",
      "    pipe_mass                   [60.74845366]       \n",
      "  engine\n",
      "    engine_mass                 [1639.31494409]     \n",
      "    engine_x                    [14.82308546]       \n",
      "    engine_y                    [18.]               \n",
      "  actuator\n",
      "    each_flap_actuator_mass     [2.55]              \n",
      "    each_aileron_actuator_mass  [0.1275]            \n",
      "    actuators_CG_x              [13.50885847]       \n",
      "  systems_roundup\n",
      "    systems_mass                [93310.60227692]    \n",
      "    systems_CG                  [40.95561076]       \n",
      "struct\n",
      "  bendingmoments\n",
      "    bending_moment              [4804234.09462359]  \n",
      "  landing_gear_calcs\n",
      "    landing_tension             [657668.59592953]   \n",
      "  spars\n",
      "    spars                       |16.0393408|        \n",
      "  optimisation\n",
      "    b                           [30.]               \n",
      "    c                           [12.6]              \n",
      "    min_weight                  |920800000.009306|  \n",
      "    Ix                          [0.00797236]        \n",
      "    Iy                          [0.00970202]        \n",
      "    Iz                          [0.00181142]        \n",
      "  structures_cog\n",
      "    cog_structures              |2072900.8054641|   \n",
      "    weight_structures           [279764.41665121]   \n",
      "mass\n",
      "  m                             [373075.01892813]   \n",
      "  total_CG                      |1554432.88302679|  \n",
      "\n",
      "\n",
      "0 Implicit Output(s) in 'model'\n",
      "\n",
      "\n"
     ]
    },
    {
     "data": {
      "text/plain": [
       "[('sys.fuel_mass_calc.fuel_mass', {'val': array([59580.6163499])}),\n",
       " ('sys.tanks.tank1_mass_full', {'val': array([43895.21152577])}),\n",
       " ('sys.tanks.tank1_mass_empty', {'val': array([8146.84171583])}),\n",
       " ('sys.tanks.tank2_mass_full', {'val': array([29613.05740932])}),\n",
       " ('sys.tanks.tank2_mass_empty', {'val': array([5780.81086935])}),\n",
       " ('sys.tanks.CGtp', {'val': array([51.08337761])}),\n",
       " ('sys.tanks.tank1_x', {'val': array([1.])}),\n",
       " ('sys.tanks.tank2_x', {'val': array([1.])}),\n",
       " ('sys.tanks.length_fuselage', {'val': array([82.91697892])}),\n",
       " ('sys.pipes.pipe_CG', {'val': array([10.84355971])}),\n",
       " ('sys.pipes.pipe_mass', {'val': array([60.74845366])}),\n",
       " ('sys.engine.engine_mass', {'val': array([1639.31494409])}),\n",
       " ('sys.engine.engine_x', {'val': array([14.82308546])}),\n",
       " ('sys.engine.engine_y', {'val': array([18.])}),\n",
       " ('sys.actuator.each_flap_actuator_mass', {'val': array([2.55])}),\n",
       " ('sys.actuator.each_aileron_actuator_mass', {'val': array([0.1275])}),\n",
       " ('sys.actuator.actuators_CG_x', {'val': array([13.50885847])}),\n",
       " ('sys.systems_roundup.systems_mass', {'val': array([93310.60227692])}),\n",
       " ('sys.systems_roundup.systems_CG', {'val': array([40.95561076])}),\n",
       " ('struct.bendingmoments.bending_moment', {'val': array([4804234.09462359])}),\n",
       " ('struct.landing_gear_calcs.landing_tension',\n",
       "  {'val': array([657668.59592953])}),\n",
       " ('struct.spars.spars',\n",
       "  {'val': array([[ 9.45597577,  3.15      ],\n",
       "          [10.87347577,  6.3       ]])}),\n",
       " ('struct.optimisation.b', {'val': array([30.])}),\n",
       " ('struct.optimisation.c', {'val': array([12.6])}),\n",
       " ('struct.optimisation.min_weight',\n",
       "  {'val': array([[3.00000000e+01, 1.26000000e+01, 8.40000000e+00, 4.13966304e+03,\n",
       "           1.61400000e-02, 9.20800000e+08, 7.97236000e-03, 9.70202000e-03,\n",
       "           1.81142000e-03]])}),\n",
       " ('struct.optimisation.Ix', {'val': array([0.00797236])}),\n",
       " ('struct.optimisation.Iy', {'val': array([0.00970202])}),\n",
       " ('struct.optimisation.Iz', {'val': array([0.00181142])}),\n",
       " ('struct.structures_cog.cog_structures',\n",
       "  {'val': array([-2065180.10627134,  -178742.49062498])}),\n",
       " ('struct.structures_cog.weight_structures',\n",
       "  {'val': array([279764.41665121])}),\n",
       " ('mass.m', {'val': array([373075.01892813])}),\n",
       " ('mass.total_CG', {'val': array([[-1548643.18650421,  -134036.8185577 ]])})]"
      ]
     },
     "execution_count": 304,
     "metadata": {},
     "output_type": "execute_result"
    }
   ],
   "source": [
    "#get properties of specific constants in disciplines\n",
    "#prob.model.sys.options._dict['pp_mass']\n",
    "\n",
    "prob.model.list_outputs()"
   ]
  },
  {
   "cell_type": "code",
   "execution_count": 305,
   "id": "dd9dde5c",
   "metadata": {},
   "outputs": [
    {
     "data": {
      "text/plain": [
       "1"
      ]
     },
     "execution_count": 305,
     "metadata": {},
     "output_type": "execute_result"
    }
   ],
   "source": [
    "arr = [4,2,3,4,5,6]\n",
    "np.argmin(arr)"
   ]
  },
  {
   "cell_type": "code",
   "execution_count": 306,
   "id": "8e028a60",
   "metadata": {},
   "outputs": [
    {
     "data": {
      "text/plain": [
       "2"
      ]
     },
     "execution_count": 306,
     "metadata": {},
     "output_type": "execute_result"
    }
   ],
   "source": [
    "arr[np.argmin(arr)]"
   ]
  },
  {
   "cell_type": "code",
   "execution_count": null,
   "id": "bf3195c8",
   "metadata": {},
   "outputs": [],
   "source": []
  }
 ],
 "metadata": {
  "kernelspec": {
   "display_name": "Python 3 (ipykernel)",
   "language": "python",
   "name": "python3"
  },
  "language_info": {
   "codemirror_mode": {
    "name": "ipython",
    "version": 3
   },
   "file_extension": ".py",
   "mimetype": "text/x-python",
   "name": "python",
   "nbconvert_exporter": "python",
   "pygments_lexer": "ipython3",
   "version": "3.9.15"
  }
 },
 "nbformat": 4,
 "nbformat_minor": 5
}
