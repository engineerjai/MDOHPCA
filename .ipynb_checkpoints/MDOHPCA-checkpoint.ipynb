{
 "cells": [
  {
   "cell_type": "code",
   "execution_count": 617,
   "id": "8c305589",
   "metadata": {},
   "outputs": [],
   "source": [
    "\n",
    "#    Multi-Disciplinary Design Optimisation of a Hydrogen Powered Commercial Aircraft (MDOHPCA)\n",
    "#    this is the master file that runs each of the individual disciplines \n",
    "#    It sets up each of the analyses, then converts it into an openMDAO problem with a certain structure, then solves for minimum mass\n",
    "\n"
   ]
  },
  {
   "cell_type": "code",
   "execution_count": 619,
   "id": "069bf40a",
   "metadata": {},
   "outputs": [],
   "source": [
    "\n",
    "import pandas as pd\n",
    "import numpy as np\n",
    "import openmdao.api as om"
   ]
  },
  {
   "cell_type": "code",
   "execution_count": 618,
   "id": "a91e9074",
   "metadata": {},
   "outputs": [],
   "source": [
    "class MDOHPCA(om.Group):\n",
    "    \"\"\"\n",
    "    Top level group containing the MDO.\n",
    "    \"\"\"           \n",
    "    def setup(self):\n",
    "        \"\"\"\n",
    "        set up each person's disciplines that can contain analyses\n",
    "        \"\"\"\n",
    "        self.add_subsystem('aero', aero())\n",
    "        self.add_subsystem('sys', sys())\n",
    "        self.add_subsystem('stab', stab())\n",
    "        self.add_subsystem('struct', struct())\n",
    "        \n",
    "        self.add_subsystem('mass', mass())\n",
    "        \n",
    "    def configure(self):\n",
    "        #promote all variables (lazy option, they can be connected individually)\n",
    "        self.promotes('sys',any=['*'])\n",
    "        self.promotes('struct',any=['*'])\n",
    "        \n",
    "        self.promotes('mass',any=['*'])"
   ]
  },
  {
   "cell_type": "code",
   "execution_count": 620,
   "id": "af00b877",
   "metadata": {},
   "outputs": [],
   "source": [
    "class mass(om.ExplicitComponent):\n",
    "    def setup(self):\n",
    "        self.add_input('systems_mass')\n",
    "        self.add_input('weight_structures')\n",
    "        self.add_input('cog_structures', shape = (2,))\n",
    "        self.add_input('systems_CG')\n",
    "        \n",
    "        self.add_output('m')\n",
    "        prob.model.add_objective('m')\n",
    "        \n",
    "        self.add_output('total_CG', shape = (1,2))\n",
    "        \n",
    "    def setup_partials(self):\n",
    "        self.declare_partials('*', '*', method = 'fd')\n",
    "        \n",
    "    def compute(self,inputs,outputs):\n",
    "        #calculation of mass from systems and structures\n",
    "        mass = inputs['systems_mass'] + inputs['weight_structures']\n",
    "        \n",
    "        outputs['m'] = mass\n",
    "        \n",
    "        #calculation of CG from systems and structures\n",
    "        struct_CG = inputs['cog_structures']\n",
    "        sys_CG = inputs['systems_CG']\n",
    "        \n",
    "        struct_comp_x = struct_CG[0]*inputs['weight_structures']\n",
    "        struct_comp_y = struct_CG[1]*inputs['weight_structures']\n",
    "        \n",
    "        sys_comp_x = sys_CG*inputs['systems_mass']\n",
    "        \n",
    "        total_CG_x = (struct_comp_x + sys_comp_x)/mass\n",
    "        total_CG_y = struct_comp_y/mass\n",
    "        \n",
    "        total_CG = [total_CG_x, total_CG_y]\n",
    "        outputs['total_CG'] = total_CG"
   ]
  },
  {
   "cell_type": "code",
   "execution_count": 621,
   "id": "4cb57483",
   "metadata": {},
   "outputs": [],
   "source": [
    "%run struct/structsetup.ipynb\n",
    "%run stab/stabsetup.ipynb\n",
    "%run systems/systemssetup.ipynb\n",
    "#%run aero/aerosetup_2.ipynb\n"
   ]
  },
  {
   "cell_type": "code",
   "execution_count": 622,
   "id": "9bc13d80",
   "metadata": {},
   "outputs": [],
   "source": [
    "prob = om.Problem(model = MDOHPCA())\n",
    "#prob.model.add_subsystem('aero', om.Group())"
   ]
  },
  {
   "cell_type": "code",
   "execution_count": 623,
   "id": "11ddcf35",
   "metadata": {},
   "outputs": [],
   "source": [
    "#setting inputs to reduce ambiguities where inputs differ in different disciplines\n",
    "prob.model.set_input_defaults('CL', val = 0.6)\n",
    "prob.model.set_input_defaults('sweep', val = 15)\n",
    "prob.model.set_input_defaults('c', val = 4)\n",
    "prob.model.set_input_defaults('b', val = 60)\n",
    "prob.model.set_input_defaults('root_x', val = 10)\n",
    "prob.model.set_input_defaults('m', val = 240000)\n",
    "\n",
    "\n",
    "prob.model.add_design_var('tank_ratio', lower = 0.3, upper = 1)\n",
    "prob.model.set_input_defaults('tank_ratio', val = 1)\n"
   ]
  },
  {
   "cell_type": "code",
   "execution_count": 624,
   "id": "b49706a0",
   "metadata": {},
   "outputs": [
    {
     "data": {
      "text/plain": [
       "<openmdao.core.problem.Problem at 0x22bdf6c7970>"
      ]
     },
     "execution_count": 624,
     "metadata": {},
     "output_type": "execute_result"
    }
   ],
   "source": [
    "#declare problem options (driver, optimiser)\n",
    "\n",
    "#prob.nonlinear_solver = om.NonlinearBlockGS()\n",
    "#prob.nonlinear_solver = om.NewtonSolver(solve_subsystems=False)\n",
    "prob.model.nonlinear_solver = om.NonlinearBlockGS()\n",
    "prob.model.nonlinear_solver.options['iprint'] = 2\n",
    "prob.model.nonlinear_solver.options['maxiter'] = 200\n",
    "\n",
    "#prob.nonlinear_solver.options['maxiter'] = 100\n",
    "\n",
    "prob.driver = om.ScipyOptimizeDriver()\n",
    "prob.driver.options['optimizer'] = 'SLSQP'\n",
    "prob.driver.options['tol'] = 1e-5\n",
    "\n",
    "#setup problem to be run\n",
    "prob.setup()"
   ]
  },
  {
   "cell_type": "code",
   "execution_count": 626,
   "id": "26617261",
   "metadata": {
    "scrolled": true
   },
   "outputs": [
    {
     "ename": "ValueError",
     "evalue": "Length of values (15) does not match length of index (1)",
     "output_type": "error",
     "traceback": [
      "\u001b[1;31m---------------------------------------------------------------------------\u001b[0m",
      "\u001b[1;31mValueError\u001b[0m                                Traceback (most recent call last)",
      "File \u001b[1;32m~\\OneDrive\\Documents\\GitHub\\MDOHPCA\\aero\\aero_ido_vf8.py:59\u001b[0m\n\u001b[0;32m     47\u001b[0m mesh_dict_aero\u001b[38;5;241m=\u001b[39m{\n\u001b[0;32m     48\u001b[0m \u001b[38;5;124m\"\u001b[39m\u001b[38;5;124mnum_y\u001b[39m\u001b[38;5;124m\"\u001b[39m: \u001b[38;5;241m15\u001b[39m,\n\u001b[0;32m     49\u001b[0m \u001b[38;5;124m\"\u001b[39m\u001b[38;5;124mnum_x\u001b[39m\u001b[38;5;124m\"\u001b[39m: \u001b[38;5;241m9\u001b[39m,\n\u001b[1;32m   (...)\u001b[0m\n\u001b[0;32m     55\u001b[0m \u001b[38;5;124m\"\u001b[39m\u001b[38;5;124mspan_cos_spacing\u001b[39m\u001b[38;5;124m\"\u001b[39m: \u001b[38;5;241m1\u001b[39m,\n\u001b[0;32m     56\u001b[0m }\n\u001b[0;32m     58\u001b[0m \u001b[38;5;66;03m# Generates the mesh based on the settings defined above\u001b[39;00m\n\u001b[1;32m---> 59\u001b[0m mesh_aero \u001b[38;5;241m=\u001b[39m \u001b[43mgenerate_mesh\u001b[49m\u001b[43m(\u001b[49m\u001b[43mmesh_dict_aero\u001b[49m\u001b[43m)\u001b[49m\n\u001b[0;32m     61\u001b[0m \u001b[38;5;66;03m# Creates a dictionary with info and options about the wing\u001b[39;00m\n\u001b[0;32m     62\u001b[0m surface \u001b[38;5;241m=\u001b[39m {\n\u001b[0;32m     63\u001b[0m \u001b[38;5;124m\"\u001b[39m\u001b[38;5;124mname\u001b[39m\u001b[38;5;124m\"\u001b[39m: \u001b[38;5;124m\"\u001b[39m\u001b[38;5;124mwing\u001b[39m\u001b[38;5;124m\"\u001b[39m,\n\u001b[0;32m     64\u001b[0m \u001b[38;5;124m\"\u001b[39m\u001b[38;5;124msymmetry\u001b[39m\u001b[38;5;124m\"\u001b[39m: \u001b[38;5;28;01mTrue\u001b[39;00m,\n\u001b[1;32m   (...)\u001b[0m\n\u001b[0;32m     86\u001b[0m \u001b[38;5;124m\"\u001b[39m\u001b[38;5;124mspan\u001b[39m\u001b[38;5;124m\"\u001b[39m:max_allowable_wing_span           \u001b[38;5;66;03m# Defines wingspan, wingtip to wingtip\u001b[39;00m\n\u001b[0;32m     87\u001b[0m }\n",
      "File \u001b[1;32m~\\anaconda3\\envs\\MDOHPCA\\lib\\site-packages\\openaerostruct\\geometry\\utils.py:658\u001b[0m, in \u001b[0;36mgenerate_mesh\u001b[1;34m(input_dict)\u001b[0m\n\u001b[0;32m    656\u001b[0m \u001b[38;5;66;03m# Generate rectangular mesh\u001b[39;00m\n\u001b[0;32m    657\u001b[0m \u001b[38;5;28;01mif\u001b[39;00m surf_dict[\u001b[38;5;124m\"\u001b[39m\u001b[38;5;124mwing_type\u001b[39m\u001b[38;5;124m\"\u001b[39m] \u001b[38;5;241m==\u001b[39m \u001b[38;5;124m\"\u001b[39m\u001b[38;5;124mrect\u001b[39m\u001b[38;5;124m\"\u001b[39m:\n\u001b[1;32m--> 658\u001b[0m     mesh \u001b[38;5;241m=\u001b[39m \u001b[43mgen_rect_mesh\u001b[49m\u001b[43m(\u001b[49m\u001b[43mnum_x\u001b[49m\u001b[43m,\u001b[49m\u001b[43m \u001b[49m\u001b[43mnum_y\u001b[49m\u001b[43m,\u001b[49m\u001b[43m \u001b[49m\u001b[43mspan\u001b[49m\u001b[43m,\u001b[49m\u001b[43m \u001b[49m\u001b[43mchord\u001b[49m\u001b[43m,\u001b[49m\u001b[43m \u001b[49m\u001b[43mspan_cos_spacing\u001b[49m\u001b[43m,\u001b[49m\u001b[43m \u001b[49m\u001b[43mchord_cos_spacing\u001b[49m\u001b[43m)\u001b[49m\n\u001b[0;32m    660\u001b[0m \u001b[38;5;66;03m# Generate CRM mesh. Note that this outputs twist information\u001b[39;00m\n\u001b[0;32m    661\u001b[0m \u001b[38;5;66;03m# based on the data from the CRM definition paper, so we save\u001b[39;00m\n\u001b[0;32m    662\u001b[0m \u001b[38;5;66;03m# this twist information to the surf_dict.\u001b[39;00m\n\u001b[0;32m    663\u001b[0m \u001b[38;5;28;01melif\u001b[39;00m \u001b[38;5;124m\"\u001b[39m\u001b[38;5;124mCRM\u001b[39m\u001b[38;5;124m\"\u001b[39m \u001b[38;5;129;01min\u001b[39;00m surf_dict[\u001b[38;5;124m\"\u001b[39m\u001b[38;5;124mwing_type\u001b[39m\u001b[38;5;124m\"\u001b[39m]:\n",
      "File \u001b[1;32m~\\anaconda3\\envs\\MDOHPCA\\lib\\site-packages\\openaerostruct\\geometry\\utils.py:396\u001b[0m, in \u001b[0;36mgen_rect_mesh\u001b[1;34m(num_x, num_y, span, chord, span_cos_spacing, chord_cos_spacing)\u001b[0m\n\u001b[0;32m    394\u001b[0m     uniform \u001b[38;5;241m=\u001b[39m np\u001b[38;5;241m.\u001b[39mlinspace(\u001b[38;5;241m0\u001b[39m, \u001b[38;5;241m0.5\u001b[39m, ny2)[::\u001b[38;5;241m-\u001b[39m\u001b[38;5;241m1\u001b[39m]  \u001b[38;5;66;03m# uniform spacing\u001b[39;00m\n\u001b[0;32m    395\u001b[0m     half_wing \u001b[38;5;241m=\u001b[39m cosine \u001b[38;5;241m*\u001b[39m span_cos_spacing \u001b[38;5;241m+\u001b[39m (\u001b[38;5;241m1\u001b[39m \u001b[38;5;241m-\u001b[39m span_cos_spacing) \u001b[38;5;241m*\u001b[39m uniform\n\u001b[1;32m--> 396\u001b[0m     full_wing \u001b[38;5;241m=\u001b[39m \u001b[43mnp\u001b[49m\u001b[38;5;241;43m.\u001b[39;49m\u001b[43mhstack\u001b[49m\u001b[43m(\u001b[49m\u001b[43m(\u001b[49m\u001b[38;5;241;43m-\u001b[39;49m\u001b[43mhalf_wing\u001b[49m\u001b[43m[\u001b[49m\u001b[43m:\u001b[49m\u001b[38;5;241;43m-\u001b[39;49m\u001b[38;5;241;43m1\u001b[39;49m\u001b[43m]\u001b[49m\u001b[43m,\u001b[49m\u001b[43m \u001b[49m\u001b[43mhalf_wing\u001b[49m\u001b[43m[\u001b[49m\u001b[43m:\u001b[49m\u001b[43m:\u001b[49m\u001b[38;5;241;43m-\u001b[39;49m\u001b[38;5;241;43m1\u001b[39;49m\u001b[43m]\u001b[49m\u001b[43m)\u001b[49m\u001b[43m)\u001b[49m\u001b[43m \u001b[49m\u001b[38;5;241;43m*\u001b[39;49m\u001b[43m \u001b[49m\u001b[43mspan\u001b[49m\n\u001b[0;32m    398\u001b[0m nx2 \u001b[38;5;241m=\u001b[39m (num_x \u001b[38;5;241m+\u001b[39m \u001b[38;5;241m1\u001b[39m) \u001b[38;5;241m/\u001b[39m\u001b[38;5;241m/\u001b[39m \u001b[38;5;241m2\u001b[39m\n\u001b[0;32m    399\u001b[0m beta \u001b[38;5;241m=\u001b[39m np\u001b[38;5;241m.\u001b[39mlinspace(\u001b[38;5;241m0\u001b[39m, np\u001b[38;5;241m.\u001b[39mpi \u001b[38;5;241m/\u001b[39m \u001b[38;5;241m2\u001b[39m, nx2)\n",
      "File \u001b[1;32m~\\anaconda3\\envs\\MDOHPCA\\lib\\site-packages\\pandas\\core\\generic.py:2016\u001b[0m, in \u001b[0;36mNDFrame.__array_ufunc__\u001b[1;34m(self, ufunc, method, *inputs, **kwargs)\u001b[0m\n\u001b[0;32m   2012\u001b[0m \u001b[38;5;129m@final\u001b[39m\n\u001b[0;32m   2013\u001b[0m \u001b[38;5;28;01mdef\u001b[39;00m \u001b[38;5;21m__array_ufunc__\u001b[39m(\n\u001b[0;32m   2014\u001b[0m     \u001b[38;5;28mself\u001b[39m, ufunc: np\u001b[38;5;241m.\u001b[39mufunc, method: \u001b[38;5;28mstr\u001b[39m, \u001b[38;5;241m*\u001b[39minputs: Any, \u001b[38;5;241m*\u001b[39m\u001b[38;5;241m*\u001b[39mkwargs: Any\n\u001b[0;32m   2015\u001b[0m ):\n\u001b[1;32m-> 2016\u001b[0m     \u001b[38;5;28;01mreturn\u001b[39;00m arraylike\u001b[38;5;241m.\u001b[39marray_ufunc(\u001b[38;5;28mself\u001b[39m, ufunc, method, \u001b[38;5;241m*\u001b[39minputs, \u001b[38;5;241m*\u001b[39m\u001b[38;5;241m*\u001b[39mkwargs)\n",
      "File \u001b[1;32m~\\anaconda3\\envs\\MDOHPCA\\lib\\site-packages\\pandas\\core\\arraylike.py:273\u001b[0m, in \u001b[0;36marray_ufunc\u001b[1;34m(self, ufunc, method, *inputs, **kwargs)\u001b[0m\n\u001b[0;32m    270\u001b[0m kwargs \u001b[38;5;241m=\u001b[39m _standardize_out_kwarg(\u001b[38;5;241m*\u001b[39m\u001b[38;5;241m*\u001b[39mkwargs)\n\u001b[0;32m    272\u001b[0m \u001b[38;5;66;03m# for binary ops, use our custom dunder methods\u001b[39;00m\n\u001b[1;32m--> 273\u001b[0m result \u001b[38;5;241m=\u001b[39m maybe_dispatch_ufunc_to_dunder_op(\u001b[38;5;28mself\u001b[39m, ufunc, method, \u001b[38;5;241m*\u001b[39minputs, \u001b[38;5;241m*\u001b[39m\u001b[38;5;241m*\u001b[39mkwargs)\n\u001b[0;32m    274\u001b[0m \u001b[38;5;28;01mif\u001b[39;00m result \u001b[38;5;129;01mis\u001b[39;00m \u001b[38;5;129;01mnot\u001b[39;00m \u001b[38;5;28mNotImplemented\u001b[39m:\n\u001b[0;32m    275\u001b[0m     \u001b[38;5;28;01mreturn\u001b[39;00m result\n",
      "File \u001b[1;32m~\\anaconda3\\envs\\MDOHPCA\\lib\\site-packages\\pandas\\_libs\\ops_dispatch.pyx:113\u001b[0m, in \u001b[0;36mpandas._libs.ops_dispatch.maybe_dispatch_ufunc_to_dunder_op\u001b[1;34m()\u001b[0m\n",
      "File \u001b[1;32m~\\anaconda3\\envs\\MDOHPCA\\lib\\site-packages\\pandas\\core\\ops\\common.py:81\u001b[0m, in \u001b[0;36m_unpack_zerodim_and_defer.<locals>.new_method\u001b[1;34m(self, other)\u001b[0m\n\u001b[0;32m     77\u001b[0m             \u001b[38;5;28;01mreturn\u001b[39;00m \u001b[38;5;28mNotImplemented\u001b[39m\n\u001b[0;32m     79\u001b[0m other \u001b[38;5;241m=\u001b[39m item_from_zerodim(other)\n\u001b[1;32m---> 81\u001b[0m \u001b[38;5;28;01mreturn\u001b[39;00m \u001b[43mmethod\u001b[49m\u001b[43m(\u001b[49m\u001b[38;5;28;43mself\u001b[39;49m\u001b[43m,\u001b[49m\u001b[43m \u001b[49m\u001b[43mother\u001b[49m\u001b[43m)\u001b[49m\n",
      "File \u001b[1;32m~\\anaconda3\\envs\\MDOHPCA\\lib\\site-packages\\pandas\\core\\arraylike.py:206\u001b[0m, in \u001b[0;36mOpsMixin.__rmul__\u001b[1;34m(self, other)\u001b[0m\n\u001b[0;32m    204\u001b[0m \u001b[38;5;129m@unpack_zerodim_and_defer\u001b[39m(\u001b[38;5;124m\"\u001b[39m\u001b[38;5;124m__rmul__\u001b[39m\u001b[38;5;124m\"\u001b[39m)\n\u001b[0;32m    205\u001b[0m \u001b[38;5;28;01mdef\u001b[39;00m \u001b[38;5;21m__rmul__\u001b[39m(\u001b[38;5;28mself\u001b[39m, other):\n\u001b[1;32m--> 206\u001b[0m     \u001b[38;5;28;01mreturn\u001b[39;00m \u001b[38;5;28;43mself\u001b[39;49m\u001b[38;5;241;43m.\u001b[39;49m\u001b[43m_arith_method\u001b[49m\u001b[43m(\u001b[49m\u001b[43mother\u001b[49m\u001b[43m,\u001b[49m\u001b[43m \u001b[49m\u001b[43mroperator\u001b[49m\u001b[38;5;241;43m.\u001b[39;49m\u001b[43mrmul\u001b[49m\u001b[43m)\u001b[49m\n",
      "File \u001b[1;32m~\\anaconda3\\envs\\MDOHPCA\\lib\\site-packages\\pandas\\core\\series.py:6108\u001b[0m, in \u001b[0;36mSeries._arith_method\u001b[1;34m(self, other, op)\u001b[0m\n\u001b[0;32m   6106\u001b[0m \u001b[38;5;28;01mdef\u001b[39;00m \u001b[38;5;21m_arith_method\u001b[39m(\u001b[38;5;28mself\u001b[39m, other, op):\n\u001b[0;32m   6107\u001b[0m     \u001b[38;5;28mself\u001b[39m, other \u001b[38;5;241m=\u001b[39m ops\u001b[38;5;241m.\u001b[39malign_method_SERIES(\u001b[38;5;28mself\u001b[39m, other)\n\u001b[1;32m-> 6108\u001b[0m     \u001b[38;5;28;01mreturn\u001b[39;00m \u001b[43mbase\u001b[49m\u001b[38;5;241;43m.\u001b[39;49m\u001b[43mIndexOpsMixin\u001b[49m\u001b[38;5;241;43m.\u001b[39;49m\u001b[43m_arith_method\u001b[49m\u001b[43m(\u001b[49m\u001b[38;5;28;43mself\u001b[39;49m\u001b[43m,\u001b[49m\u001b[43m \u001b[49m\u001b[43mother\u001b[49m\u001b[43m,\u001b[49m\u001b[43m \u001b[49m\u001b[43mop\u001b[49m\u001b[43m)\u001b[49m\n",
      "File \u001b[1;32m~\\anaconda3\\envs\\MDOHPCA\\lib\\site-packages\\pandas\\core\\base.py:1350\u001b[0m, in \u001b[0;36mIndexOpsMixin._arith_method\u001b[1;34m(self, other, op)\u001b[0m\n\u001b[0;32m   1347\u001b[0m \u001b[38;5;28;01mwith\u001b[39;00m np\u001b[38;5;241m.\u001b[39merrstate(\u001b[38;5;28mall\u001b[39m\u001b[38;5;241m=\u001b[39m\u001b[38;5;124m\"\u001b[39m\u001b[38;5;124mignore\u001b[39m\u001b[38;5;124m\"\u001b[39m):\n\u001b[0;32m   1348\u001b[0m     result \u001b[38;5;241m=\u001b[39m ops\u001b[38;5;241m.\u001b[39marithmetic_op(lvalues, rvalues, op)\n\u001b[1;32m-> 1350\u001b[0m \u001b[38;5;28;01mreturn\u001b[39;00m \u001b[38;5;28;43mself\u001b[39;49m\u001b[38;5;241;43m.\u001b[39;49m\u001b[43m_construct_result\u001b[49m\u001b[43m(\u001b[49m\u001b[43mresult\u001b[49m\u001b[43m,\u001b[49m\u001b[43m \u001b[49m\u001b[43mname\u001b[49m\u001b[38;5;241;43m=\u001b[39;49m\u001b[43mres_name\u001b[49m\u001b[43m)\u001b[49m\n",
      "File \u001b[1;32m~\\anaconda3\\envs\\MDOHPCA\\lib\\site-packages\\pandas\\core\\series.py:3101\u001b[0m, in \u001b[0;36mSeries._construct_result\u001b[1;34m(self, result, name)\u001b[0m\n\u001b[0;32m   3098\u001b[0m \u001b[38;5;66;03m# TODO: result should always be ArrayLike, but this fails for some\u001b[39;00m\n\u001b[0;32m   3099\u001b[0m \u001b[38;5;66;03m#  JSONArray tests\u001b[39;00m\n\u001b[0;32m   3100\u001b[0m dtype \u001b[38;5;241m=\u001b[39m \u001b[38;5;28mgetattr\u001b[39m(result, \u001b[38;5;124m\"\u001b[39m\u001b[38;5;124mdtype\u001b[39m\u001b[38;5;124m\"\u001b[39m, \u001b[38;5;28;01mNone\u001b[39;00m)\n\u001b[1;32m-> 3101\u001b[0m out \u001b[38;5;241m=\u001b[39m \u001b[38;5;28;43mself\u001b[39;49m\u001b[38;5;241;43m.\u001b[39;49m\u001b[43m_constructor\u001b[49m\u001b[43m(\u001b[49m\u001b[43mresult\u001b[49m\u001b[43m,\u001b[49m\u001b[43m \u001b[49m\u001b[43mindex\u001b[49m\u001b[38;5;241;43m=\u001b[39;49m\u001b[38;5;28;43mself\u001b[39;49m\u001b[38;5;241;43m.\u001b[39;49m\u001b[43mindex\u001b[49m\u001b[43m,\u001b[49m\u001b[43m \u001b[49m\u001b[43mdtype\u001b[49m\u001b[38;5;241;43m=\u001b[39;49m\u001b[43mdtype\u001b[49m\u001b[43m)\u001b[49m\n\u001b[0;32m   3102\u001b[0m out \u001b[38;5;241m=\u001b[39m out\u001b[38;5;241m.\u001b[39m__finalize__(\u001b[38;5;28mself\u001b[39m)\n\u001b[0;32m   3104\u001b[0m \u001b[38;5;66;03m# Set the result's name after __finalize__ is called because __finalize__\u001b[39;00m\n\u001b[0;32m   3105\u001b[0m \u001b[38;5;66;03m#  would set it back to self.name\u001b[39;00m\n",
      "File \u001b[1;32m~\\anaconda3\\envs\\MDOHPCA\\lib\\site-packages\\pandas\\core\\series.py:500\u001b[0m, in \u001b[0;36mSeries.__init__\u001b[1;34m(self, data, index, dtype, name, copy, fastpath)\u001b[0m\n\u001b[0;32m    498\u001b[0m     index \u001b[38;5;241m=\u001b[39m default_index(\u001b[38;5;28mlen\u001b[39m(data))\n\u001b[0;32m    499\u001b[0m \u001b[38;5;28;01melif\u001b[39;00m is_list_like(data):\n\u001b[1;32m--> 500\u001b[0m     \u001b[43mcom\u001b[49m\u001b[38;5;241;43m.\u001b[39;49m\u001b[43mrequire_length_match\u001b[49m\u001b[43m(\u001b[49m\u001b[43mdata\u001b[49m\u001b[43m,\u001b[49m\u001b[43m \u001b[49m\u001b[43mindex\u001b[49m\u001b[43m)\u001b[49m\n\u001b[0;32m    502\u001b[0m \u001b[38;5;66;03m# create/copy the manager\u001b[39;00m\n\u001b[0;32m    503\u001b[0m \u001b[38;5;28;01mif\u001b[39;00m \u001b[38;5;28misinstance\u001b[39m(data, (SingleBlockManager, SingleArrayManager)):\n",
      "File \u001b[1;32m~\\anaconda3\\envs\\MDOHPCA\\lib\\site-packages\\pandas\\core\\common.py:576\u001b[0m, in \u001b[0;36mrequire_length_match\u001b[1;34m(data, index)\u001b[0m\n\u001b[0;32m    572\u001b[0m \u001b[38;5;124;03m\"\"\"\u001b[39;00m\n\u001b[0;32m    573\u001b[0m \u001b[38;5;124;03mCheck the length of data matches the length of the index.\u001b[39;00m\n\u001b[0;32m    574\u001b[0m \u001b[38;5;124;03m\"\"\"\u001b[39;00m\n\u001b[0;32m    575\u001b[0m \u001b[38;5;28;01mif\u001b[39;00m \u001b[38;5;28mlen\u001b[39m(data) \u001b[38;5;241m!=\u001b[39m \u001b[38;5;28mlen\u001b[39m(index):\n\u001b[1;32m--> 576\u001b[0m     \u001b[38;5;28;01mraise\u001b[39;00m \u001b[38;5;167;01mValueError\u001b[39;00m(\n\u001b[0;32m    577\u001b[0m         \u001b[38;5;124m\"\u001b[39m\u001b[38;5;124mLength of values \u001b[39m\u001b[38;5;124m\"\u001b[39m\n\u001b[0;32m    578\u001b[0m         \u001b[38;5;124mf\u001b[39m\u001b[38;5;124m\"\u001b[39m\u001b[38;5;124m(\u001b[39m\u001b[38;5;132;01m{\u001b[39;00m\u001b[38;5;28mlen\u001b[39m(data)\u001b[38;5;132;01m}\u001b[39;00m\u001b[38;5;124m) \u001b[39m\u001b[38;5;124m\"\u001b[39m\n\u001b[0;32m    579\u001b[0m         \u001b[38;5;124m\"\u001b[39m\u001b[38;5;124mdoes not match length of index \u001b[39m\u001b[38;5;124m\"\u001b[39m\n\u001b[0;32m    580\u001b[0m         \u001b[38;5;124mf\u001b[39m\u001b[38;5;124m\"\u001b[39m\u001b[38;5;124m(\u001b[39m\u001b[38;5;132;01m{\u001b[39;00m\u001b[38;5;28mlen\u001b[39m(index)\u001b[38;5;132;01m}\u001b[39;00m\u001b[38;5;124m)\u001b[39m\u001b[38;5;124m\"\u001b[39m\n\u001b[0;32m    581\u001b[0m     )\n",
      "\u001b[1;31mValueError\u001b[0m: Length of values (15) does not match length of index (1)"
     ]
    },
    {
     "ename": "ValueError",
     "evalue": "'aero.derivatives_calc' <class derivatives_calc>: Error calling compute(), This airfoil has a duplicated point (i.e. two adjacent points with the same (x, y) coordinates), so you can't repanel it!",
     "output_type": "error",
     "traceback": [
      "\u001b[1;31m---------------------------------------------------------------------------\u001b[0m",
      "\u001b[1;31mValueError\u001b[0m                                Traceback (most recent call last)",
      "File \u001b[1;32m~\\anaconda3\\envs\\MDOHPCA\\lib\\site-packages\\openmdao\\core\\system.py:2927\u001b[0m, in \u001b[0;36mSystem._call_user_function\u001b[1;34m(self, fname, protect_inputs, protect_outputs, protect_residuals)\u001b[0m\n\u001b[0;32m   2926\u001b[0m \u001b[38;5;28;01mtry\u001b[39;00m:\n\u001b[1;32m-> 2927\u001b[0m     \u001b[38;5;28;01myield\u001b[39;00m\n\u001b[0;32m   2928\u001b[0m \u001b[38;5;28;01mexcept\u001b[39;00m \u001b[38;5;167;01mException\u001b[39;00m:\n",
      "File \u001b[1;32m~\\anaconda3\\envs\\MDOHPCA\\lib\\site-packages\\openmdao\\core\\explicitcomponent.py:283\u001b[0m, in \u001b[0;36mExplicitComponent._compute_wrapper\u001b[1;34m(self)\u001b[0m\n\u001b[0;32m    282\u001b[0m \u001b[38;5;28;01mif\u001b[39;00m \u001b[38;5;28mself\u001b[39m\u001b[38;5;241m.\u001b[39m_discrete_inputs \u001b[38;5;129;01mor\u001b[39;00m \u001b[38;5;28mself\u001b[39m\u001b[38;5;241m.\u001b[39m_discrete_outputs:\n\u001b[1;32m--> 283\u001b[0m     \u001b[38;5;28;43mself\u001b[39;49m\u001b[38;5;241;43m.\u001b[39;49m\u001b[43mcompute\u001b[49m\u001b[43m(\u001b[49m\u001b[38;5;28;43mself\u001b[39;49m\u001b[38;5;241;43m.\u001b[39;49m\u001b[43m_inputs\u001b[49m\u001b[43m,\u001b[49m\u001b[43m \u001b[49m\u001b[38;5;28;43mself\u001b[39;49m\u001b[38;5;241;43m.\u001b[39;49m\u001b[43m_outputs\u001b[49m\u001b[43m,\u001b[49m\n\u001b[0;32m    284\u001b[0m \u001b[43m                 \u001b[49m\u001b[38;5;28;43mself\u001b[39;49m\u001b[38;5;241;43m.\u001b[39;49m\u001b[43m_discrete_inputs\u001b[49m\u001b[43m,\u001b[49m\u001b[43m \u001b[49m\u001b[38;5;28;43mself\u001b[39;49m\u001b[38;5;241;43m.\u001b[39;49m\u001b[43m_discrete_outputs\u001b[49m\u001b[43m)\u001b[49m\n\u001b[0;32m    285\u001b[0m \u001b[38;5;28;01melse\u001b[39;00m:\n",
      "File \u001b[1;32m~\\AppData\\Local\\Temp\\ipykernel_1892\\353348854.py:111\u001b[0m, in \u001b[0;36mderivatives_calc.compute\u001b[1;34m(self, inputs, outputs, discrete_inputs, discrete_outputs)\u001b[0m\n\u001b[0;32m    110\u001b[0m \u001b[38;5;66;03m# Calculates all stability coefficients\u001b[39;00m\n\u001b[1;32m--> 111\u001b[0m derivatives \u001b[38;5;241m=\u001b[39m \u001b[43mall_derivatives_calculator\u001b[49m\u001b[38;5;241;43m.\u001b[39;49m\u001b[43mcalculate\u001b[49m\u001b[43m(\u001b[49m\u001b[43maerodynamic_outputs\u001b[49m\u001b[43m,\u001b[49m\u001b[43m \u001b[49m\n\u001b[0;32m    112\u001b[0m \u001b[43m                                                 \u001b[49m\u001b[43melevator_deflection_angle\u001b[49m\u001b[43m,\u001b[49m\u001b[43m \u001b[49m\n\u001b[0;32m    113\u001b[0m \u001b[43m                                                 \u001b[49m\u001b[43melevator_hinge_position\u001b[49m\u001b[43m,\u001b[49m\u001b[43m    \u001b[49m\n\u001b[0;32m    114\u001b[0m \u001b[43m                                                 \u001b[49m\u001b[43mspan_flap_start\u001b[49m\u001b[43m,\u001b[49m\u001b[43m \u001b[49m\n\u001b[0;32m    115\u001b[0m \u001b[43m                                                 \u001b[49m\u001b[43mspan_flap_end\u001b[49m\u001b[43m,\u001b[49m\n\u001b[0;32m    116\u001b[0m \u001b[43m                                                 \u001b[49m\u001b[43mflap_deflection_angle\u001b[49m\u001b[43m,\u001b[49m\n\u001b[0;32m    117\u001b[0m \u001b[43m                                                 \u001b[49m\u001b[43mflap_hinge_position\u001b[49m\u001b[43m,\u001b[49m\u001b[43m \u001b[49m\n\u001b[0;32m    118\u001b[0m \u001b[43m                                                 \u001b[49m\u001b[43mspan_aileron_start\u001b[49m\u001b[43m,\u001b[49m\u001b[43m \u001b[49m\n\u001b[0;32m    119\u001b[0m \u001b[43m                                                 \u001b[49m\u001b[43mspan_aileron_end\u001b[49m\u001b[43m,\u001b[49m\n\u001b[0;32m    120\u001b[0m \u001b[43m                                                 \u001b[49m\u001b[43maileron_deflection_angle\u001b[49m\u001b[43m,\u001b[49m\n\u001b[0;32m    121\u001b[0m \u001b[43m                                                 \u001b[49m\u001b[43maileron_hinge_position\u001b[49m\u001b[43m)\u001b[49m\n\u001b[0;32m    123\u001b[0m CL_wing \u001b[38;5;241m=\u001b[39m derivatives[\u001b[38;5;124m\"\u001b[39m\u001b[38;5;124mCL\u001b[39m\u001b[38;5;124m\"\u001b[39m]\n",
      "File \u001b[1;32m~\\OneDrive\\Documents\\GitHub\\MDOHPCA\\aero\\all_derivatives_calculator.py:24\u001b[0m, in \u001b[0;36mcalculate\u001b[1;34m(aerodynamic_outputs, elevator_deflection_angle, elevator_hinge_position, span_flap_start, span_flap_end, flap_deflection_angle, flap_hinge_position, span_aileron_start, span_aileron_end, aileron_deflection_angle, aileron_hinge_position, cruise_altitude)\u001b[0m\n\u001b[0;32m     23\u001b[0m CLu, CDu, CMu \u001b[38;5;241m=\u001b[39m CLu_CDu_CMu_calculator(aerodynamic_outputs, SLF_output_data, cruise_altitude)\n\u001b[1;32m---> 24\u001b[0m CL_DE, CD_DE, CM_DE \u001b[38;5;241m=\u001b[39m \u001b[43melevator_derivatives\u001b[49m\u001b[43m(\u001b[49m\u001b[43maerodynamic_outputs\u001b[49m\u001b[43m,\u001b[49m\u001b[43m \u001b[49m\u001b[43melevator_deflection_angle\u001b[49m\u001b[43m,\u001b[49m\u001b[43m \u001b[49m\u001b[43melevator_hinge_position\u001b[49m\u001b[43m,\u001b[49m\u001b[43m \u001b[49m\u001b[43mSLF_output_data\u001b[49m\u001b[43m,\u001b[49m\u001b[43m \u001b[49m\u001b[43mcruise_altitude\u001b[49m\u001b[43m)\u001b[49m\n\u001b[0;32m     25\u001b[0m CL_DF, CD_DF, CM_DF \u001b[38;5;241m=\u001b[39m flaps_derivatives(aerodynamic_outputs, span_flap_start, span_flap_end, flap_deflection_angle, flap_hinge_position, SLF_output_data, cruise_altitude)\n",
      "File \u001b[1;32m~\\OneDrive\\Documents\\GitHub\\MDOHPCA\\aero\\all_derivatives_calculator.py:390\u001b[0m, in \u001b[0;36melevator_derivatives\u001b[1;34m(aerodynamic_outputs, elevator_deflection_angle, elevator_hinge_position, SLF_output_data, cruise_altitude)\u001b[0m\n\u001b[0;32m    376\u001b[0m aero_problem \u001b[38;5;241m=\u001b[39m VortexLatticeMethod( \u001b[38;5;66;03m# Analysis type: Vortex Lattice Method, version 3\u001b[39;00m\n\u001b[0;32m    377\u001b[0m     airplane\u001b[38;5;241m=\u001b[39mJeta_1E,\n\u001b[0;32m    378\u001b[0m     op_point\u001b[38;5;241m=\u001b[39mOperatingPoint(\n\u001b[1;32m   (...)\u001b[0m\n\u001b[0;32m    387\u001b[0m     \n\u001b[0;32m    388\u001b[0m )\n\u001b[1;32m--> 390\u001b[0m elevator_analysis_output_data \u001b[38;5;241m=\u001b[39m \u001b[43maero_problem\u001b[49m\u001b[38;5;241;43m.\u001b[39;49m\u001b[43mrun\u001b[49m\u001b[43m(\u001b[49m\u001b[43m)\u001b[49m\n\u001b[0;32m    391\u001b[0m CL_DE \u001b[38;5;241m=\u001b[39m (elevator_analysis_output_data[\u001b[38;5;124m\"\u001b[39m\u001b[38;5;124mCL\u001b[39m\u001b[38;5;124m\"\u001b[39m]\u001b[38;5;241m-\u001b[39mSLF_output_data[\u001b[38;5;124m\"\u001b[39m\u001b[38;5;124mCL\u001b[39m\u001b[38;5;124m\"\u001b[39m])\u001b[38;5;241m/\u001b[39melevator_deflection_angle\n",
      "File \u001b[1;32m~\\anaconda3\\envs\\MDOHPCA\\lib\\site-packages\\aerosandbox\\aerodynamics\\aero_3D\\vortex_lattice_method.py:132\u001b[0m, in \u001b[0;36mVortexLatticeMethod.run\u001b[1;34m(self)\u001b[0m\n\u001b[0;32m    131\u001b[0m \u001b[38;5;28;01mif\u001b[39;00m \u001b[38;5;28mself\u001b[39m\u001b[38;5;241m.\u001b[39mspanwise_resolution \u001b[38;5;241m>\u001b[39m \u001b[38;5;241m1\u001b[39m:\n\u001b[1;32m--> 132\u001b[0m     wing \u001b[38;5;241m=\u001b[39m \u001b[43mwing\u001b[49m\u001b[38;5;241;43m.\u001b[39;49m\u001b[43msubdivide_sections\u001b[49m\u001b[43m(\u001b[49m\n\u001b[0;32m    133\u001b[0m \u001b[43m        \u001b[49m\u001b[43mratio\u001b[49m\u001b[38;5;241;43m=\u001b[39;49m\u001b[38;5;28;43mself\u001b[39;49m\u001b[38;5;241;43m.\u001b[39;49m\u001b[43mspanwise_resolution\u001b[49m\u001b[43m,\u001b[49m\n\u001b[0;32m    134\u001b[0m \u001b[43m        \u001b[49m\u001b[43mspacing_function\u001b[49m\u001b[38;5;241;43m=\u001b[39;49m\u001b[38;5;28;43mself\u001b[39;49m\u001b[38;5;241;43m.\u001b[39;49m\u001b[43mspanwise_spacing_function\u001b[49m\n\u001b[0;32m    135\u001b[0m \u001b[43m    \u001b[49m\u001b[43m)\u001b[49m\n\u001b[0;32m    137\u001b[0m points, faces \u001b[38;5;241m=\u001b[39m wing\u001b[38;5;241m.\u001b[39mmesh_thin_surface(\n\u001b[0;32m    138\u001b[0m     method\u001b[38;5;241m=\u001b[39m\u001b[38;5;124m\"\u001b[39m\u001b[38;5;124mquad\u001b[39m\u001b[38;5;124m\"\u001b[39m,\n\u001b[0;32m    139\u001b[0m     chordwise_resolution\u001b[38;5;241m=\u001b[39m\u001b[38;5;28mself\u001b[39m\u001b[38;5;241m.\u001b[39mchordwise_resolution,\n\u001b[0;32m    140\u001b[0m     chordwise_spacing_function\u001b[38;5;241m=\u001b[39m\u001b[38;5;28mself\u001b[39m\u001b[38;5;241m.\u001b[39mchordwise_spacing_function,\n\u001b[0;32m    141\u001b[0m     add_camber\u001b[38;5;241m=\u001b[39m\u001b[38;5;28;01mTrue\u001b[39;00m\n\u001b[0;32m    142\u001b[0m )\n",
      "File \u001b[1;32m~\\anaconda3\\envs\\MDOHPCA\\lib\\site-packages\\aerosandbox\\geometry\\wing.py:1301\u001b[0m, in \u001b[0;36mWing.subdivide_sections\u001b[1;34m(self, ratio, spacing_function)\u001b[0m\n\u001b[0;32m   1300\u001b[0m \u001b[38;5;28;01melse\u001b[39;00m:\n\u001b[1;32m-> 1301\u001b[0m     blended_airfoil \u001b[38;5;241m=\u001b[39m \u001b[43mxsec_a\u001b[49m\u001b[38;5;241;43m.\u001b[39;49m\u001b[43mairfoil\u001b[49m\u001b[38;5;241;43m.\u001b[39;49m\u001b[43mblend_with_another_airfoil\u001b[49m\u001b[43m(\u001b[49m\n\u001b[0;32m   1302\u001b[0m \u001b[43m        \u001b[49m\u001b[43mairfoil\u001b[49m\u001b[38;5;241;43m=\u001b[39;49m\u001b[43mxsec_b\u001b[49m\u001b[38;5;241;43m.\u001b[39;49m\u001b[43mairfoil\u001b[49m\u001b[43m,\u001b[49m\n\u001b[0;32m   1303\u001b[0m \u001b[43m        \u001b[49m\u001b[43mblend_fraction\u001b[49m\u001b[38;5;241;43m=\u001b[39;49m\u001b[43mb_weight\u001b[49m\n\u001b[0;32m   1304\u001b[0m \u001b[43m    \u001b[49m\u001b[43m)\u001b[49m\n\u001b[0;32m   1306\u001b[0m new_xsecs\u001b[38;5;241m.\u001b[39mappend(\n\u001b[0;32m   1307\u001b[0m     WingXSec(\n\u001b[0;32m   1308\u001b[0m         xyz_le\u001b[38;5;241m=\u001b[39mxsec_a\u001b[38;5;241m.\u001b[39mxyz_le \u001b[38;5;241m*\u001b[39m a_weight \u001b[38;5;241m+\u001b[39m xsec_b\u001b[38;5;241m.\u001b[39mxyz_le \u001b[38;5;241m*\u001b[39m b_weight,\n\u001b[1;32m   (...)\u001b[0m\n\u001b[0;32m   1314\u001b[0m     )\n\u001b[0;32m   1315\u001b[0m )\n",
      "File \u001b[1;32m~\\anaconda3\\envs\\MDOHPCA\\lib\\site-packages\\aerosandbox\\geometry\\airfoil\\airfoil.py:1302\u001b[0m, in \u001b[0;36mAirfoil.blend_with_another_airfoil\u001b[1;34m(self, airfoil, blend_fraction, n_points_per_side)\u001b[0m\n\u001b[0;32m   1284\u001b[0m \u001b[38;5;124;03m\"\"\"\u001b[39;00m\n\u001b[0;32m   1285\u001b[0m \u001b[38;5;124;03mBlends this airfoil with another airfoil. Merges both the coordinates and the aerodynamic functions.\u001b[39;00m\n\u001b[0;32m   1286\u001b[0m \n\u001b[1;32m   (...)\u001b[0m\n\u001b[0;32m   1300\u001b[0m \n\u001b[0;32m   1301\u001b[0m \u001b[38;5;124;03m\"\"\"\u001b[39;00m\n\u001b[1;32m-> 1302\u001b[0m this_foil \u001b[38;5;241m=\u001b[39m \u001b[38;5;28;43mself\u001b[39;49m\u001b[38;5;241;43m.\u001b[39;49m\u001b[43mrepanel\u001b[49m\u001b[43m(\u001b[49m\u001b[43mn_points_per_side\u001b[49m\u001b[38;5;241;43m=\u001b[39;49m\u001b[43mn_points_per_side\u001b[49m\u001b[43m)\u001b[49m\n\u001b[0;32m   1303\u001b[0m that_foil \u001b[38;5;241m=\u001b[39m airfoil\u001b[38;5;241m.\u001b[39mrepanel(n_points_per_side\u001b[38;5;241m=\u001b[39mn_points_per_side)\n",
      "File \u001b[1;32m~\\anaconda3\\envs\\MDOHPCA\\lib\\site-packages\\aerosandbox\\geometry\\airfoil\\airfoil.py:967\u001b[0m, in \u001b[0;36mAirfoil.repanel\u001b[1;34m(self, n_points_per_side, spacing_function_per_side)\u001b[0m\n\u001b[0;32m    966\u001b[0m \u001b[38;5;28;01mif\u001b[39;00m np\u001b[38;5;241m.\u001b[39many(np\u001b[38;5;241m.\u001b[39mdiff(distances_from_TE_normalized) \u001b[38;5;241m==\u001b[39m \u001b[38;5;241m0\u001b[39m):\n\u001b[1;32m--> 967\u001b[0m     \u001b[38;5;28;01mraise\u001b[39;00m \u001b[38;5;167;01mValueError\u001b[39;00m(\n\u001b[0;32m    968\u001b[0m         \u001b[38;5;124m\"\u001b[39m\u001b[38;5;124mThis airfoil has a duplicated point (i.e. two adjacent points with the same (x, y) coordinates), so you can\u001b[39m\u001b[38;5;124m'\u001b[39m\u001b[38;5;124mt repanel it!\u001b[39m\u001b[38;5;124m\"\u001b[39m)\n\u001b[0;32m    970\u001b[0m x \u001b[38;5;241m=\u001b[39m interpolate\u001b[38;5;241m.\u001b[39mPchipInterpolator(\n\u001b[0;32m    971\u001b[0m     distances_from_TE_normalized,\n\u001b[0;32m    972\u001b[0m     \u001b[38;5;28mself\u001b[39m\u001b[38;5;241m.\u001b[39mx(),\n\u001b[0;32m    973\u001b[0m )(s)\n",
      "\u001b[1;31mValueError\u001b[0m: This airfoil has a duplicated point (i.e. two adjacent points with the same (x, y) coordinates), so you can't repanel it!",
      "\nDuring handling of the above exception, another exception occurred:\n",
      "\u001b[1;31mValueError\u001b[0m                                Traceback (most recent call last)",
      "Cell \u001b[1;32mIn [626], line 1\u001b[0m\n\u001b[1;32m----> 1\u001b[0m \u001b[43mprob\u001b[49m\u001b[38;5;241;43m.\u001b[39;49m\u001b[43mrun_model\u001b[49m\u001b[43m(\u001b[49m\u001b[43m)\u001b[49m\n",
      "File \u001b[1;32m~\\anaconda3\\envs\\MDOHPCA\\lib\\site-packages\\openmdao\\core\\problem.py:629\u001b[0m, in \u001b[0;36mProblem.run_model\u001b[1;34m(self, case_prefix, reset_iter_counts)\u001b[0m\n\u001b[0;32m    626\u001b[0m     record_model_options(\u001b[38;5;28mself\u001b[39m, \u001b[38;5;28mself\u001b[39m\u001b[38;5;241m.\u001b[39m_run_counter)\n\u001b[0;32m    628\u001b[0m     \u001b[38;5;28mself\u001b[39m\u001b[38;5;241m.\u001b[39mmodel\u001b[38;5;241m.\u001b[39m_clear_iprint()\n\u001b[1;32m--> 629\u001b[0m     \u001b[38;5;28;43mself\u001b[39;49m\u001b[38;5;241;43m.\u001b[39;49m\u001b[43mmodel\u001b[49m\u001b[38;5;241;43m.\u001b[39;49m\u001b[43mrun_solve_nonlinear\u001b[49m\u001b[43m(\u001b[49m\u001b[43m)\u001b[49m\n\u001b[0;32m    630\u001b[0m \u001b[38;5;28;01mfinally\u001b[39;00m:\n\u001b[0;32m    631\u001b[0m     \u001b[38;5;28mself\u001b[39m\u001b[38;5;241m.\u001b[39m_recording_iter\u001b[38;5;241m.\u001b[39mprefix \u001b[38;5;241m=\u001b[39m old_prefix\n",
      "File \u001b[1;32m~\\anaconda3\\envs\\MDOHPCA\\lib\\site-packages\\openmdao\\core\\system.py:4684\u001b[0m, in \u001b[0;36mSystem.run_solve_nonlinear\u001b[1;34m(self)\u001b[0m\n\u001b[0;32m   4678\u001b[0m \u001b[38;5;124;03m\"\"\"\u001b[39;00m\n\u001b[0;32m   4679\u001b[0m \u001b[38;5;124;03mCompute outputs.\u001b[39;00m\n\u001b[0;32m   4680\u001b[0m \n\u001b[0;32m   4681\u001b[0m \u001b[38;5;124;03mThis calls _solve_nonlinear, but with the model assumed to be in an unscaled state.\u001b[39;00m\n\u001b[0;32m   4682\u001b[0m \u001b[38;5;124;03m\"\"\"\u001b[39;00m\n\u001b[0;32m   4683\u001b[0m \u001b[38;5;28;01mwith\u001b[39;00m \u001b[38;5;28mself\u001b[39m\u001b[38;5;241m.\u001b[39m_scaled_context_all():\n\u001b[1;32m-> 4684\u001b[0m     \u001b[38;5;28;43mself\u001b[39;49m\u001b[38;5;241;43m.\u001b[39;49m\u001b[43m_solve_nonlinear\u001b[49m\u001b[43m(\u001b[49m\u001b[43m)\u001b[49m\n",
      "File \u001b[1;32m~\\anaconda3\\envs\\MDOHPCA\\lib\\site-packages\\openmdao\\core\\group.py:2532\u001b[0m, in \u001b[0;36mGroup._solve_nonlinear\u001b[1;34m(self)\u001b[0m\n\u001b[0;32m   2529\u001b[0m name \u001b[38;5;241m=\u001b[39m \u001b[38;5;28mself\u001b[39m\u001b[38;5;241m.\u001b[39mpathname \u001b[38;5;28;01mif\u001b[39;00m \u001b[38;5;28mself\u001b[39m\u001b[38;5;241m.\u001b[39mpathname \u001b[38;5;28;01melse\u001b[39;00m \u001b[38;5;124m'\u001b[39m\u001b[38;5;124mroot\u001b[39m\u001b[38;5;124m'\u001b[39m\n\u001b[0;32m   2531\u001b[0m \u001b[38;5;28;01mwith\u001b[39;00m Recording(name \u001b[38;5;241m+\u001b[39m \u001b[38;5;124m'\u001b[39m\u001b[38;5;124m._solve_nonlinear\u001b[39m\u001b[38;5;124m'\u001b[39m, \u001b[38;5;28mself\u001b[39m\u001b[38;5;241m.\u001b[39miter_count, \u001b[38;5;28mself\u001b[39m):\n\u001b[1;32m-> 2532\u001b[0m     \u001b[38;5;28;43mself\u001b[39;49m\u001b[38;5;241;43m.\u001b[39;49m\u001b[43m_nonlinear_solver\u001b[49m\u001b[38;5;241;43m.\u001b[39;49m\u001b[43m_solve_with_cache_check\u001b[49m\u001b[43m(\u001b[49m\u001b[43m)\u001b[49m\n",
      "File \u001b[1;32m~\\anaconda3\\envs\\MDOHPCA\\lib\\site-packages\\openmdao\\solvers\\solver.py:839\u001b[0m, in \u001b[0;36mNonlinearSolver._solve_with_cache_check\u001b[1;34m(self)\u001b[0m\n\u001b[0;32m    837\u001b[0m         \u001b[38;5;28;01mraise\u001b[39;00m\n\u001b[0;32m    838\u001b[0m \u001b[38;5;28;01melse\u001b[39;00m:\n\u001b[1;32m--> 839\u001b[0m     \u001b[38;5;28;43mself\u001b[39;49m\u001b[38;5;241;43m.\u001b[39;49m\u001b[43msolve\u001b[49m\u001b[43m(\u001b[49m\u001b[43m)\u001b[49m\n",
      "File \u001b[1;32m~\\anaconda3\\envs\\MDOHPCA\\lib\\site-packages\\openmdao\\solvers\\solver.py:589\u001b[0m, in \u001b[0;36mNonlinearSolver.solve\u001b[1;34m(self)\u001b[0m\n\u001b[0;32m    587\u001b[0m \u001b[38;5;28;01mif\u001b[39;00m \u001b[38;5;28mself\u001b[39m\u001b[38;5;241m.\u001b[39moptions[\u001b[38;5;124m'\u001b[39m\u001b[38;5;124mdebug_print\u001b[39m\u001b[38;5;124m'\u001b[39m]:\n\u001b[0;32m    588\u001b[0m     \u001b[38;5;28mself\u001b[39m\u001b[38;5;241m.\u001b[39m_print_exc_debug_info()\n\u001b[1;32m--> 589\u001b[0m \u001b[38;5;28;01mraise\u001b[39;00m err\n",
      "File \u001b[1;32m~\\anaconda3\\envs\\MDOHPCA\\lib\\site-packages\\openmdao\\solvers\\solver.py:585\u001b[0m, in \u001b[0;36mNonlinearSolver.solve\u001b[1;34m(self)\u001b[0m\n\u001b[0;32m    581\u001b[0m \u001b[38;5;124;03m\"\"\"\u001b[39;00m\n\u001b[0;32m    582\u001b[0m \u001b[38;5;124;03mRun the solver.\u001b[39;00m\n\u001b[0;32m    583\u001b[0m \u001b[38;5;124;03m\"\"\"\u001b[39;00m\n\u001b[0;32m    584\u001b[0m \u001b[38;5;28;01mtry\u001b[39;00m:\n\u001b[1;32m--> 585\u001b[0m     \u001b[38;5;28;43mself\u001b[39;49m\u001b[38;5;241;43m.\u001b[39;49m\u001b[43m_solve\u001b[49m\u001b[43m(\u001b[49m\u001b[43m)\u001b[49m\n\u001b[0;32m    586\u001b[0m \u001b[38;5;28;01mexcept\u001b[39;00m \u001b[38;5;167;01mException\u001b[39;00m \u001b[38;5;28;01mas\u001b[39;00m err:\n\u001b[0;32m    587\u001b[0m     \u001b[38;5;28;01mif\u001b[39;00m \u001b[38;5;28mself\u001b[39m\u001b[38;5;241m.\u001b[39moptions[\u001b[38;5;124m'\u001b[39m\u001b[38;5;124mdebug_print\u001b[39m\u001b[38;5;124m'\u001b[39m]:\n",
      "File \u001b[1;32m~\\anaconda3\\envs\\MDOHPCA\\lib\\site-packages\\openmdao\\solvers\\solver.py:629\u001b[0m, in \u001b[0;36mNonlinearSolver._solve\u001b[1;34m(self)\u001b[0m\n\u001b[0;32m    626\u001b[0m \u001b[38;5;28mself\u001b[39m\u001b[38;5;241m.\u001b[39m_mpi_print_header()\n\u001b[0;32m    628\u001b[0m \u001b[38;5;28mself\u001b[39m\u001b[38;5;241m.\u001b[39m_iter_count \u001b[38;5;241m=\u001b[39m \u001b[38;5;241m0\u001b[39m\n\u001b[1;32m--> 629\u001b[0m norm0, norm \u001b[38;5;241m=\u001b[39m \u001b[38;5;28;43mself\u001b[39;49m\u001b[38;5;241;43m.\u001b[39;49m\u001b[43m_iter_initialize\u001b[49m\u001b[43m(\u001b[49m\u001b[43m)\u001b[49m\n\u001b[0;32m    631\u001b[0m \u001b[38;5;28mself\u001b[39m\u001b[38;5;241m.\u001b[39m_norm0 \u001b[38;5;241m=\u001b[39m norm0\n\u001b[0;32m    633\u001b[0m \u001b[38;5;28mself\u001b[39m\u001b[38;5;241m.\u001b[39m_mpi_print(\u001b[38;5;28mself\u001b[39m\u001b[38;5;241m.\u001b[39m_iter_count, norm, norm \u001b[38;5;241m/\u001b[39m norm0)\n",
      "File \u001b[1;32m~\\anaconda3\\envs\\MDOHPCA\\lib\\site-packages\\openmdao\\solvers\\nonlinear\\nonlinear_block_gs.py:109\u001b[0m, in \u001b[0;36mNonlinearBlockGS._iter_initialize\u001b[1;34m(self)\u001b[0m\n\u001b[0;32m    106\u001b[0m \u001b[38;5;66;03m# Execute guess_nonlinear if specified.\u001b[39;00m\n\u001b[0;32m    107\u001b[0m system\u001b[38;5;241m.\u001b[39m_guess_nonlinear()\n\u001b[1;32m--> 109\u001b[0m \u001b[38;5;28;01mreturn\u001b[39;00m \u001b[38;5;28;43msuper\u001b[39;49m\u001b[43m(\u001b[49m\u001b[43m)\u001b[49m\u001b[38;5;241;43m.\u001b[39;49m\u001b[43m_iter_initialize\u001b[49m\u001b[43m(\u001b[49m\u001b[43m)\u001b[49m\n",
      "File \u001b[1;32m~\\anaconda3\\envs\\MDOHPCA\\lib\\site-packages\\openmdao\\solvers\\solver.py:608\u001b[0m, in \u001b[0;36mNonlinearSolver._iter_initialize\u001b[1;34m(self)\u001b[0m\n\u001b[0;32m    605\u001b[0m     \u001b[38;5;28mself\u001b[39m\u001b[38;5;241m.\u001b[39m_err_cache[\u001b[38;5;124m'\u001b[39m\u001b[38;5;124moutputs\u001b[39m\u001b[38;5;124m'\u001b[39m] \u001b[38;5;241m=\u001b[39m system\u001b[38;5;241m.\u001b[39m_outputs\u001b[38;5;241m.\u001b[39m_copy_views()\n\u001b[0;32m    607\u001b[0m \u001b[38;5;28;01mif\u001b[39;00m \u001b[38;5;28mself\u001b[39m\u001b[38;5;241m.\u001b[39moptions[\u001b[38;5;124m'\u001b[39m\u001b[38;5;124mmaxiter\u001b[39m\u001b[38;5;124m'\u001b[39m] \u001b[38;5;241m>\u001b[39m \u001b[38;5;241m0\u001b[39m:\n\u001b[1;32m--> 608\u001b[0m     \u001b[38;5;28;43mself\u001b[39;49m\u001b[38;5;241;43m.\u001b[39;49m\u001b[43m_run_apply\u001b[49m\u001b[43m(\u001b[49m\u001b[43m)\u001b[49m\n\u001b[0;32m    609\u001b[0m     norm \u001b[38;5;241m=\u001b[39m \u001b[38;5;28mself\u001b[39m\u001b[38;5;241m.\u001b[39m_iter_get_norm()\n\u001b[0;32m    610\u001b[0m \u001b[38;5;28;01melse\u001b[39;00m:\n",
      "File \u001b[1;32m~\\anaconda3\\envs\\MDOHPCA\\lib\\site-packages\\openmdao\\solvers\\nonlinear\\nonlinear_block_gs.py:241\u001b[0m, in \u001b[0;36mNonlinearBlockGS._run_apply\u001b[1;34m(self)\u001b[0m\n\u001b[0;32m    239\u001b[0m     system\u001b[38;5;241m.\u001b[39m_transfer(\u001b[38;5;124m'\u001b[39m\u001b[38;5;124mnonlinear\u001b[39m\u001b[38;5;124m'\u001b[39m, \u001b[38;5;124m'\u001b[39m\u001b[38;5;124mfwd\u001b[39m\u001b[38;5;124m'\u001b[39m, subsys\u001b[38;5;241m.\u001b[39mname)\n\u001b[0;32m    240\u001b[0m     \u001b[38;5;28;01mif\u001b[39;00m subsys\u001b[38;5;241m.\u001b[39m_is_local:\n\u001b[1;32m--> 241\u001b[0m         \u001b[43msubsys\u001b[49m\u001b[38;5;241;43m.\u001b[39;49m\u001b[43m_solve_nonlinear\u001b[49m\u001b[43m(\u001b[49m\u001b[43m)\u001b[49m\n\u001b[0;32m    243\u001b[0m \u001b[38;5;28mself\u001b[39m\u001b[38;5;241m.\u001b[39m_solver_info\u001b[38;5;241m.\u001b[39mpop()\n\u001b[0;32m    244\u001b[0m \u001b[38;5;28;01mwith\u001b[39;00m system\u001b[38;5;241m.\u001b[39m_unscaled_context(residuals\u001b[38;5;241m=\u001b[39m[residuals]):\n",
      "File \u001b[1;32m~\\anaconda3\\envs\\MDOHPCA\\lib\\site-packages\\openmdao\\core\\group.py:2532\u001b[0m, in \u001b[0;36mGroup._solve_nonlinear\u001b[1;34m(self)\u001b[0m\n\u001b[0;32m   2529\u001b[0m name \u001b[38;5;241m=\u001b[39m \u001b[38;5;28mself\u001b[39m\u001b[38;5;241m.\u001b[39mpathname \u001b[38;5;28;01mif\u001b[39;00m \u001b[38;5;28mself\u001b[39m\u001b[38;5;241m.\u001b[39mpathname \u001b[38;5;28;01melse\u001b[39;00m \u001b[38;5;124m'\u001b[39m\u001b[38;5;124mroot\u001b[39m\u001b[38;5;124m'\u001b[39m\n\u001b[0;32m   2531\u001b[0m \u001b[38;5;28;01mwith\u001b[39;00m Recording(name \u001b[38;5;241m+\u001b[39m \u001b[38;5;124m'\u001b[39m\u001b[38;5;124m._solve_nonlinear\u001b[39m\u001b[38;5;124m'\u001b[39m, \u001b[38;5;28mself\u001b[39m\u001b[38;5;241m.\u001b[39miter_count, \u001b[38;5;28mself\u001b[39m):\n\u001b[1;32m-> 2532\u001b[0m     \u001b[38;5;28;43mself\u001b[39;49m\u001b[38;5;241;43m.\u001b[39;49m\u001b[43m_nonlinear_solver\u001b[49m\u001b[38;5;241;43m.\u001b[39;49m\u001b[43m_solve_with_cache_check\u001b[49m\u001b[43m(\u001b[49m\u001b[43m)\u001b[49m\n",
      "File \u001b[1;32m~\\anaconda3\\envs\\MDOHPCA\\lib\\site-packages\\openmdao\\solvers\\nonlinear\\nonlinear_runonce.py:26\u001b[0m, in \u001b[0;36mNonlinearRunOnce._solve_with_cache_check\u001b[1;34m(self)\u001b[0m\n\u001b[0;32m     25\u001b[0m \u001b[38;5;28;01mdef\u001b[39;00m \u001b[38;5;21m_solve_with_cache_check\u001b[39m(\u001b[38;5;28mself\u001b[39m):\n\u001b[1;32m---> 26\u001b[0m     \u001b[38;5;28;43mself\u001b[39;49m\u001b[38;5;241;43m.\u001b[39;49m\u001b[43msolve\u001b[49m\u001b[43m(\u001b[49m\u001b[43m)\u001b[49m\n",
      "File \u001b[1;32m~\\anaconda3\\envs\\MDOHPCA\\lib\\site-packages\\openmdao\\solvers\\nonlinear\\nonlinear_runonce.py:45\u001b[0m, in \u001b[0;36mNonlinearRunOnce.solve\u001b[1;34m(self)\u001b[0m\n\u001b[0;32m     41\u001b[0m             subsys\u001b[38;5;241m.\u001b[39m_solve_nonlinear()\n\u001b[0;32m     43\u001b[0m \u001b[38;5;66;03m# If this is not a parallel group, transfer for each subsystem just prior to running it.\u001b[39;00m\n\u001b[0;32m     44\u001b[0m \u001b[38;5;28;01melse\u001b[39;00m:\n\u001b[1;32m---> 45\u001b[0m     \u001b[38;5;28;43mself\u001b[39;49m\u001b[38;5;241;43m.\u001b[39;49m\u001b[43m_gs_iter\u001b[49m\u001b[43m(\u001b[49m\u001b[43m)\u001b[49m\n\u001b[0;32m     47\u001b[0m rec\u001b[38;5;241m.\u001b[39mabs \u001b[38;5;241m=\u001b[39m \u001b[38;5;241m0.0\u001b[39m\n\u001b[0;32m     48\u001b[0m rec\u001b[38;5;241m.\u001b[39mrel \u001b[38;5;241m=\u001b[39m \u001b[38;5;241m0.0\u001b[39m\n",
      "File \u001b[1;32m~\\anaconda3\\envs\\MDOHPCA\\lib\\site-packages\\openmdao\\solvers\\solver.py:800\u001b[0m, in \u001b[0;36mNonlinearSolver._gs_iter\u001b[1;34m(self)\u001b[0m\n\u001b[0;32m    798\u001b[0m \u001b[38;5;28;01mif\u001b[39;00m subsys\u001b[38;5;241m.\u001b[39m_is_local:\n\u001b[0;32m    799\u001b[0m     \u001b[38;5;28;01mtry\u001b[39;00m:\n\u001b[1;32m--> 800\u001b[0m         \u001b[43msubsys\u001b[49m\u001b[38;5;241;43m.\u001b[39;49m\u001b[43m_solve_nonlinear\u001b[49m\u001b[43m(\u001b[49m\u001b[43m)\u001b[49m\n\u001b[0;32m    801\u001b[0m     \u001b[38;5;28;01mexcept\u001b[39;00m AnalysisError \u001b[38;5;28;01mas\u001b[39;00m err:\n\u001b[0;32m    802\u001b[0m         \u001b[38;5;28;01mif\u001b[39;00m \u001b[38;5;124m'\u001b[39m\u001b[38;5;124mreraise_child_analysiserror\u001b[39m\u001b[38;5;124m'\u001b[39m \u001b[38;5;129;01mnot\u001b[39;00m \u001b[38;5;129;01min\u001b[39;00m \u001b[38;5;28mself\u001b[39m\u001b[38;5;241m.\u001b[39moptions \u001b[38;5;129;01mor\u001b[39;00m \\\n\u001b[0;32m    803\u001b[0m                 \u001b[38;5;28mself\u001b[39m\u001b[38;5;241m.\u001b[39moptions[\u001b[38;5;124m'\u001b[39m\u001b[38;5;124mreraise_child_analysiserror\u001b[39m\u001b[38;5;124m'\u001b[39m]:\n",
      "File \u001b[1;32m~\\anaconda3\\envs\\MDOHPCA\\lib\\site-packages\\openmdao\\core\\explicitcomponent.py:312\u001b[0m, in \u001b[0;36mExplicitComponent._solve_nonlinear\u001b[1;34m(self)\u001b[0m\n\u001b[0;32m    310\u001b[0m \u001b[38;5;28;01mwith\u001b[39;00m \u001b[38;5;28mself\u001b[39m\u001b[38;5;241m.\u001b[39m_unscaled_context(outputs\u001b[38;5;241m=\u001b[39m[\u001b[38;5;28mself\u001b[39m\u001b[38;5;241m.\u001b[39m_outputs], residuals\u001b[38;5;241m=\u001b[39m[\u001b[38;5;28mself\u001b[39m\u001b[38;5;241m.\u001b[39m_residuals]):\n\u001b[0;32m    311\u001b[0m     \u001b[38;5;28mself\u001b[39m\u001b[38;5;241m.\u001b[39m_residuals\u001b[38;5;241m.\u001b[39mset_val(\u001b[38;5;241m0.0\u001b[39m)\n\u001b[1;32m--> 312\u001b[0m     \u001b[38;5;28;43mself\u001b[39;49m\u001b[38;5;241;43m.\u001b[39;49m\u001b[43m_compute_wrapper\u001b[49m\u001b[43m(\u001b[49m\u001b[43m)\u001b[49m\n",
      "File \u001b[1;32m~\\anaconda3\\envs\\MDOHPCA\\lib\\site-packages\\openmdao\\core\\explicitcomponent.py:286\u001b[0m, in \u001b[0;36mExplicitComponent._compute_wrapper\u001b[1;34m(self)\u001b[0m\n\u001b[0;32m    283\u001b[0m     \u001b[38;5;28mself\u001b[39m\u001b[38;5;241m.\u001b[39mcompute(\u001b[38;5;28mself\u001b[39m\u001b[38;5;241m.\u001b[39m_inputs, \u001b[38;5;28mself\u001b[39m\u001b[38;5;241m.\u001b[39m_outputs,\n\u001b[0;32m    284\u001b[0m                  \u001b[38;5;28mself\u001b[39m\u001b[38;5;241m.\u001b[39m_discrete_inputs, \u001b[38;5;28mself\u001b[39m\u001b[38;5;241m.\u001b[39m_discrete_outputs)\n\u001b[0;32m    285\u001b[0m \u001b[38;5;28;01melse\u001b[39;00m:\n\u001b[1;32m--> 286\u001b[0m     \u001b[38;5;28mself\u001b[39m\u001b[38;5;241m.\u001b[39mcompute(\u001b[38;5;28mself\u001b[39m\u001b[38;5;241m.\u001b[39m_inputs, \u001b[38;5;28mself\u001b[39m\u001b[38;5;241m.\u001b[39m_outputs)\n",
      "File \u001b[1;32m~\\anaconda3\\envs\\MDOHPCA\\lib\\contextlib.py:137\u001b[0m, in \u001b[0;36m_GeneratorContextManager.__exit__\u001b[1;34m(self, typ, value, traceback)\u001b[0m\n\u001b[0;32m    135\u001b[0m     value \u001b[38;5;241m=\u001b[39m typ()\n\u001b[0;32m    136\u001b[0m \u001b[38;5;28;01mtry\u001b[39;00m:\n\u001b[1;32m--> 137\u001b[0m     \u001b[38;5;28;43mself\u001b[39;49m\u001b[38;5;241;43m.\u001b[39;49m\u001b[43mgen\u001b[49m\u001b[38;5;241;43m.\u001b[39;49m\u001b[43mthrow\u001b[49m\u001b[43m(\u001b[49m\u001b[43mtyp\u001b[49m\u001b[43m,\u001b[49m\u001b[43m \u001b[49m\u001b[43mvalue\u001b[49m\u001b[43m,\u001b[49m\u001b[43m \u001b[49m\u001b[43mtraceback\u001b[49m\u001b[43m)\u001b[49m\n\u001b[0;32m    138\u001b[0m \u001b[38;5;28;01mexcept\u001b[39;00m \u001b[38;5;167;01mStopIteration\u001b[39;00m \u001b[38;5;28;01mas\u001b[39;00m exc:\n\u001b[0;32m    139\u001b[0m     \u001b[38;5;66;03m# Suppress StopIteration *unless* it's the same exception that\u001b[39;00m\n\u001b[0;32m    140\u001b[0m     \u001b[38;5;66;03m# was passed to throw().  This prevents a StopIteration\u001b[39;00m\n\u001b[0;32m    141\u001b[0m     \u001b[38;5;66;03m# raised inside the \"with\" statement from being suppressed.\u001b[39;00m\n\u001b[0;32m    142\u001b[0m     \u001b[38;5;28;01mreturn\u001b[39;00m exc \u001b[38;5;129;01mis\u001b[39;00m \u001b[38;5;129;01mnot\u001b[39;00m value\n",
      "File \u001b[1;32m~\\anaconda3\\envs\\MDOHPCA\\lib\\site-packages\\openmdao\\core\\system.py:2933\u001b[0m, in \u001b[0;36mSystem._call_user_function\u001b[1;34m(self, fname, protect_inputs, protect_outputs, protect_residuals)\u001b[0m\n\u001b[0;32m   2931\u001b[0m         \u001b[38;5;28;01mraise\u001b[39;00m\n\u001b[0;32m   2932\u001b[0m     \u001b[38;5;28;01melse\u001b[39;00m:\n\u001b[1;32m-> 2933\u001b[0m         \u001b[38;5;28;01mraise\u001b[39;00m err_type(\n\u001b[0;32m   2934\u001b[0m             \u001b[38;5;124mf\u001b[39m\u001b[38;5;124m\"\u001b[39m\u001b[38;5;132;01m{\u001b[39;00m\u001b[38;5;28mself\u001b[39m\u001b[38;5;241m.\u001b[39mmsginfo\u001b[38;5;132;01m}\u001b[39;00m\u001b[38;5;124m: Error calling \u001b[39m\u001b[38;5;132;01m{\u001b[39;00mfname\u001b[38;5;132;01m}\u001b[39;00m\u001b[38;5;124m(), \u001b[39m\u001b[38;5;132;01m{\u001b[39;00merr\u001b[38;5;132;01m}\u001b[39;00m\u001b[38;5;124m\"\u001b[39m)\u001b[38;5;241m.\u001b[39mwith_traceback(trace)\n\u001b[0;32m   2935\u001b[0m \u001b[38;5;28;01mfinally\u001b[39;00m:\n\u001b[0;32m   2936\u001b[0m     \u001b[38;5;28mself\u001b[39m\u001b[38;5;241m.\u001b[39m_inputs\u001b[38;5;241m.\u001b[39mread_only \u001b[38;5;241m=\u001b[39m \u001b[38;5;28;01mFalse\u001b[39;00m\n",
      "File \u001b[1;32m~\\anaconda3\\envs\\MDOHPCA\\lib\\site-packages\\openmdao\\core\\system.py:2927\u001b[0m, in \u001b[0;36mSystem._call_user_function\u001b[1;34m(self, fname, protect_inputs, protect_outputs, protect_residuals)\u001b[0m\n\u001b[0;32m   2924\u001b[0m \u001b[38;5;28mself\u001b[39m\u001b[38;5;241m.\u001b[39m_residuals\u001b[38;5;241m.\u001b[39mread_only \u001b[38;5;241m=\u001b[39m protect_residuals\n\u001b[0;32m   2926\u001b[0m \u001b[38;5;28;01mtry\u001b[39;00m:\n\u001b[1;32m-> 2927\u001b[0m     \u001b[38;5;28;01myield\u001b[39;00m\n\u001b[0;32m   2928\u001b[0m \u001b[38;5;28;01mexcept\u001b[39;00m \u001b[38;5;167;01mException\u001b[39;00m:\n\u001b[0;32m   2929\u001b[0m     err_type, err, trace \u001b[38;5;241m=\u001b[39m sys\u001b[38;5;241m.\u001b[39mexc_info()\n",
      "File \u001b[1;32m~\\anaconda3\\envs\\MDOHPCA\\lib\\site-packages\\openmdao\\core\\explicitcomponent.py:283\u001b[0m, in \u001b[0;36mExplicitComponent._compute_wrapper\u001b[1;34m(self)\u001b[0m\n\u001b[0;32m    281\u001b[0m \u001b[38;5;28;01melse\u001b[39;00m:\n\u001b[0;32m    282\u001b[0m     \u001b[38;5;28;01mif\u001b[39;00m \u001b[38;5;28mself\u001b[39m\u001b[38;5;241m.\u001b[39m_discrete_inputs \u001b[38;5;129;01mor\u001b[39;00m \u001b[38;5;28mself\u001b[39m\u001b[38;5;241m.\u001b[39m_discrete_outputs:\n\u001b[1;32m--> 283\u001b[0m         \u001b[38;5;28;43mself\u001b[39;49m\u001b[38;5;241;43m.\u001b[39;49m\u001b[43mcompute\u001b[49m\u001b[43m(\u001b[49m\u001b[38;5;28;43mself\u001b[39;49m\u001b[38;5;241;43m.\u001b[39;49m\u001b[43m_inputs\u001b[49m\u001b[43m,\u001b[49m\u001b[43m \u001b[49m\u001b[38;5;28;43mself\u001b[39;49m\u001b[38;5;241;43m.\u001b[39;49m\u001b[43m_outputs\u001b[49m\u001b[43m,\u001b[49m\n\u001b[0;32m    284\u001b[0m \u001b[43m                     \u001b[49m\u001b[38;5;28;43mself\u001b[39;49m\u001b[38;5;241;43m.\u001b[39;49m\u001b[43m_discrete_inputs\u001b[49m\u001b[43m,\u001b[49m\u001b[43m \u001b[49m\u001b[38;5;28;43mself\u001b[39;49m\u001b[38;5;241;43m.\u001b[39;49m\u001b[43m_discrete_outputs\u001b[49m\u001b[43m)\u001b[49m\n\u001b[0;32m    285\u001b[0m     \u001b[38;5;28;01melse\u001b[39;00m:\n\u001b[0;32m    286\u001b[0m         \u001b[38;5;28mself\u001b[39m\u001b[38;5;241m.\u001b[39mcompute(\u001b[38;5;28mself\u001b[39m\u001b[38;5;241m.\u001b[39m_inputs, \u001b[38;5;28mself\u001b[39m\u001b[38;5;241m.\u001b[39m_outputs)\n",
      "File \u001b[1;32m~\\AppData\\Local\\Temp\\ipykernel_1892\\353348854.py:111\u001b[0m, in \u001b[0;36mderivatives_calc.compute\u001b[1;34m(self, inputs, outputs, discrete_inputs, discrete_outputs)\u001b[0m\n\u001b[0;32m    108\u001b[0m aerodynamic_outputs \u001b[38;5;241m=\u001b[39m discrete_inputs[\u001b[38;5;124m'\u001b[39m\u001b[38;5;124maerodynamic_outputs\u001b[39m\u001b[38;5;124m'\u001b[39m]\n\u001b[0;32m    110\u001b[0m \u001b[38;5;66;03m# Calculates all stability coefficients\u001b[39;00m\n\u001b[1;32m--> 111\u001b[0m derivatives \u001b[38;5;241m=\u001b[39m \u001b[43mall_derivatives_calculator\u001b[49m\u001b[38;5;241;43m.\u001b[39;49m\u001b[43mcalculate\u001b[49m\u001b[43m(\u001b[49m\u001b[43maerodynamic_outputs\u001b[49m\u001b[43m,\u001b[49m\u001b[43m \u001b[49m\n\u001b[0;32m    112\u001b[0m \u001b[43m                                                 \u001b[49m\u001b[43melevator_deflection_angle\u001b[49m\u001b[43m,\u001b[49m\u001b[43m \u001b[49m\n\u001b[0;32m    113\u001b[0m \u001b[43m                                                 \u001b[49m\u001b[43melevator_hinge_position\u001b[49m\u001b[43m,\u001b[49m\u001b[43m    \u001b[49m\n\u001b[0;32m    114\u001b[0m \u001b[43m                                                 \u001b[49m\u001b[43mspan_flap_start\u001b[49m\u001b[43m,\u001b[49m\u001b[43m \u001b[49m\n\u001b[0;32m    115\u001b[0m \u001b[43m                                                 \u001b[49m\u001b[43mspan_flap_end\u001b[49m\u001b[43m,\u001b[49m\n\u001b[0;32m    116\u001b[0m \u001b[43m                                                 \u001b[49m\u001b[43mflap_deflection_angle\u001b[49m\u001b[43m,\u001b[49m\n\u001b[0;32m    117\u001b[0m \u001b[43m                                                 \u001b[49m\u001b[43mflap_hinge_position\u001b[49m\u001b[43m,\u001b[49m\u001b[43m \u001b[49m\n\u001b[0;32m    118\u001b[0m \u001b[43m                                                 \u001b[49m\u001b[43mspan_aileron_start\u001b[49m\u001b[43m,\u001b[49m\u001b[43m \u001b[49m\n\u001b[0;32m    119\u001b[0m \u001b[43m                                                 \u001b[49m\u001b[43mspan_aileron_end\u001b[49m\u001b[43m,\u001b[49m\n\u001b[0;32m    120\u001b[0m \u001b[43m                                                 \u001b[49m\u001b[43maileron_deflection_angle\u001b[49m\u001b[43m,\u001b[49m\n\u001b[0;32m    121\u001b[0m \u001b[43m                                                 \u001b[49m\u001b[43maileron_hinge_position\u001b[49m\u001b[43m)\u001b[49m\n\u001b[0;32m    123\u001b[0m CL_wing \u001b[38;5;241m=\u001b[39m derivatives[\u001b[38;5;124m\"\u001b[39m\u001b[38;5;124mCL\u001b[39m\u001b[38;5;124m\"\u001b[39m]\n\u001b[0;32m    124\u001b[0m CD_wing \u001b[38;5;241m=\u001b[39m derivatives[\u001b[38;5;124m\"\u001b[39m\u001b[38;5;124mCD\u001b[39m\u001b[38;5;124m\"\u001b[39m]\n",
      "File \u001b[1;32m~\\OneDrive\\Documents\\GitHub\\MDOHPCA\\aero\\all_derivatives_calculator.py:24\u001b[0m, in \u001b[0;36mcalculate\u001b[1;34m(aerodynamic_outputs, elevator_deflection_angle, elevator_hinge_position, span_flap_start, span_flap_end, flap_deflection_angle, flap_hinge_position, span_aileron_start, span_aileron_end, aileron_deflection_angle, aileron_hinge_position, cruise_altitude)\u001b[0m\n\u001b[0;32m     22\u001b[0m CL_alpha_dot, CM_alpha_dot \u001b[38;5;241m=\u001b[39m CL_CM_alpha_dot_calculator(aerodynamic_outputs, SLF_output_data, cruise_altitude)\n\u001b[0;32m     23\u001b[0m CLu, CDu, CMu \u001b[38;5;241m=\u001b[39m CLu_CDu_CMu_calculator(aerodynamic_outputs, SLF_output_data, cruise_altitude)\n\u001b[1;32m---> 24\u001b[0m CL_DE, CD_DE, CM_DE \u001b[38;5;241m=\u001b[39m \u001b[43melevator_derivatives\u001b[49m\u001b[43m(\u001b[49m\u001b[43maerodynamic_outputs\u001b[49m\u001b[43m,\u001b[49m\u001b[43m \u001b[49m\u001b[43melevator_deflection_angle\u001b[49m\u001b[43m,\u001b[49m\u001b[43m \u001b[49m\u001b[43melevator_hinge_position\u001b[49m\u001b[43m,\u001b[49m\u001b[43m \u001b[49m\u001b[43mSLF_output_data\u001b[49m\u001b[43m,\u001b[49m\u001b[43m \u001b[49m\u001b[43mcruise_altitude\u001b[49m\u001b[43m)\u001b[49m\n\u001b[0;32m     25\u001b[0m CL_DF, CD_DF, CM_DF \u001b[38;5;241m=\u001b[39m flaps_derivatives(aerodynamic_outputs, span_flap_start, span_flap_end, flap_deflection_angle, flap_hinge_position, SLF_output_data, cruise_altitude)\n\u001b[0;32m     26\u001b[0m CL_DA, CD_DA, CM_DA \u001b[38;5;241m=\u001b[39m flaps_derivatives(aerodynamic_outputs, span_aileron_start, span_aileron_end, aileron_deflection_angle, aileron_hinge_position, SLF_output_data, cruise_altitude)\n",
      "File \u001b[1;32m~\\OneDrive\\Documents\\GitHub\\MDOHPCA\\aero\\all_derivatives_calculator.py:390\u001b[0m, in \u001b[0;36melevator_derivatives\u001b[1;34m(aerodynamic_outputs, elevator_deflection_angle, elevator_hinge_position, SLF_output_data, cruise_altitude)\u001b[0m\n\u001b[0;32m    304\u001b[0m Jeta_1E \u001b[38;5;241m=\u001b[39m Airplane(\n\u001b[0;32m    305\u001b[0m     name\u001b[38;5;241m=\u001b[39m\u001b[38;5;124m\"\u001b[39m\u001b[38;5;124mJETA\u001b[39m\u001b[38;5;124m\"\u001b[39m,\n\u001b[0;32m    306\u001b[0m     xyz_ref\u001b[38;5;241m=\u001b[39m[\u001b[38;5;241m0\u001b[39m, \u001b[38;5;241m0\u001b[39m, \u001b[38;5;241m0\u001b[39m], \u001b[38;5;66;03m# CG location\u001b[39;00m\n\u001b[1;32m   (...)\u001b[0m\n\u001b[0;32m    373\u001b[0m     ]\n\u001b[0;32m    374\u001b[0m )\n\u001b[0;32m    376\u001b[0m aero_problem \u001b[38;5;241m=\u001b[39m VortexLatticeMethod( \u001b[38;5;66;03m# Analysis type: Vortex Lattice Method, version 3\u001b[39;00m\n\u001b[0;32m    377\u001b[0m     airplane\u001b[38;5;241m=\u001b[39mJeta_1E,\n\u001b[0;32m    378\u001b[0m     op_point\u001b[38;5;241m=\u001b[39mOperatingPoint(\n\u001b[1;32m   (...)\u001b[0m\n\u001b[0;32m    387\u001b[0m     \n\u001b[0;32m    388\u001b[0m )\n\u001b[1;32m--> 390\u001b[0m elevator_analysis_output_data \u001b[38;5;241m=\u001b[39m \u001b[43maero_problem\u001b[49m\u001b[38;5;241;43m.\u001b[39;49m\u001b[43mrun\u001b[49m\u001b[43m(\u001b[49m\u001b[43m)\u001b[49m\n\u001b[0;32m    391\u001b[0m CL_DE \u001b[38;5;241m=\u001b[39m (elevator_analysis_output_data[\u001b[38;5;124m\"\u001b[39m\u001b[38;5;124mCL\u001b[39m\u001b[38;5;124m\"\u001b[39m]\u001b[38;5;241m-\u001b[39mSLF_output_data[\u001b[38;5;124m\"\u001b[39m\u001b[38;5;124mCL\u001b[39m\u001b[38;5;124m\"\u001b[39m])\u001b[38;5;241m/\u001b[39melevator_deflection_angle\n\u001b[0;32m    392\u001b[0m CD_DE \u001b[38;5;241m=\u001b[39m (elevator_analysis_output_data[\u001b[38;5;124m\"\u001b[39m\u001b[38;5;124mCD\u001b[39m\u001b[38;5;124m\"\u001b[39m]\u001b[38;5;241m-\u001b[39mSLF_output_data[\u001b[38;5;124m\"\u001b[39m\u001b[38;5;124mCD\u001b[39m\u001b[38;5;124m\"\u001b[39m])\u001b[38;5;241m/\u001b[39melevator_deflection_angle\n",
      "File \u001b[1;32m~\\anaconda3\\envs\\MDOHPCA\\lib\\site-packages\\aerosandbox\\aerodynamics\\aero_3D\\vortex_lattice_method.py:132\u001b[0m, in \u001b[0;36mVortexLatticeMethod.run\u001b[1;34m(self)\u001b[0m\n\u001b[0;32m    130\u001b[0m \u001b[38;5;28;01mfor\u001b[39;00m wing \u001b[38;5;129;01min\u001b[39;00m \u001b[38;5;28mself\u001b[39m\u001b[38;5;241m.\u001b[39mairplane\u001b[38;5;241m.\u001b[39mwings:\n\u001b[0;32m    131\u001b[0m     \u001b[38;5;28;01mif\u001b[39;00m \u001b[38;5;28mself\u001b[39m\u001b[38;5;241m.\u001b[39mspanwise_resolution \u001b[38;5;241m>\u001b[39m \u001b[38;5;241m1\u001b[39m:\n\u001b[1;32m--> 132\u001b[0m         wing \u001b[38;5;241m=\u001b[39m \u001b[43mwing\u001b[49m\u001b[38;5;241;43m.\u001b[39;49m\u001b[43msubdivide_sections\u001b[49m\u001b[43m(\u001b[49m\n\u001b[0;32m    133\u001b[0m \u001b[43m            \u001b[49m\u001b[43mratio\u001b[49m\u001b[38;5;241;43m=\u001b[39;49m\u001b[38;5;28;43mself\u001b[39;49m\u001b[38;5;241;43m.\u001b[39;49m\u001b[43mspanwise_resolution\u001b[49m\u001b[43m,\u001b[49m\n\u001b[0;32m    134\u001b[0m \u001b[43m            \u001b[49m\u001b[43mspacing_function\u001b[49m\u001b[38;5;241;43m=\u001b[39;49m\u001b[38;5;28;43mself\u001b[39;49m\u001b[38;5;241;43m.\u001b[39;49m\u001b[43mspanwise_spacing_function\u001b[49m\n\u001b[0;32m    135\u001b[0m \u001b[43m        \u001b[49m\u001b[43m)\u001b[49m\n\u001b[0;32m    137\u001b[0m     points, faces \u001b[38;5;241m=\u001b[39m wing\u001b[38;5;241m.\u001b[39mmesh_thin_surface(\n\u001b[0;32m    138\u001b[0m         method\u001b[38;5;241m=\u001b[39m\u001b[38;5;124m\"\u001b[39m\u001b[38;5;124mquad\u001b[39m\u001b[38;5;124m\"\u001b[39m,\n\u001b[0;32m    139\u001b[0m         chordwise_resolution\u001b[38;5;241m=\u001b[39m\u001b[38;5;28mself\u001b[39m\u001b[38;5;241m.\u001b[39mchordwise_resolution,\n\u001b[0;32m    140\u001b[0m         chordwise_spacing_function\u001b[38;5;241m=\u001b[39m\u001b[38;5;28mself\u001b[39m\u001b[38;5;241m.\u001b[39mchordwise_spacing_function,\n\u001b[0;32m    141\u001b[0m         add_camber\u001b[38;5;241m=\u001b[39m\u001b[38;5;28;01mTrue\u001b[39;00m\n\u001b[0;32m    142\u001b[0m     )\n\u001b[0;32m    143\u001b[0m     front_left_vertices\u001b[38;5;241m.\u001b[39mappend(points[faces[:, \u001b[38;5;241m0\u001b[39m], :])\n",
      "File \u001b[1;32m~\\anaconda3\\envs\\MDOHPCA\\lib\\site-packages\\aerosandbox\\geometry\\wing.py:1301\u001b[0m, in \u001b[0;36mWing.subdivide_sections\u001b[1;34m(self, ratio, spacing_function)\u001b[0m\n\u001b[0;32m   1299\u001b[0m             blended_airfoil \u001b[38;5;241m=\u001b[39m xsec_b\u001b[38;5;241m.\u001b[39mairfoil\n\u001b[0;32m   1300\u001b[0m         \u001b[38;5;28;01melse\u001b[39;00m:\n\u001b[1;32m-> 1301\u001b[0m             blended_airfoil \u001b[38;5;241m=\u001b[39m \u001b[43mxsec_a\u001b[49m\u001b[38;5;241;43m.\u001b[39;49m\u001b[43mairfoil\u001b[49m\u001b[38;5;241;43m.\u001b[39;49m\u001b[43mblend_with_another_airfoil\u001b[49m\u001b[43m(\u001b[49m\n\u001b[0;32m   1302\u001b[0m \u001b[43m                \u001b[49m\u001b[43mairfoil\u001b[49m\u001b[38;5;241;43m=\u001b[39;49m\u001b[43mxsec_b\u001b[49m\u001b[38;5;241;43m.\u001b[39;49m\u001b[43mairfoil\u001b[49m\u001b[43m,\u001b[49m\n\u001b[0;32m   1303\u001b[0m \u001b[43m                \u001b[49m\u001b[43mblend_fraction\u001b[49m\u001b[38;5;241;43m=\u001b[39;49m\u001b[43mb_weight\u001b[49m\n\u001b[0;32m   1304\u001b[0m \u001b[43m            \u001b[49m\u001b[43m)\u001b[49m\n\u001b[0;32m   1306\u001b[0m         new_xsecs\u001b[38;5;241m.\u001b[39mappend(\n\u001b[0;32m   1307\u001b[0m             WingXSec(\n\u001b[0;32m   1308\u001b[0m                 xyz_le\u001b[38;5;241m=\u001b[39mxsec_a\u001b[38;5;241m.\u001b[39mxyz_le \u001b[38;5;241m*\u001b[39m a_weight \u001b[38;5;241m+\u001b[39m xsec_b\u001b[38;5;241m.\u001b[39mxyz_le \u001b[38;5;241m*\u001b[39m b_weight,\n\u001b[1;32m   (...)\u001b[0m\n\u001b[0;32m   1314\u001b[0m             )\n\u001b[0;32m   1315\u001b[0m         )\n\u001b[0;32m   1317\u001b[0m new_xsecs\u001b[38;5;241m.\u001b[39mappend(\u001b[38;5;28mself\u001b[39m\u001b[38;5;241m.\u001b[39mxsecs[\u001b[38;5;241m-\u001b[39m\u001b[38;5;241m1\u001b[39m])\n",
      "File \u001b[1;32m~\\anaconda3\\envs\\MDOHPCA\\lib\\site-packages\\aerosandbox\\geometry\\airfoil\\airfoil.py:1302\u001b[0m, in \u001b[0;36mAirfoil.blend_with_another_airfoil\u001b[1;34m(self, airfoil, blend_fraction, n_points_per_side)\u001b[0m\n\u001b[0;32m   1279\u001b[0m \u001b[38;5;28;01mdef\u001b[39;00m \u001b[38;5;21mblend_with_another_airfoil\u001b[39m(\u001b[38;5;28mself\u001b[39m,\n\u001b[0;32m   1280\u001b[0m                                airfoil: \u001b[38;5;124m\"\u001b[39m\u001b[38;5;124mAirfoil\u001b[39m\u001b[38;5;124m\"\u001b[39m,\n\u001b[0;32m   1281\u001b[0m                                blend_fraction: \u001b[38;5;28mfloat\u001b[39m \u001b[38;5;241m=\u001b[39m \u001b[38;5;241m0.5\u001b[39m,\n\u001b[0;32m   1282\u001b[0m                                n_points_per_side: \u001b[38;5;28mint\u001b[39m \u001b[38;5;241m=\u001b[39m \u001b[38;5;241m100\u001b[39m,\n\u001b[0;32m   1283\u001b[0m                                ) \u001b[38;5;241m-\u001b[39m\u001b[38;5;241m>\u001b[39m \u001b[38;5;124m\"\u001b[39m\u001b[38;5;124mAirfoil\u001b[39m\u001b[38;5;124m\"\u001b[39m:\n\u001b[0;32m   1284\u001b[0m     \u001b[38;5;124;03m\"\"\"\u001b[39;00m\n\u001b[0;32m   1285\u001b[0m \u001b[38;5;124;03m    Blends this airfoil with another airfoil. Merges both the coordinates and the aerodynamic functions.\u001b[39;00m\n\u001b[0;32m   1286\u001b[0m \n\u001b[1;32m   (...)\u001b[0m\n\u001b[0;32m   1300\u001b[0m \n\u001b[0;32m   1301\u001b[0m \u001b[38;5;124;03m    \"\"\"\u001b[39;00m\n\u001b[1;32m-> 1302\u001b[0m     this_foil \u001b[38;5;241m=\u001b[39m \u001b[38;5;28;43mself\u001b[39;49m\u001b[38;5;241;43m.\u001b[39;49m\u001b[43mrepanel\u001b[49m\u001b[43m(\u001b[49m\u001b[43mn_points_per_side\u001b[49m\u001b[38;5;241;43m=\u001b[39;49m\u001b[43mn_points_per_side\u001b[49m\u001b[43m)\u001b[49m\n\u001b[0;32m   1303\u001b[0m     that_foil \u001b[38;5;241m=\u001b[39m airfoil\u001b[38;5;241m.\u001b[39mrepanel(n_points_per_side\u001b[38;5;241m=\u001b[39mn_points_per_side)\n\u001b[0;32m   1304\u001b[0m     this_fraction \u001b[38;5;241m=\u001b[39m \u001b[38;5;241m1\u001b[39m \u001b[38;5;241m-\u001b[39m blend_fraction\n",
      "File \u001b[1;32m~\\anaconda3\\envs\\MDOHPCA\\lib\\site-packages\\aerosandbox\\geometry\\airfoil\\airfoil.py:967\u001b[0m, in \u001b[0;36mAirfoil.repanel\u001b[1;34m(self, n_points_per_side, spacing_function_per_side)\u001b[0m\n\u001b[0;32m    965\u001b[0m \u001b[38;5;66;03m# Check that there are no duplicate points in the airfoil.\u001b[39;00m\n\u001b[0;32m    966\u001b[0m \u001b[38;5;28;01mif\u001b[39;00m np\u001b[38;5;241m.\u001b[39many(np\u001b[38;5;241m.\u001b[39mdiff(distances_from_TE_normalized) \u001b[38;5;241m==\u001b[39m \u001b[38;5;241m0\u001b[39m):\n\u001b[1;32m--> 967\u001b[0m     \u001b[38;5;28;01mraise\u001b[39;00m \u001b[38;5;167;01mValueError\u001b[39;00m(\n\u001b[0;32m    968\u001b[0m         \u001b[38;5;124m\"\u001b[39m\u001b[38;5;124mThis airfoil has a duplicated point (i.e. two adjacent points with the same (x, y) coordinates), so you can\u001b[39m\u001b[38;5;124m'\u001b[39m\u001b[38;5;124mt repanel it!\u001b[39m\u001b[38;5;124m\"\u001b[39m)\n\u001b[0;32m    970\u001b[0m x \u001b[38;5;241m=\u001b[39m interpolate\u001b[38;5;241m.\u001b[39mPchipInterpolator(\n\u001b[0;32m    971\u001b[0m     distances_from_TE_normalized,\n\u001b[0;32m    972\u001b[0m     \u001b[38;5;28mself\u001b[39m\u001b[38;5;241m.\u001b[39mx(),\n\u001b[0;32m    973\u001b[0m )(s)\n\u001b[0;32m    974\u001b[0m y \u001b[38;5;241m=\u001b[39m interpolate\u001b[38;5;241m.\u001b[39mPchipInterpolator(\n\u001b[0;32m    975\u001b[0m     distances_from_TE_normalized,\n\u001b[0;32m    976\u001b[0m     \u001b[38;5;28mself\u001b[39m\u001b[38;5;241m.\u001b[39my(),\n\u001b[0;32m    977\u001b[0m )(s)\n",
      "\u001b[1;31mValueError\u001b[0m: 'aero.derivatives_calc' <class derivatives_calc>: Error calling compute(), This airfoil has a duplicated point (i.e. two adjacent points with the same (x, y) coordinates), so you can't repanel it!"
     ]
    }
   ],
   "source": [
    "prob.run_model()"
   ]
  },
  {
   "cell_type": "code",
   "execution_count": 625,
   "id": "e8849cd8",
   "metadata": {},
   "outputs": [],
   "source": [
    "#prob.run_driver()"
   ]
  },
  {
   "cell_type": "code",
   "execution_count": null,
   "id": "f6c2a630",
   "metadata": {
    "scrolled": true
   },
   "outputs": [],
   "source": [
    "prob.model.get_design_vars()"
   ]
  },
  {
   "cell_type": "code",
   "execution_count": null,
   "id": "778ac8a2",
   "metadata": {},
   "outputs": [],
   "source": [
    "prob.model.get_val('tank_ratio')"
   ]
  },
  {
   "cell_type": "code",
   "execution_count": null,
   "id": "ee8dbf13",
   "metadata": {},
   "outputs": [],
   "source": [
    "#get properties of specific constants in disciplines\n",
    "#prob.model.sys.options._dict['pp_mass']\n",
    "\n",
    "prob.model.list_outputs()"
   ]
  },
  {
   "cell_type": "code",
   "execution_count": null,
   "id": "dd9dde5c",
   "metadata": {},
   "outputs": [],
   "source": [
    "mass = 6\n",
    "naca_series = '23014'\n",
    "max_allowable_wing_span = 90\n",
    "keyaeronumbers = pd.DataFrame(list([mass,naca_series,max_allowable_wing_span]))\n",
    "keyaeronumbers"
   ]
  },
  {
   "cell_type": "code",
   "execution_count": null,
   "id": "8e028a60",
   "metadata": {},
   "outputs": [],
   "source": [
    "keyaeronumbers = pd.read_csv(\"keyAero.dat\")\n"
   ]
  },
  {
   "cell_type": "code",
   "execution_count": null,
   "id": "bf3195c8",
   "metadata": {},
   "outputs": [],
   "source": [
    "f = pd.DataFrame(keyaeronumbers)"
   ]
  },
  {
   "cell_type": "code",
   "execution_count": null,
   "id": "5b3a55e6",
   "metadata": {},
   "outputs": [],
   "source": [
    "str(int(f.iloc[1]))"
   ]
  },
  {
   "cell_type": "code",
   "execution_count": null,
   "id": "5326cf83",
   "metadata": {},
   "outputs": [],
   "source": []
  }
 ],
 "metadata": {
  "kernelspec": {
   "display_name": "Python 3 (ipykernel)",
   "language": "python",
   "name": "python3"
  },
  "language_info": {
   "codemirror_mode": {
    "name": "ipython",
    "version": 3
   },
   "file_extension": ".py",
   "mimetype": "text/x-python",
   "name": "python",
   "nbconvert_exporter": "python",
   "pygments_lexer": "ipython3",
   "version": "3.9.15"
  }
 },
 "nbformat": 4,
 "nbformat_minor": 5
}
