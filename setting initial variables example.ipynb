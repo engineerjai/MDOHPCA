{
 "cells": [
  {
   "cell_type": "code",
   "execution_count": 110,
   "id": "577e01b9",
   "metadata": {},
   "outputs": [],
   "source": [
    "import pandas as pd\n",
    "import numpy as np\n",
    "\n",
    "#Reads in initial variables excel doc \n",
    "initial_vars = pd.read_excel('variables.xlsx')"
   ]
  },
  {
   "cell_type": "code",
   "execution_count": 111,
   "id": "e2cf5f4b",
   "metadata": {},
   "outputs": [],
   "source": [
    "#parses only variables used in systems to this current code \n",
    "all_sys_vars = pd.DataFrame(np.where(initial_vars['sys'] == True, [initial_vars['variable name'], initial_vars['value']], None)).dropna(axis = 1)\n",
    "\n",
    "#creates a class filled with the variables, e.g. sys.rho = 1.228\n",
    "class sys:\n",
    "    pass\n",
    "i=0\n",
    "for variable in all_sys_vars.iloc[0]:\n",
    "    i+=1\n",
    "    value = allsysvars.iloc[1][i]\n",
    "    setattr(sys, variable, value)\n",
    "\n",
    "# use dir(sys)[-i:] to view all variables set in systems\n",
    "    "
   ]
  }
 ],
 "metadata": {
  "kernelspec": {
   "display_name": "Python 3 (ipykernel)",
   "language": "python",
   "name": "python3"
  },
  "language_info": {
   "codemirror_mode": {
    "name": "ipython",
    "version": 3
   },
   "file_extension": ".py",
   "mimetype": "text/x-python",
   "name": "python",
   "nbconvert_exporter": "python",
   "pygments_lexer": "ipython3",
   "version": "3.9.15"
  }
 },
 "nbformat": 4,
 "nbformat_minor": 5
}
