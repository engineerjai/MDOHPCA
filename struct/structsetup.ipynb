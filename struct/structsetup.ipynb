{
 "cells": [
  {
   "cell_type": "code",
   "execution_count": 4,
   "id": "11ec732e",
   "metadata": {},
   "outputs": [],
   "source": [
    "#import necessary package and collect initial variables\n",
    "import openmdao.api as om\n",
    "%run ../initialvars.ipynb"
   ]
  },
  {
   "cell_type": "code",
   "execution_count": 2,
   "id": "cf4dcdf1",
   "metadata": {},
   "outputs": [],
   "source": [
    "#define discipline group and call analyses \n",
    "class struct(om.Group):\n",
    "    def setup(self):\n",
    "        \n",
    "        self.add_subsystem('d2', analysis2(), promotes_inputs=['W', 'L'], promotes_outputs=['d','m'])\n",
    "        \n",
    "        self.set_input_defaults('W', 80) \n",
    "        \"\"\"wing dimension (span)\"\"\"\n",
    "        self.set_input_defaults('L', 240000) \n",
    "        \"\"\"loads (lift)\"\"\"    \n",
    "        self.nonlinear_solver = om.NonlinearBlockGS()"
   ]
  },
  {
   "cell_type": "code",
   "execution_count": 3,
   "id": "8e1011a8",
   "metadata": {},
   "outputs": [],
   "source": [
    "#define analyses, this can be done in different files if wanted\n",
    "class analysis2(om.ExplicitComponent):\n",
    "    def setup(self):\n",
    "        \n",
    "        self.add_input('L', val = 240000)\n",
    "        self.add_input('W', val = 80)\n",
    "        \n",
    "    def setup_partials(self):\n",
    "    \n",
    "        self.declare_partials('*', '*', method='fd')\n",
    "\n",
    "    def compute(self, inputs, outputs):\n",
    "   \n",
    "        W = inputs['W']\n",
    "        L = inputs['L']\n",
    "        \n",
    "        outputs['d'] = W*L*30\n",
    "        outputs['m'] = W*400"
   ]
  }
 ],
 "metadata": {
  "kernelspec": {
   "display_name": "Python 3 (ipykernel)",
   "language": "python",
   "name": "python3"
  },
  "language_info": {
   "codemirror_mode": {
    "name": "ipython",
    "version": 3
   },
   "file_extension": ".py",
   "mimetype": "text/x-python",
   "name": "python",
   "nbconvert_exporter": "python",
   "pygments_lexer": "ipython3",
   "version": "3.9.15"
  }
 },
 "nbformat": 4,
 "nbformat_minor": 5
}
