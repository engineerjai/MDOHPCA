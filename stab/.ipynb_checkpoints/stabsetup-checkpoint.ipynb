{
 "cells": [
  {
   "cell_type": "code",
   "execution_count": 4,
   "id": "11ec732e",
   "metadata": {},
   "outputs": [],
   "source": [
    "#import necessary package and collect initial variables\n",
    "import openmdao.api as om\n"
   ]
  },
  {
   "cell_type": "code",
   "execution_count": 7,
   "id": "cf4dcdf1",
   "metadata": {},
   "outputs": [],
   "source": [
    "#define discipline group and call analyses \n",
    "class stab(om.Group):\n",
    "    def setup(self):\n",
    "        a = 3"
   ]
  },
  {
   "cell_type": "code",
   "execution_count": null,
   "id": "ce7b360c",
   "metadata": {},
   "outputs": [],
   "source": []
  }
 ],
 "metadata": {
  "kernelspec": {
   "display_name": "Python 3 (ipykernel)",
   "language": "python",
   "name": "python3"
  },
  "language_info": {
   "codemirror_mode": {
    "name": "ipython",
    "version": 3
   },
   "file_extension": ".py",
   "mimetype": "text/x-python",
   "name": "python",
   "nbconvert_exporter": "python",
   "pygments_lexer": "ipython3",
   "version": "3.9.15"
  }
 },
 "nbformat": 4,
 "nbformat_minor": 5
}
