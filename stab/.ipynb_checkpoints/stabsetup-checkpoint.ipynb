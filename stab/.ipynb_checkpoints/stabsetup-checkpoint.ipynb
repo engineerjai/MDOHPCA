{
 "cells": [
  {
   "cell_type": "code",
   "execution_count": 1,
   "id": "11ec732e",
   "metadata": {},
   "outputs": [],
   "source": [
    "#import necessary package and collect initial variables\n",
    "import openmdao.api as om\n",
    "%run ../initialvars.ipynb"
   ]
  },
  {
   "cell_type": "code",
   "execution_count": 2,
   "id": "cf4dcdf1",
   "metadata": {},
   "outputs": [
    {
     "ename": "IndentationError",
     "evalue": "expected an indented block (266218981.py, line 4)",
     "output_type": "error",
     "traceback": [
      "\u001b[1;36m  Cell \u001b[1;32mIn [2], line 4\u001b[1;36m\u001b[0m\n\u001b[1;33m    \u001b[0m\n\u001b[1;37m    ^\u001b[0m\n\u001b[1;31mIndentationError\u001b[0m\u001b[1;31m:\u001b[0m expected an indented block\n"
     ]
    }
   ],
   "source": [
    "#define discipline group and call analyses \n",
    "class stab(om.Group):\n",
    "    def setup(self):\n",
    "    "
   ]
  }
 ],
 "metadata": {
  "kernelspec": {
   "display_name": "Python 3 (ipykernel)",
   "language": "python",
   "name": "python3"
  },
  "language_info": {
   "codemirror_mode": {
    "name": "ipython",
    "version": 3
   },
   "file_extension": ".py",
   "mimetype": "text/x-python",
   "name": "python",
   "nbconvert_exporter": "python",
   "pygments_lexer": "ipython3",
   "version": "3.9.15"
  }
 },
 "nbformat": 4,
 "nbformat_minor": 5
}
