{
 "cells": [
  {
   "cell_type": "code",
   "execution_count": 1,
   "id": "11ec732e",
   "metadata": {},
   "outputs": [],
   "source": [
    "#import necessary package and collect initial variables\n",
    "import openmdao.api as om\n",
    "import ast\n",
    "import pandas as pd\n",
    "from cruise_conditions_calculator import cruise_conditions_calculator"
   ]
  },
  {
   "cell_type": "code",
   "execution_count": 2,
   "id": "cf4dcdf1",
   "metadata": {},
   "outputs": [],
   "source": [
    "#define discipline group and call analyses \n",
    "class stab(om.Group):\n",
    "    def initialize(self):\n",
    "        \n",
    "        #read all excel constants        \n",
    "        initial_vars = pd.read_excel('constants.xlsx')\n",
    "        \n",
    "        #sort for just the systems constants\n",
    "        all_stab_vars = np.where(initial_vars['stab'] == True, [initial_vars['variable name'], initial_vars['value'], initial_vars['description']], None)\n",
    "        \n",
    "        #create a DataFrame for the systems variables to pull from in individual analyses\n",
    "        all_stab_vars = pd.DataFrame(all_stab_vars).dropna(axis = 1).transpose()\n",
    "        \n",
    "        #pass variables into the correct openMDAO format, passing name, description and value\n",
    "        i=0\n",
    "        for variable in all_stab_vars[0]:\n",
    "            value = all_stab_vars.iloc[i][1]\n",
    "            description = all_stab_vars.iloc[i][2]\n",
    "            self.options.declare(variable, default = value, desc = description)\n",
    "            i+=1\n",
    "        i=0\n",
    "        \n",
    "    def setup(self):\n",
    "        #set analysis (subsystem) names and what inputs they take and give\n",
    "        self.add_subsystem('derivatives_calc', derivatives_calc())\n",
    "    \n",
    "    def configure(self):\n",
    "        #promote all variables (lazy option, they can be connected individually)\n",
    "        self.promotes('derivatives_calc',any=['*'])"
   ]
  },
  {
   "cell_type": "code",
   "execution_count": 3,
   "id": "ce7b360c",
   "metadata": {},
   "outputs": [
    {
     "ename": "IndentationError",
     "evalue": "expected an indented block (3003887817.py, line 26)",
     "output_type": "error",
     "traceback": [
      "\u001b[1;36m  Cell \u001b[1;32mIn [3], line 26\u001b[1;36m\u001b[0m\n\u001b[1;33m    #start by redefining the constants if you want to use them in a simpler form\u001b[0m\n\u001b[1;37m                                                                                ^\u001b[0m\n\u001b[1;31mIndentationError\u001b[0m\u001b[1;31m:\u001b[0m expected an indented block\n"
     ]
    }
   ],
   "source": [
    "class derivatives_calc(om.ExplicitComponent):\n",
    "    def initialize(self):\n",
    "        #take constants from group a level above\n",
    "        self.options.declare('v',prob.model.sys.options['V'])\n",
    "        self.options.declare('rho',prob.model.sys.options['rho'])\n",
    "\n",
    "        #carry this on to declare all constants used from constants file\n",
    "        \n",
    "    def setup(self):\n",
    "        self.add_input('chord_root')\n",
    "        self.add_input('chord_tip')\n",
    "        \n",
    "        #add all inputs that will come from other disciplines \n",
    "        \n",
    "        #set the constraints as outputs and then add the constraint on them as follows:\n",
    "        self.add_output('CM_alpha')\n",
    "        self.add_constraint('CM_alpha', upper = 0)\n",
    "        \n",
    "        self.add_output('cmq')\n",
    "        self.add_constraint('cmq', upper = 0)\n",
    "        \n",
    "        #carry this on \n",
    "        \n",
    "    def compute(self,inputs,outputs):\n",
    "        \n",
    "        #start by redefining the constants and inputs if you want to use them in a simpler form:\n",
    "        v = self.options['v']\n",
    "        rho = self.options['rho']\n",
    "        #...\n",
    "        root_chord = inputs['chord_root']\n",
    "        tip_chord = inputs['chord_tip']\n",
    "        #...\n",
    "        \n",
    "        #this is the space for calculations \n",
    "        \n",
    "        #declare what your outputs are\n",
    "        \n",
    "        outputs['CM_alpha'] = #some function \n",
    "        outputs['cmq'] = #another function"
   ]
  },
  {
   "cell_type": "code",
   "execution_count": null,
   "id": "7119c70b",
   "metadata": {},
   "outputs": [],
   "source": []
  }
 ],
 "metadata": {
  "kernelspec": {
   "display_name": "Python 3 (ipykernel)",
   "language": "python",
   "name": "python3"
  },
  "language_info": {
   "codemirror_mode": {
    "name": "ipython",
    "version": 3
   },
   "file_extension": ".py",
   "mimetype": "text/x-python",
   "name": "python",
   "nbconvert_exporter": "python",
   "pygments_lexer": "ipython3",
   "version": "3.9.15"
  }
 },
 "nbformat": 4,
 "nbformat_minor": 5
}
