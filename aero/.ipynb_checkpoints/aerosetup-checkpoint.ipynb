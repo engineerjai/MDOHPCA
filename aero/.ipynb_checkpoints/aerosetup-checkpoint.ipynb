{
 "cells": [
  {
   "cell_type": "code",
   "execution_count": 4,
   "id": "11ec732e",
   "metadata": {},
   "outputs": [],
   "source": [
    "#import necessary package and collect initial variables\n",
    "import openmdao.api as om\n",
    "%run ../initialvars.ipynb"
   ]
  },
  {
   "cell_type": "code",
   "execution_count": 2,
   "id": "cf4dcdf1",
   "metadata": {},
   "outputs": [],
   "source": [
    "#define discipline group and call analyses \n",
    "class aero(om.Group):\n",
    "    def setup(self):\n",
    "        \n",
    "        self.add_subsystem('d1', analysis1(), promotes_inputs=['d', 'm'], promotes_outputs=['L','W'])\n",
    "        \"\"\"\n",
    "        create analysis subsystem (above) and define default inputs to discipline group (below)\n",
    "        \"\"\"\n",
    "        self.set_input_defaults('d', 1.0) \n",
    "        \"\"\"deflection\"\"\"\n",
    "        self.set_input_defaults('m', 240000) \n",
    "        \"\"\"mass\"\"\"   \n",
    "        self.nonlinear_solver = om.NonlinearBlockGS()"
   ]
  },
  {
   "cell_type": "code",
   "execution_count": 3,
   "id": "8e1011a8",
   "metadata": {},
   "outputs": [],
   "source": [
    "#define analyses, this can be done in different files if wanted\n",
    "class analysis1(om.ExplicitComponent):\n",
    "    \"\"\"\n",
    "    Sample analysis definition, with inputs & outputs \n",
    "    \"\"\"\n",
    "\n",
    "    def setup(self):\n",
    "\n",
    "        \"\"\"defining input vars\"\"\"\n",
    "        self.add_input('d', val = 0.1)\n",
    "        self.add_input('m', val = 240000)\n",
    "    def setup_partials(self):\n",
    "        \"\"\"declare whether partials will be used for solving\"\"\"\n",
    "        self.declare_partials('*', '*', method='fd')\n",
    "\n",
    "    def compute(self, inputs, outputs):\n",
    "        \"\"\"\n",
    "        Evaluates the equation\n",
    "        \"\"\"\n",
    "        d = inputs['d']\n",
    "        m = inputs['m']\n",
    "        \n",
    "        outputs['L'] = 2*d*(m^2)\n",
    "        outputs['W'] = 8000*d"
   ]
  }
 ],
 "metadata": {
  "kernelspec": {
   "display_name": "Python 3 (ipykernel)",
   "language": "python",
   "name": "python3"
  },
  "language_info": {
   "codemirror_mode": {
    "name": "ipython",
    "version": 3
   },
   "file_extension": ".py",
   "mimetype": "text/x-python",
   "name": "python",
   "nbconvert_exporter": "python",
   "pygments_lexer": "ipython3",
   "version": "3.9.15"
  }
 },
 "nbformat": 4,
 "nbformat_minor": 5
}
