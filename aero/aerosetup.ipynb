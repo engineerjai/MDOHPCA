{
 "cells": [
  {
   "cell_type": "code",
   "execution_count": 4,
   "id": "11ec732e",
   "metadata": {},
   "outputs": [],
   "source": [
    "#import necessary package and collect initial variables\n",
    "import openmdao.api as om\n"
   ]
  },
  {
   "cell_type": "code",
   "execution_count": 2,
   "id": "cf4dcdf1",
   "metadata": {},
   "outputs": [],
   "source": [
    "#define discipline group and call analyses \n",
    "class aero(om.Group):\n",
    "    def setup(self):\n",
    "        \n",
    "        pass"
   ]
  },
  {
   "cell_type": "code",
   "execution_count": 3,
   "id": "8e1011a8",
   "metadata": {},
   "outputs": [],
   "source": [
    "#define analyses, this can be done in different files if wanted\n",
    "class analysis1(om.ExplicitComponent):\n",
    "    \"\"\"\n",
    "    Sample analysis definition, with inputs & outputs \n",
    "    \"\"\"\n",
    "\n",
    "    def setup(self):\n",
    "\n",
    "        pass\n",
    "    \n",
    "    def setup_partials(self):\n",
    "        pass\n",
    "\n",
    "    def compute(self, inputs, outputs):\n",
    "        pass"
   ]
  }
 ],
 "metadata": {
  "kernelspec": {
   "display_name": "Python 3 (ipykernel)",
   "language": "python",
   "name": "python3"
  },
  "language_info": {
   "codemirror_mode": {
    "name": "ipython",
    "version": 3
   },
   "file_extension": ".py",
   "mimetype": "text/x-python",
   "name": "python",
   "nbconvert_exporter": "python",
   "pygments_lexer": "ipython3",
   "version": "3.9.15"
  }
 },
 "nbformat": 4,
 "nbformat_minor": 5
}
